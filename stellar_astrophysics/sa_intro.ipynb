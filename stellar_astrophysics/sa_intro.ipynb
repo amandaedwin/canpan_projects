{
 "cells": [
  {
   "cell_type": "code",
   "execution_count": 1,
   "metadata": {
    "slideshow": {
     "slide_type": "skip"
    }
   },
   "outputs": [],
   "source": [
    "from IPython.display import Image, HTML, display, IFrame"
   ]
  },
  {
   "cell_type": "markdown",
   "metadata": {
    "slideshow": {
     "slide_type": "slide"
    }
   },
   "source": [
    "<center> \n",
    "<h1> CaNPAN Projects</h1>\n",
    "<h2> Introduction to Stellar [Astro]physics </h2>\n",
    "($\\alpha\\sigma\\tau\\eta\\rho$ means ``a star'' in Greek)\n",
    "</center>"
   ]
  },
  {
   "cell_type": "markdown",
   "metadata": {
    "slideshow": {
     "slide_type": "slide"
    }
   },
   "source": [
    "<center>\n",
    "<h4> The Evolution of the Universe </h4>\n",
    "<img src=\"img/BigBang.jpg\", width=1100>\n",
    "\n",
    "<small>The present age of the Universe is 13.8 Gyr. During inflation, between $10^{-36}$ s and $10^{-32}$ s, the Universe had expanded by a factor of at least $e^{60}\\approx 10^{26}$.</small>\n",
    "</center>"
   ]
  },
  {
   "cell_type": "markdown",
   "metadata": {
    "slideshow": {
     "slide_type": "slide"
    }
   },
   "source": [
    "<center>\n",
    "<h3> What is the Universe Made Of? (WMAP, NASA)</h3>\n",
    "<img src=\"img/WMAPPieChart.png\", width=800>\n",
    "</br>\n",
    "<h4> Only about 10% of atoms (less than 0.5% of the total content of the Universe) are in stars, the rest of them being in the form of intergalactic gas</h4>\n",
    "</center>"
   ]
  },
  {
   "cell_type": "markdown",
   "metadata": {
    "slideshow": {
     "slide_type": "slide"
    }
   },
   "source": [
    "<center>\n",
    "<h4> But stars make the most of the glowing matter of the Milky Way </h4>\n",
    "<img src=\"img/MWCentre.jpg\", width=1200>\n",
    "</center>"
   ]
  },
  {
   "cell_type": "markdown",
   "metadata": {
    "slideshow": {
     "slide_type": "slide"
    }
   },
   "source": [
    "<center>\n",
    "<h4> and of other galaxies </h4>\n",
    "<img src=\"img/DistantGalaxies.jpg\", width=1200>\n",
    "</center>"
   ]
  },
  {
   "cell_type": "markdown",
   "metadata": {
    "slideshow": {
     "slide_type": "slide"
    }
   },
   "source": [
    "<center>\n",
    "<h4> The Big Bang Nucleosynthesis </h4>\n",
    "<img src=\"img/BBN_iso_time.jpg\", width=1000>\n",
    "</center>"
   ]
  },
  {
   "cell_type": "markdown",
   "metadata": {
    "slideshow": {
     "slide_type": "slide"
    }
   },
   "source": [
    "<h3><center>Mass fractions of light isotopes</center></h3>\n",
    "\n",
    "| Isotope | Big Bang  | Solar |\n",
    "|-------------- | ------------- | ------------- |\n",
    "| $^1$H | 0.753              | 0.715          |\n",
    "| $^2$H | 1.94e-5  | 1.43e-5 |\n",
    "| $^3$He | 7.53e-6  | 4.49e-5 |\n",
    "| $^4$He | 0.247  | 0.270 |\n",
    "| $^6$Li | 9.70e-15  | 6.44e-10 |\n",
    "| $^7$Li | 3.50e-10  | 9.15e-9 |"
   ]
  },
  {
   "cell_type": "markdown",
   "metadata": {
    "slideshow": {
     "slide_type": "slide"
    }
   },
   "source": [
    "<center>\n",
    "<h4>All the chemical elements heavier than Li were synthesized in stars (in the so-called \"stellar nucleosynthesis\").</h4>\n",
    "<center>\n",
    "<img src=\"img/periodic_table_small_v3.png\", width=1200>\n",
    "</center>"
   ]
  },
  {
   "cell_type": "markdown",
   "metadata": {
    "slideshow": {
     "slide_type": "slide"
    }
   },
   "source": [
    "<center>\n",
    "<img src=\"img/human-body-infographics.jpg\", width=1000>\n",
    "</center>"
   ]
  },
  {
   "cell_type": "markdown",
   "metadata": {
    "slideshow": {
     "slide_type": "slide"
    }
   },
   "source": [
    "<center>\n",
    "<img src=\"img/EarthComposition.jpg\", width=800>\n",
    "</center>"
   ]
  },
  {
   "cell_type": "markdown",
   "metadata": {
    "slideshow": {
     "slide_type": "slide"
    }
   },
   "source": [
    "<center>\n",
    "<h4>Solar system elemental abundances</h4>\n",
    "<img src=\"img/SolarComposition.jpg\", width=1200>\n",
    "</center>"
   ]
  },
  {
   "cell_type": "markdown",
   "metadata": {
    "slideshow": {
     "slide_type": "slide"
    }
   },
   "source": [
    "<h4><center>The protosolar chemical composition (from Asplund et al. ARAA, 2009, 47, 481) of</center></h4>\n",
    "\n",
    "Anders & Grevesse (1989): $Z=0.0213$, $Y=0.2691$\n",
    "\n",
    "Grevesse and Noels (1993): $Z=0.0190$, $Y=0.2697$\n",
    "\n",
    "Grevesse and Sauval (1998): $Z=0.0180$, $ Y=0.2701$\n",
    "\n",
    "Lodders (2003): $Z=0.0149$, $Y=0.2741$\n",
    "\n",
    "Asplund, Grevesse, and Sauval (2005): $Z=0.0130$, $Y=0.2704$\n",
    "\n",
    "Asplund, Grevesse, Sauval, and Scott (2009): $Z=0.0142$, $Y=0.2703$\n",
    "\n",
    "Lodders, Palme, and Gail 2009 (L09): $Z=0.0153$, $Y=0.2735$"
   ]
  },
  {
   "cell_type": "markdown",
   "metadata": {
    "collapsed": true,
    "slideshow": {
     "slide_type": "slide"
    }
   },
   "source": [
    "<center>\n",
    "<img src=\"img/clusterHRD.jpeg\", width=1400>\n",
    "</center>"
   ]
  },
  {
   "cell_type": "markdown",
   "metadata": {
    "collapsed": true,
    "slideshow": {
     "slide_type": "slide"
    }
   },
   "source": [
    "<center>\n",
    "<img src=\"img/hrd_pinterest.jpg\", width=1000>\n",
    "</center>"
   ]
  },
  {
   "cell_type": "markdown",
   "metadata": {
    "slideshow": {
     "slide_type": "slide"
    }
   },
   "source": [
    "<center>\n",
    "<h3>Definition of a star</h3>\n",
    "</center>\n",
    "</br>\n",
    "<h4> A star is a gravitationally bound spatially isolated mass of baryonic matter\n",
    "that is opaque for radiation, in which thermonuclear reactions transforming hydrogen into helium\n",
    "had either occurred in the past, occurring at present, or will occur in the future on a relatively large scale."
   ]
  },
  {
   "cell_type": "markdown",
   "metadata": {
    "slideshow": {
     "slide_type": "slide"
    }
   },
   "source": [
    "<center>\n",
    "<h3> Physics of stellar interiors benefits from</h3>\n",
    "<ul style=\"margin-left: 8px; margin-right: 8px;\">\n",
    "<li>Classical mechanics</li>\n",
    "<li>Hydrodynamics</li>\n",
    "<li> Radiative transfer theory</li>\n",
    "<li>Thermodynamics and statistical mechanics</li>\n",
    "<li>Atomic and molecular physics</li>\n",
    "<li>Nuclear physics</li>\n",
    "<li>Quantum mechanics</li>\n",
    "<li> General relativity</li>\n",
    "<li>Electromagnetism</li>\n",
    "<li>Solid-state physics</li>\n",
    "</ul>\n",
    "<h4> and deals with matter in conditions that are not attainable\n",
    "in laboratory experiments on the Earth</h4>\n",
    "</center>"
   ]
  },
  {
   "cell_type": "markdown",
   "metadata": {
    "slideshow": {
     "slide_type": "slide"
    }
   },
   "source": [
    "<h4><center>The partial differential equations (PDEs) of stellar structure and evolution are</center></h4>\n",
    "\n",
    "\n",
    "$$\n",
    "\\frac{\\partial P}{\\partial r} = -g\\rho = -\\frac{GM_r}{r^2}\\rho\\ \\mathrm{\\it(equation\\ of\\ hydrostatic\\ equilibrium)},\\\\\n",
    "\\frac{\\partial M_r}{\\partial r} = 4\\pi r^2\\rho\\ \\mathrm{\\it(mass\\ conservation\\ equation)},\\\\\n",
    "\\frac{\\partial T}{\\partial r} = \\frac{T}{P}\\frac{\\partial P}{\\partial r}\\nabla\\ \\mathrm{\\it(temperature\\ equation)},\\ \\\\ \\mathrm{and}\\\\\n",
    "\\frac{\\partial L_r}{\\partial r} = \\frac{\\partial L_r}{\\partial M_r}\\frac{\\partial M_r}{\\partial r}\\ \\mathrm{\\it(energy\\ conservation\\ equation)},\\\\\n",
    "\\\\ \\mathrm{where}\\\\ \n",
    "\\frac{\\partial L_r}{\\partial M_r} = \\varepsilon_\\mathrm{n} + \\varepsilon_\\mathrm{g} -\n",
    "\\varepsilon_\\nu.\n",
    "$$\n",
    "\n",
    "In these equations, $P$ is the pressure, $r$ is the distance from the center to the surface of a sphere of\n",
    "mass $M_r$ and luminosity $L_r$, $\\rho$ is the density, $G$ is Newton's gravitational constant, $g$ is the gravitational acceleration, $\\varepsilon_\\mathrm{n}$, $\\varepsilon_\\mathrm{g}$ and $\\varepsilon_\\nu$ are the rates (per unit mass) of energy generation or loss\n",
    "due to nuclear reactions (n), gravitational contraction or expansion (g), and neutrino production ($\\nu$), respectively."
   ]
  },
  {
   "cell_type": "markdown",
   "metadata": {
    "slideshow": {
     "slide_type": "slide"
    }
   },
   "source": [
    "The temperature gradient $\\frac{\\partial T}{\\partial r}$ depends on how fast heat is transported by radiation and convection, which is determined by $\\nabla = \\frac{d\\ln P}{d\\ln T}$. \n",
    "\n",
    "For an efficient (non-leaky) convective heat transport deep inside a star, \n",
    "$\\nabla = \\nabla_\\mathrm{ad} = \\left(\\frac{\\partial\\ln P}{\\partial\\ln T}\\right)_S$.\n",
    "\n",
    "For radiative heat transport,\n",
    "$$\n",
    "\\nabla = \\nabla_\\mathrm{rad} = \\frac{3\\varkappa}{16\\pi G a c}\\frac{L_r}{M_r}\\frac{P}{T^4},\n",
    "$$\n",
    "\n",
    "where $a$ is the radiation constant and $\\varkappa$ is the Rosseland mean opacity of stellar material.\n",
    "\n",
    "The gravitational energy rate is\n",
    "$$\n",
    "\\varepsilon_\\mathrm{g} = -\\frac{\\partial Q}{\\partial t} = -\\frac{\\partial U}{\\partial t} + \\frac{P}{\\rho^2}\\frac{\\partial\\rho}{\\partial t} =\n",
    "-C_P\\left(\\frac{\\partial T}{\\partial t} - \\nabla_\\mathrm{ad}\\frac{T}{P}\\frac{\\partial P}{\\partial t}\\right),\n",
    "$$\n",
    "\n",
    "where $U$ is the inernal (thermal) energy per unit mass and $C_P$ is the specific (per unit mass) heat at constant pressure.\n",
    "\n",
    "$P$, $U$, $C_P$, $\\nabla_\\mathrm{ad}$, $\\varkappa$, $\\varepsilon_\\mathrm{n}$ and $\\varepsilon_\\nu$ are all provided as functions of $T$, $\\rho$ and chemical composition $(X,Y,Z)$ by the so-called ''input physics'' data. "
   ]
  },
  {
   "cell_type": "markdown",
   "metadata": {
    "slideshow": {
     "slide_type": "slide"
    }
   },
   "source": [
    "<center>\n",
    "<h4> A fragment of the chart of nuclides </h4>\n",
    "<img src=\"img/AChartOfNuclides.jpg\", width=1400>\n",
    "</center>"
   ]
  },
  {
   "cell_type": "markdown",
   "metadata": {
    "slideshow": {
     "slide_type": "slide"
    }
   },
   "source": [
    "<center>\n",
    "<h4> The nuclear binding energy (per nucleon) </h4>\n",
    "<img src=\"img/BindingEnergy.gif\", width=1200>\n",
    "</center>"
   ]
  },
  {
   "cell_type": "markdown",
   "metadata": {
    "slideshow": {
     "slide_type": "slide"
    }
   },
   "source": [
    "<center>\n",
    "<h4> Proton-proton (pp) chains </h4>\n",
    "<img src=\"img/pp_chains.png\", width=1600>\n",
    "</center>"
   ]
  },
  {
   "cell_type": "markdown",
   "metadata": {
    "slideshow": {
     "slide_type": "slide"
    }
   },
   "source": [
    "<center>\n",
    "<h4> Solar neutrino spectrum for pp chain reactions (from Bahcall and Serenelli 2005, ApJ 626, 530)</h4>\n",
    "<img src=\"img/solar-neutrino-spectrum.png\", width=1000>\n",
    "<small> The total neutrino flux at Earth is $\\sim\\,7\\times 10^{10}\\ \\mathrm{cm}^{-2}\\,\\mathrm{s}^{-1}$</small>\n",
    "</center>"
   ]
  },
  {
   "cell_type": "markdown",
   "metadata": {
    "slideshow": {
     "slide_type": "slide"
    }
   },
   "source": [
    "<center>\n",
    "<h4> CNO cycles </h4>\n",
    "<img src=\"img/cno_cycles.png\", width=1200>\n",
    "</center>"
   ]
  },
  {
   "cell_type": "markdown",
   "metadata": {
    "slideshow": {
     "slide_type": "slide"
    }
   },
   "source": [
    "<center>\n",
    "<h4> NeNa and MgAl cycles </h4>\n",
    "<img src=\"img/neon_sodium_cycles.png\", width=1200>\n",
    "</center>"
   ]
  },
  {
   "cell_type": "markdown",
   "metadata": {
    "slideshow": {
     "slide_type": "slide"
    }
   },
   "source": [
    "<center>\n",
    "<h4> The Coulomb barrier (the 2nd effect is the angular momentum conservation)</h4>\n",
    "<img src=\"img/CoulombBarrier.jpg\", width=1200>\n",
    "</center>"
   ]
  },
  {
   "cell_type": "markdown",
   "metadata": {
    "slideshow": {
     "slide_type": "slide"
    }
   },
   "source": [
    "<center>\n",
    "<h4> The Gamow peak </h4>\n",
    "<img src=\"img/GamowPeak.png\", width=1000>\n",
    "</center>"
   ]
  },
  {
   "cell_type": "markdown",
   "metadata": {
    "slideshow": {
     "slide_type": "slide"
    }
   },
   "source": [
    "<center>\n",
    "<h4> S factor for a resonant reaction </h4>\n",
    "<img src=\"img/Be7pSfactor.jpg\", width=1000>\n",
    "</center>"
   ]
  },
  {
   "cell_type": "markdown",
   "metadata": {
    "slideshow": {
     "slide_type": "slide"
    }
   },
   "source": [
    "<center>\n",
    "<h4> pp chains versus CNO cycle </h4>\n",
    "<img src=\"img/ppcnoenergy.gif\", width=1200>\n",
    "</center>"
   ]
  },
  {
   "cell_type": "markdown",
   "metadata": {
    "slideshow": {
     "slide_type": "slide"
    }
   },
   "source": [
    "<center>\n",
    "<img src=\"img/triplealpha.jpg\", width=1200>\n",
    "</center>"
   ]
  },
  {
   "cell_type": "code",
   "execution_count": 2,
   "metadata": {
    "slideshow": {
     "slide_type": "slide"
    }
   },
   "outputs": [
    {
     "name": "stderr",
     "output_type": "stream",
     "text": [
      "/Library/Frameworks/Python.framework/Versions/3.7/lib/python3.7/site-packages/IPython/core/display.py:689: UserWarning: Consider using IPython.display.IFrame instead\n",
      "  warnings.warn(\"Consider using IPython.display.IFrame instead\")\n"
     ]
    },
    {
     "data": {
      "text/html": [
       "<iframe width=\"1200\" height=\"800\" src=\"https://www.youtube.com/embed/_0sToMbbmV8\" title=\"YouTube video player\" frameborder=\"0\" allow=\"accelerometer; autoplay; clipboard-write; encrypted-media; gyroscope; picture-in-picture\" allowfullscreen></iframe>"
      ],
      "text/plain": [
       "<IPython.core.display.HTML object>"
      ]
     },
     "execution_count": 2,
     "metadata": {},
     "output_type": "execute_result"
    }
   ],
   "source": [
    "HTML('<iframe width=\"1200\" height=\"800\" src=\"https://www.youtube.com/embed/_0sToMbbmV8\" title=\"YouTube video player\" frameborder=\"0\" allow=\"accelerometer; autoplay; clipboard-write; encrypted-media; gyroscope; picture-in-picture\" allowfullscreen></iframe>')"
   ]
  },
  {
   "cell_type": "markdown",
   "metadata": {
    "slideshow": {
     "slide_type": "slide"
    }
   },
   "source": [
    "<center>\n",
    "<h4> The evolution of AGB stars (from F. Herwig, 2005, ARAA, 43, 435)</h4>\n",
    "<img src=\"img/tracks.jpg\", width=1100>\n",
    "</center>"
   ]
  },
  {
   "cell_type": "markdown",
   "metadata": {
    "slideshow": {
     "slide_type": "slide"
    }
   },
   "source": [
    "<center>\n",
    "<h4> The major evolutionary phases of low- and intermediate-mass stars</h4>\n",
    "<img src=\"img/FalkFig2.png\", width=1100>\n",
    "</center>"
   ]
  },
  {
   "cell_type": "markdown",
   "metadata": {
    "slideshow": {
     "slide_type": "slide"
    }
   },
   "source": [
    "<center>\n",
    "<h4> The third dredge-up in evolution of AGB stars (from F. Herwig, 2005, ARAA, 43, 435)</h4>\n",
    "<img src=\"img/FalkFig3.png\", width=1100>\n",
    "</center>"
   ]
  },
  {
   "cell_type": "markdown",
   "metadata": {
    "slideshow": {
     "slide_type": "slide"
    }
   },
   "source": [
    "<center>\n",
    "<h4> The slow (s) and rapid (r) neutron-capture processes in stars.</h4>\n",
    "<img src=\"img/processes.png\", width=1100>\n",
    "</center>"
   ]
  }
 ],
 "metadata": {
  "anaconda-cloud": {},
  "celltoolbar": "Slideshow",
  "kernelspec": {
   "display_name": "Python 3",
   "language": "python",
   "name": "python3"
  },
  "language_info": {
   "codemirror_mode": {
    "name": "ipython",
    "version": 3
   },
   "file_extension": ".py",
   "mimetype": "text/x-python",
   "name": "python",
   "nbconvert_exporter": "python",
   "pygments_lexer": "ipython3",
   "version": "3.7.2"
  }
 },
 "nbformat": 4,
 "nbformat_minor": 1
}
