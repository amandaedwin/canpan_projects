{
 "cells": [
  {
   "cell_type": "markdown",
   "metadata": {},
   "source": [
    "# Plot and analyze results of MESA low-mass star evolution computations \n",
    "\n",
    "#### Read comments at the beginning of each cell to understand what it does"
   ]
  },
  {
   "cell_type": "code",
   "execution_count": 1,
   "metadata": {},
   "outputs": [
    {
     "name": "stdout",
     "output_type": "stream",
     "text": [
      "Populating the interactive namespace from numpy and matplotlib\n"
     ]
    }
   ],
   "source": [
    "# on an astrohub server use ipympl that enables the interactive features of \n",
    "# matplotlib in the Jupyter notebook and in JupyterLab\n",
    "%pylab ipympl  \n",
    "\n",
    "# for jupyter classic notebook use\n",
    "#%pylab nbagg\n",
    "\n",
    "from nugridpy import mesa as ms\n",
    "from nugridpy import utils as ut\n",
    "\n",
    "# begin counting figures\n",
    "ifig=0\n",
    "for i in range(0,10000):\n",
    "    close(i)"
   ]
  },
  {
   "cell_type": "code",
   "execution_count": 2,
   "metadata": {},
   "outputs": [],
   "source": [
    "#### this cell defines functions that allow to suppress unnecessary output information\n",
    "import os\n",
    "from contextlib import contextmanager\n",
    "@contextmanager\n",
    "def redirect_stdout(new_target):\n",
    "    old_target, sys.stdout = sys.stdout, new_target\n",
    "    try:\n",
    "        yield new_target\n",
    "    finally:\n",
    "        sys.stdout = old_target\n",
    "def get_devnull():\n",
    "    #return open(os.devnull, \"w\")\n",
    "    return open('log_stuff.txt', \"w\") #where all the stuff goes you don't want to see\n",
    "####"
   ]
  },
  {
   "cell_type": "code",
   "execution_count": 3,
   "metadata": {},
   "outputs": [
    {
     "name": "stdout",
     "output_type": "stream",
     "text": [
      "Msun = 1.988409870698051e+30\n",
      "Rsun = 695700000.0\n",
      "Lsun = 3.828e+26\n",
      "Newton's G = 6.6743e-11\n",
      "Stefan-Boltzmann constant = 5.6703744191844314e-08\n",
      "Stefan-Boltzmann sigma and solar radius and mass in cgs units: 5.6703744191844314e-05 69570000000.0 1.988409870698051e+33\n"
     ]
    }
   ],
   "source": [
    "# astronomical and physical constants in SI units\n",
    "from astropy import constants as const\n",
    "from astropy import units as u\n",
    "\n",
    "Msun = (const.M_sun).value\n",
    "Rsun = (const.R_sun).value\n",
    "Lsun = (const.L_sun).value\n",
    "GN = (const.G).value  # Newton's constant \n",
    "sigma = (const.sigma_sb).value  # 1e3 tarnsforms SI units to sgs units\n",
    "print ('Msun =',Msun)\n",
    "print ('Rsun =',Rsun)\n",
    "print ('Lsun =',Lsun)\n",
    "print (\"Newton's G =\",GN)\n",
    "print (\"Stefan-Boltzmann constant =\",sigma)\n",
    "\n",
    "# transform to sgs units\n",
    "sigma = 1e3*sigma\n",
    "Rsun = 1e2*Rsun\n",
    "Msun = 1e3*Msun\n",
    "\n",
    "print ('Stefan-Boltzmann sigma and solar radius and mass in cgs units:',sigma,Rsun,Msun)"
   ]
  },
  {
   "cell_type": "code",
   "execution_count": 4,
   "metadata": {},
   "outputs": [],
   "source": [
    "# path to MESA work directory\n",
    "# on astrohub/csa server\n",
    "mesa_work_dir = '/user/scratch14_wendi3/dpa/my_mesa_5329/work_low_mass/' \n",
    "# on astrohub/outreach server\n",
    "#mesa_work_dir = '/user/scratch14_outreach/Pavel/work_low_mass' \n",
    "\n",
    "# extension of directory name LOGS\n",
    "suffix = '' # '_nomix'"
   ]
  },
  {
   "cell_type": "code",
   "execution_count": 5,
   "metadata": {},
   "outputs": [
    {
     "name": "stdout",
     "output_type": "stream",
     "text": [
      "Requested new history.datasa; create new from history.data\n",
      " reading ...100% \n",
      "\n"
     ]
    },
    {
     "data": {
      "application/vnd.jupyter.widget-view+json": {
       "model_id": "cac0664e70304b9bb0a63f891b7ce692",
       "version_major": 2,
       "version_minor": 0
      },
      "text/plain": [
       "Canvas(toolbar=Toolbar(toolitems=[('Home', 'Reset original view', 'home', 'home'), ('Back', 'Back to previous …"
      ]
     },
     "metadata": {},
     "output_type": "display_data"
    }
   ],
   "source": [
    "# plot nova evolutionary track\n",
    "sh = ms.history_data(mesa_work_dir+'LOGS'+suffix,clean_starlog=True)\n",
    "age = sh.get('star_age')\n",
    "model = sh.get('model_number')\n",
    "lgL = sh.get('log_L')\n",
    "lgTeff = sh.get('log_Teff')\n",
    "\n",
    "# read in surface abundances\n",
    "xli7surf = sh.get('surface_li7')\n",
    "xc12surf = sh.get('surface_c12')\n",
    "xc13surf = sh.get('surface_c13')\n",
    "\n",
    "c12c13 = np.linspace(0,0,len(xc12surf))\n",
    "\n",
    "for i in range(len(xc12surf)):\n",
    "    c12c13[i] = (xc12surf[i]/12.)/(xc13surf[i]/13.)\n",
    "    \n",
    "ALi = np.linspace(0,0,len(xli7surf))\n",
    "\n",
    "for i in range(len(xli7surf)):\n",
    "    ALi[i] = np.log10(xli7surf[i]/7./0.7) + 12.0\n",
    "\n",
    "ifig=ifig+1;close(ifig);fig=figure(ifig)\n",
    "size=8\n",
    "fig.canvas.layout.height = str(0.9*size)+'in'   # This is a hack to prevent ipympl\n",
    "fig.canvas.layout.width  = str(1.1*size)+'in'   # to adjust horizontal figure size\n",
    "sh.hrd()"
   ]
  },
  {
   "cell_type": "code",
   "execution_count": 6,
   "metadata": {},
   "outputs": [
    {
     "name": "stdout",
     "output_type": "stream",
     "text": [
      "There are 119 profiles for the following models:\n",
      " [1800, 1900, 2000, 2100, 2200, 2300, 2400, 2500, 2600, 2700, 2800, 2900, 3000, 3100, 3200, 3300, 3400, 3500, 3600, 3700, 3800, 3900, 4000, 4100, 4200, 4300, 4400, 4500, 4600, 4700, 4800, 4900, 5000, 5100, 5200, 5300, 5400, 5500, 5600, 5700, 5800, 5900, 6000, 6100, 6200, 6300, 6400, 6500, 6600, 6700, 6800, 6900, 7000, 7100, 7200, 7300, 7400, 7500, 7600, 7700, 7800, 7900, 8000, 8100, 8200, 8300, 8400, 8500, 8600, 8700, 8800, 8900, 9000, 9100, 9200, 9300, 9400, 9500, 9600, 9700, 9800, 9900, 10000, 10100, 10200, 10300, 10400, 10500, 10600, 10700, 10800, 10900, 11000, 11100, 11200, 11300, 11400, 11500, 11600, 11700, 11800, 11900, 12000, 12100, 12200, 12300, 12400, 12500, 12600, 12700, 12800, 12900, 13000, 13100, 13200, 13300, 13400, 13423, 13444]\n"
     ]
    }
   ],
   "source": [
    "# read profiles.index file from path to LOGS directory that contains results of MESA nova computations\n",
    "f = open(mesa_work_dir+'LOGS'+suffix+'/profiles.index', 'r')\n",
    "\n",
    "profiles = []\n",
    "\n",
    "i=0\n",
    "for line in f:\n",
    "    if i >= 1:\n",
    "        profiles.append(int(float(line.split()[0])))\n",
    "    i += 1\n",
    "    \n",
    "f.close()\n",
    "\n",
    "print (\"There are\",len(profiles),\"profiles for the following models:\\n\", profiles)"
   ]
  },
  {
   "cell_type": "code",
   "execution_count": 7,
   "metadata": {},
   "outputs": [
    {
     "data": {
      "text/plain": [
       "[1800, 2800, 3800, 4800, 5800, 6800, 7800, 8800, 9800, 10800, 11800, 12800]"
      ]
     },
     "execution_count": 7,
     "metadata": {},
     "output_type": "execute_result"
    }
   ],
   "source": [
    "# select profiles of every_nth_1 model before and every_nth_2 model after cycle_1 along evolutionary track to plot\n",
    "cycle_1 = 800\n",
    "every_nth_1 = 8\n",
    "every_nth_2 = 10\n",
    "\n",
    "model_sel = []\n",
    "\n",
    "for i in range(len(profiles)):\n",
    "    if profiles[i] <= cycle_1:\n",
    "        if i%every_nth_1 == 0:\n",
    "            model_sel.append(profiles[i])\n",
    "    else:\n",
    "        if i%every_nth_2 == 0:\n",
    "            model_sel.append(profiles[i]) \n",
    "\n",
    "model_sel"
   ]
  },
  {
   "cell_type": "code",
   "execution_count": 8,
   "metadata": {},
   "outputs": [
    {
     "name": "stdout",
     "output_type": "stream",
     "text": [
      "99 1800 1.6580795687106604\n",
      "1099 2800 2.1092375534958223\n",
      "2099 3800 2.423926199549068\n",
      "3099 4800 2.630704897988842\n",
      "4099 5800 2.785466440723565\n",
      "5099 6800 2.9071064840242817\n",
      "6099 7800 3.0066183722340423\n",
      "7099 8800 3.0903031046661162\n",
      "8099 9800 3.1621198971683504\n",
      "9099 10800 3.2245851503350536\n",
      "10099 11800 3.2796013017682144\n",
      "11099 12800 3.328098615321571\n"
     ]
    }
   ],
   "source": [
    "# add models with selected profiles to the above HRD\n",
    "lgL_plot = []\n",
    "lgTeff_plot = []\n",
    "clr = []\n",
    "\n",
    "j = 0\n",
    "for mod in model_sel:\n",
    "    for i in range(len(model)):\n",
    "        if int(model[i]) == mod:\n",
    "            print (i,int(model[i]),lgL[i])\n",
    "            lgL_plot.append(lgL[i])\n",
    "            lgTeff_plot.append(lgTeff[i])\n",
    "    plot(lgTeff_plot[j],lgL_plot[j],marker='o',markerfacecolor=ut.linestylecb(j)[2],\\\n",
    "         markeredgecolor=ut.linestylecb(j)[2],label='model '+str(mod))\n",
    "    j += 1\n",
    "\n",
    "xlabel('$\\log_{10}\\,T_\\mathrm{eff}$')\n",
    "ylabel('$\\log_{10}\\,L/L_\\odot$')\n",
    "xlim()\n",
    "legend(frameon=False,loc=2,fontsize=8)\n",
    "show()\n",
    "\n",
    "#plt.savefig(mesa_work_dir+'track.pdf')"
   ]
  },
  {
   "cell_type": "code",
   "execution_count": 9,
   "metadata": {},
   "outputs": [
    {
     "data": {
      "application/vnd.jupyter.widget-view+json": {
       "model_id": "a1579aad91fd48a5b2223ef50f29c6e0",
       "version_major": 2,
       "version_minor": 0
      },
      "text/plain": [
       "Canvas(toolbar=Toolbar(toolitems=[('Home', 'Reset original view', 'home', 'home'), ('Back', 'Back to previous …"
      ]
     },
     "metadata": {},
     "output_type": "display_data"
    },
    {
     "name": "stdout",
     "output_type": "stream",
     "text": [
      "119 in profiles.index file ...\n",
      "Found and load nearest profile for cycle 2200\n",
      "reading profile/user/scratch14_wendi3/dpa/my_mesa_5329/work_low_mass/LOGS/profile5.data ...\n",
      " reading ...100% \n",
      "\n"
     ]
    },
    {
     "name": "stderr",
     "output_type": "stream",
     "text": [
      "/usr/local/lib/python3.6/dist-packages/ipykernel_launcher.py:39: RuntimeWarning: invalid value encountered in log10\n"
     ]
    }
   ],
   "source": [
    "# plot radial profiles of various stellar structure parameters\n",
    "\n",
    "ifig=ifig+1; close(ifig); fig=figure(ifig)\n",
    "size=8\n",
    "fig.canvas.layout.height = str(0.9*size)+'in'   # This is a hack to prevent ipympl\n",
    "fig.canvas.layout.width  = str(1.1*size)+'in'   # to adjust horizontal figure size\n",
    "\n",
    "omega = 1 # IGW frequency in micro Hz, it will be later scaled by the factor fac_om\n",
    "\n",
    "# model to plot\n",
    "model_plot = 2200 # 13400\n",
    "\n",
    "j = 0\n",
    "\n",
    "results_dir = mesa_work_dir + 'LOGS'+suffix\n",
    "mod=ms.mesa_profile(results_dir,model_plot)\n",
    "rad = Rsun*mod.get('radius') # radius in cm\n",
    "rad_Mm = 1e-8*rad # radius in Mm\n",
    "lg_rad = log10(mod.get('radius')) # lg radius in solar units\n",
    "b_fr = mod.get('brunt_frequency') # in cycles per day\n",
    "b_nu = mod.get('brunt_nu') # in micro Hz\n",
    "sl = mod.get('lamb_S') # Lamb frequency for l=1 in Hz\n",
    "sl = 0.1 * 1e6*sl # Lamb frequency in micro Hz\n",
    "Mach = 1e2*mod.get('conv_vel_div_csound')\n",
    "# the following quantities from MESA prifile should be in cgs units\n",
    "vconv = mod.get('log_conv_vel')\n",
    "CP = mod.get('cp')\n",
    "mu = 8*mod.get('mu')\n",
    "rho = 10**(mod.get('logRho'))\n",
    "T = 10**(mod.get('logT'))\n",
    "kappa = 10**(mod.get('log_opacity'))\n",
    "grad_ad = mod.get('grada')\n",
    "grad_rad = mod.get('gradr')\n",
    "conv = grad_rad/grad_ad - 1. # this parameter is used to find all convective boundaries\n",
    "K = 16*sigma*T**3/(3*kappa*CP*rho**2) # radiative diffusivity in cm**2/s\n",
    "log_K = log10(K) # logarithm of radiative diffusivity in cm**2/s\n",
    "f_int = K*(1e-6*b_nu/rad)**3/(1e-6*omega)**4 # the integrand for the IGW \"optical depth\" tau\n",
    "Vmax = 10. * 1e2 # cm/s\n",
    "Pe = log10(Vmax*rad**2*(grad_ad-grad_rad)/(mod.get('pressure_scale_height')*Rsun)/K)\n",
    "Dmix = mod.get('log_D_mix')\n",
    "    \n",
    "plot(lg_rad,b_fr,color=ut.linestylecb(j+1)[2],linestyle=ut.linestylecb(j+1)[0],label='N (cycles per day)')\n",
    "\n",
    "plot(lg_rad,Mach,color=ut.linestylecb(j+2)[2],linestyle=ut.linestylecb(j+2)[0],label='$100\\\\times\\mathrm{Mach\\ number}$')\n",
    "plot(lg_rad,vconv,color=ut.linestylecb(j+3)[2],linestyle=ut.linestylecb(j+3)[0],label='$\\log_{10}\\,v_\\mathrm{conv}\\ (\\mathrm{cm\\,s}^{-1})$')\n",
    "\n",
    "#plot(lg_rad,Pe,color=ut.linestylecb(j+4)[2],linestyle=ut.linestylecb(j+4)[0],label='$\\log_{10}\\,(\\mathrm{P\\\\acute{e}clet\\ number}\\\\times (l(l+1)N^2/\\omega^2)$')\n",
    "plot(lg_rad,Dmix,color=ut.linestylecb(j+5)[2],linestyle=ut.linestylecb(j+5)[0],label='$\\log_{10}\\,D_\\mathrm{mix}$')\n",
    "plot(lg_rad,sl,color=ut.linestylecb(j+6)[2],linestyle=ut.linestylecb(j+6)[0],label='$0.1\\\\times\\mathrm{Lamb\\ frequency}\\ S_1$')\n",
    "plot(lg_rad,log_K,color=ut.linestylecb(j+4)[2],linestyle=ut.linestylecb(j+4)[0],label='$\\log_{10}\\,K\\ (\\mathrm{cm}^2\\mathrm{s}^{-1})$')\n",
    "plot(lg_rad,mu,color=ut.linestylecb(j+7)[2],linestyle=ut.linestylecb(j+7)[0],label='$8\\\\times\\\\mu$')\n",
    "\n",
    "# find and plot convective boundaries\n",
    "rad_conv = []\n",
    "i_conv = []\n",
    "for i in range(len(conv)):\n",
    "    if conv[i]*conv[i-1] <= 0:\n",
    "        fac = conv[i]/(conv[i]-conv[i-1])\n",
    "        rad_conv.append((1-fac)*lg_rad[i]+fac*lg_rad[i-1])\n",
    "        i_conv.append(i)\n",
    "for i in range(len(rad_conv)):\n",
    "    vlines(rad_conv[i], -0.5, 20, linestyles =\"dashed\", colors =\"r\") \n",
    "    \n",
    "#xlim(2500,15000)\n",
    "xlim(-2,2)\n",
    "ylim(-0.5,20)\n",
    "#xlabel('$r\\ (\\mathrm{Mm})$',fontsize=14)\n",
    "xlabel('$\\log_{10}\\,(r/R_\\mathrm{sun})$',fontsize=14)\n",
    "ylabel('$\\mathrm{stellar\\ structure\\ parameter}$',fontsize=14)\n",
    "xticks(fontsize=14)\n",
    "yticks(fontsize=14)\n",
    "legend(frameon=False,loc=2)\n",
    "#vlines(2697.6,-1,17,colors='k',linestyles='dotted')\n",
    "title('model '+str(model_plot))\n",
    "show()\n",
    "#savefig('/user/scratch14_wendi3/dpa/M25Envelope.pdf')"
   ]
  },
  {
   "cell_type": "code",
   "execution_count": 10,
   "metadata": {},
   "outputs": [
    {
     "data": {
      "application/vnd.jupyter.widget-view+json": {
       "model_id": "a28c14123db54fc19ee6375e7502cae2",
       "version_major": 2,
       "version_minor": 0
      },
      "text/plain": [
       "Canvas(toolbar=Toolbar(toolitems=[('Home', 'Reset original view', 'home', 'home'), ('Back', 'Back to previous …"
      ]
     },
     "metadata": {},
     "output_type": "display_data"
    },
    {
     "name": "stdout",
     "output_type": "stream",
     "text": [
      "119 in profiles.index file ...\n",
      "Found and load nearest profile for cycle 2200\n",
      "reading profile/user/scratch14_wendi3/dpa/my_mesa_5329/work_low_mass/LOGS/profile5.data ...\n",
      " reading ...100% \n",
      "\n",
      "Closing profile tool ...\n"
     ]
    }
   ],
   "source": [
    "# plot molecular weight as a function of radius\n",
    "\n",
    "ifig=ifig+1; close(ifig); fig=figure(ifig)\n",
    "size=8\n",
    "fig.canvas.layout.height = str(0.9*size)+'in'   # This is a hack to prevent ipympl\n",
    "fig.canvas.layout.width  = str(1.1*size)+'in'   # to adjust horizontal figure size\n",
    "\n",
    "j = 0\n",
    "\n",
    "results_dir = mesa_work_dir + 'LOGS'+suffix\n",
    "mod=ms.mesa_profile(results_dir,model_plot)\n",
    "rad = Rsun*mod.get('radius') # radius in cm\n",
    "rad_Mm = 1e-8*rad # radius in Mm\n",
    "lg_rad = log10(mod.get('radius')) # lg radius in solar units\n",
    "mu = mod.get('mu')\n",
    "    \n",
    "plot(lg_rad,mu,color=ut.linestylecb(j+8)[2],linestyle=ut.linestylecb(j+8)[0],label='')\n",
    "\n",
    "# find and plot convective boundaries\n",
    "rad_conv = []\n",
    "i_conv = []\n",
    "for i in range(len(conv)):\n",
    "    if conv[i]*conv[i-1] <= 0:\n",
    "        fac = conv[i]/(conv[i]-conv[i-1])\n",
    "        rad_conv.append((1-fac)*lg_rad[i]+fac*lg_rad[i-1])\n",
    "        i_conv.append(i)\n",
    "for i in range(len(rad_conv)):\n",
    "    vlines(rad_conv[i], -0.5, 17, linestyles =\"dashed\", colors =\"r\") \n",
    "    \n",
    "xlim(-1.5,0.5)\n",
    "ymin = 0\n",
    "ymax = 1.5\n",
    "ylim(ymin,ymax)\n",
    "#xlabel('$r\\ (\\mathrm{Mm})$',fontsize=14)\n",
    "xlabel('$\\log_{10}\\,(r/R_\\mathrm{sun})$',fontsize=14)\n",
    "ylabel('$\\\\mu$',fontsize=14)\n",
    "xticks(fontsize=14)\n",
    "yticks(fontsize=14)\n",
    "#legend(frameon=False,loc=2)\n",
    "vlines(-1.3,ymin,ymax,colors='k',linestyles='dotted')\n",
    "title('model '+str(model_plot))\n",
    "show()"
   ]
  },
  {
   "cell_type": "code",
   "execution_count": 11,
   "metadata": {},
   "outputs": [
    {
     "data": {
      "application/vnd.jupyter.widget-view+json": {
       "model_id": "8c8f3cb6c91242c3b89d25afb277662b",
       "version_major": 2,
       "version_minor": 0
      },
      "text/plain": [
       "Canvas(toolbar=Toolbar(toolitems=[('Home', 'Reset original view', 'home', 'home'), ('Back', 'Back to previous …"
      ]
     },
     "metadata": {},
     "output_type": "display_data"
    },
    {
     "name": "stdout",
     "output_type": "stream",
     "text": [
      "119 in profiles.index file ...\n",
      "Found and load nearest profile for cycle 2200\n",
      "reading profile/user/scratch14_wendi3/dpa/my_mesa_5329/work_low_mass/LOGS/profile5.data ...\n",
      " reading ...100% \n",
      "\n",
      "Closing profile tool ...\n"
     ]
    },
    {
     "name": "stderr",
     "output_type": "stream",
     "text": [
      "/usr/local/lib/python3.6/dist-packages/ipykernel_launcher.py:18: RuntimeWarning: divide by zero encountered in log10\n",
      "/usr/local/lib/python3.6/dist-packages/ipykernel_launcher.py:19: RuntimeWarning: divide by zero encountered in log10\n"
     ]
    }
   ],
   "source": [
    "# plot abundance profiles as functions of radius\n",
    "\n",
    "ifig=ifig+1; close(ifig); fig=figure(ifig)\n",
    "size=8\n",
    "fig.canvas.layout.height = str(0.9*size)+'in'   # This is a hack to prevent ipympl\n",
    "fig.canvas.layout.width  = str(1.1*size)+'in'   # to adjust horizontal figure size\n",
    "\n",
    "j = 0\n",
    "\n",
    "results_dir = mesa_work_dir + 'LOGS'+suffix\n",
    "mod=ms.mesa_profile(results_dir,model_plot)\n",
    "rad = Rsun*mod.get('radius') # radius in cm\n",
    "rad_Mm = 1e-8*rad # radius in Mm\n",
    "lg_rad = log10(mod.get('radius')) # lg radius in solar units\n",
    "xc12 = log10(mod.get('c12'))\n",
    "xc13 = log10(mod.get('c13'))\n",
    "xn14 = log10(mod.get('n14'))\n",
    "xhe3 = log10(mod.get('he3'))\n",
    "xbe7 = log10(mod.get('be7'))\n",
    "xli7 = log10(mod.get('li7'))\n",
    "    \n",
    "plot(lg_rad,xc12,color=ut.linestylecb(j+1)[2],linestyle=ut.linestylecb(j+1)[0],label='C-12')\n",
    "plot(lg_rad,xc13,color=ut.linestylecb(j+2)[2],linestyle=ut.linestylecb(j+2)[0],label='C-13')\n",
    "plot(lg_rad,xn14,color=ut.linestylecb(j+3)[2],linestyle=ut.linestylecb(j+3)[0],label='N-14')\n",
    "plot(lg_rad,xhe3,color=ut.linestylecb(j+4)[2],linestyle=ut.linestylecb(j+4)[0],label='He-3')\n",
    "plot(lg_rad,xbe7,color=ut.linestylecb(j+5)[2],linestyle=ut.linestylecb(j+5)[0],label='Be-7')\n",
    "plot(lg_rad,xli7,color=ut.linestylecb(j+6)[2],linestyle=ut.linestylecb(j+6)[0],label='Li-7')\n",
    "\n",
    "# find and plot convective boundaries\n",
    "#rad_conv = []\n",
    "#i_conv = []\n",
    "#for i in range(len(conv)):\n",
    "#    if conv[i]*conv[i-1] <= 0:\n",
    "#        fac = conv[i]/(conv[i]-conv[i-1])\n",
    "#        rad_conv.append((1-fac)*lg_rad[i]+fac*lg_rad[i-1])\n",
    "#        i_conv.append(i)\n",
    "#for i in range(len(rad_conv)):\n",
    "#    vlines(rad_conv[i], -12, -2, linestyles =\"dashed\", colors =\"r\") \n",
    "    \n",
    "xlim(-1.5,0.5)\n",
    "ylim(-12,-2)\n",
    "#xlabel('$r\\ (\\mathrm{Mm})$',fontsize=14)\n",
    "xlabel('$\\log_{10}\\,(r/R_\\mathrm{sun})$',fontsize=14)\n",
    "ylabel('$\\log_{10}\\,X_i$',fontsize=14)\n",
    "xticks(fontsize=14)\n",
    "yticks(fontsize=14)\n",
    "legend(frameon=False,loc='lower center')\n",
    "vlines(-1.3,-12,-2,colors='k',linestyles='dotted')\n",
    "title('model '+str(model_plot))\n",
    "show()"
   ]
  },
  {
   "cell_type": "code",
   "execution_count": 12,
   "metadata": {},
   "outputs": [
    {
     "data": {
      "application/vnd.jupyter.widget-view+json": {
       "model_id": "1b2d955f0b254abc99ed7b40a971d8e5",
       "version_major": 2,
       "version_minor": 0
      },
      "text/plain": [
       "Canvas(toolbar=Toolbar(toolitems=[('Home', 'Reset original view', 'home', 'home'), ('Back', 'Back to previous …"
      ]
     },
     "metadata": {},
     "output_type": "display_data"
    },
    {
     "name": "stdout",
     "output_type": "stream",
     "text": [
      "119 in profiles.index file ...\n",
      "Found and load nearest profile for cycle 2200\n",
      "reading profile/user/scratch14_wendi3/dpa/my_mesa_5329/work_low_mass/LOGS/profile5.data ...\n",
      " reading ...100% \n",
      "\n",
      "Closing profile tool ...\n"
     ]
    },
    {
     "name": "stderr",
     "output_type": "stream",
     "text": [
      "/usr/local/lib/python3.6/dist-packages/ipykernel_launcher.py:16: RuntimeWarning: divide by zero encountered in log10\n",
      "  app.launch_new_instance()\n",
      "/usr/local/lib/python3.6/dist-packages/ipykernel_launcher.py:17: RuntimeWarning: divide by zero encountered in log10\n"
     ]
    }
   ],
   "source": [
    "# plot abundance profiles as functions of mass coordinate\n",
    "\n",
    "ifig=ifig+1; close(ifig); fig=figure(ifig)\n",
    "size=8\n",
    "fig.canvas.layout.height = str(0.9*size)+'in'   # This is a hack to prevent ipympl\n",
    "fig.canvas.layout.width  = str(1.1*size)+'in'   # to adjust horizontal figure size\n",
    "\n",
    "j = 0\n",
    "\n",
    "results_dir = mesa_work_dir + 'LOGS'+suffix\n",
    "mod=ms.mesa_profile(results_dir,model_plot)\n",
    "mr = mod.get('mass') # radius in cm\n",
    "xc12 = log10(mod.get('c12'))\n",
    "xc13 = log10(mod.get('c13'))\n",
    "xn14 = log10(mod.get('n14'))\n",
    "xhe3 = log10(mod.get('he3'))\n",
    "xbe7 = log10(mod.get('be7'))\n",
    "xli7 = log10(mod.get('li7'))\n",
    "    \n",
    "plot(mr,xc12,color=ut.linestylecb(j+1)[2],linestyle=ut.linestylecb(j+1)[0],label='C-12')\n",
    "plot(mr,xc13,color=ut.linestylecb(j+2)[2],linestyle=ut.linestylecb(j+2)[0],label='C-13')\n",
    "plot(mr,xn14,color=ut.linestylecb(j+3)[2],linestyle=ut.linestylecb(j+3)[0],label='N-14')\n",
    "plot(mr,xhe3,color=ut.linestylecb(j+4)[2],linestyle=ut.linestylecb(j+4)[0],label='He-3')\n",
    "plot(mr,xbe7,color=ut.linestylecb(j+5)[2],linestyle=ut.linestylecb(j+5)[0],label='Be-7')\n",
    "plot(mr,xli7,color=ut.linestylecb(j+6)[2],linestyle=ut.linestylecb(j+6)[0],label='Li-7')\n",
    "\n",
    "# find and plot convective boundaries\n",
    "mr_conv = []\n",
    "i_conv = []\n",
    "for i in range(len(conv)):\n",
    "    if conv[i]*conv[i-1] <= 0:\n",
    "        fac = conv[i]/(conv[i]-conv[i-1])\n",
    "        mr_conv.append((1-fac)*mr[i]+fac*mr[i-1])\n",
    "        i_conv.append(i)\n",
    "for i in range(len(rad_conv)):\n",
    "    vlines(mr_conv[i], -12, -2, linestyles =\"dashed\", colors =\"r\") \n",
    "    \n",
    "xlim(0.25,1.0)\n",
    "ylim(-12,-2)\n",
    "#xlabel('$r\\ (\\mathrm{Mm})$',fontsize=14)\n",
    "xlabel('$M_r/M_\\odot$',fontsize=14)\n",
    "ylabel('$\\log_{10}\\,X_i$',fontsize=14)\n",
    "xticks(fontsize=14)\n",
    "yticks(fontsize=14)\n",
    "legend(frameon=False,loc='lower center')\n",
    "vlines(-1.3,-12,-2,colors='k',linestyles='dotted')\n",
    "title('model '+str(model_plot))\n",
    "show()"
   ]
  },
  {
   "cell_type": "code",
   "execution_count": 13,
   "metadata": {},
   "outputs": [
    {
     "data": {
      "application/vnd.jupyter.widget-view+json": {
       "model_id": "1ef5ce088b724a4cb89bff8b96cebf47",
       "version_major": 2,
       "version_minor": 0
      },
      "text/plain": [
       "Canvas(toolbar=Toolbar(toolitems=[('Home', 'Reset original view', 'home', 'home'), ('Back', 'Back to previous …"
      ]
     },
     "metadata": {},
     "output_type": "display_data"
    }
   ],
   "source": [
    "# a plot of surface C12/C13 abundance ratio\n",
    "\n",
    "ifig=ifig+1; close(ifig); fig=figure(ifig)\n",
    "size=8\n",
    "fig.canvas.layout.height = str(0.9*size)+'in'   # This is a hack to prevent ipympl\n",
    "fig.canvas.layout.width  = str(1.1*size)+'in'   # to adjust horizontal figure size\n",
    "\n",
    "j = 0\n",
    "plot(lgL,c12c13,color=ut.linestylecb(j+1)[2],linestyle=ut.linestylecb(j+1)[0],label='')\n",
    "\n",
    "xlim(1.5,3.5)\n",
    "ylim(0,30)\n",
    "xlabel('$\\log_{10}\\,L/L_\\odot$',fontsize=14)\n",
    "ylabel('$^{12}\\mathrm{C}/^{13}\\mathrm{C}$',fontsize=14)\n",
    "xticks(fontsize=14)\n",
    "yticks(fontsize=14)\n",
    "show()"
   ]
  },
  {
   "cell_type": "code",
   "execution_count": 14,
   "metadata": {},
   "outputs": [
    {
     "data": {
      "application/vnd.jupyter.widget-view+json": {
       "model_id": "2ea06a0954d144c783f0a7d928753512",
       "version_major": 2,
       "version_minor": 0
      },
      "text/plain": [
       "Canvas(toolbar=Toolbar(toolitems=[('Home', 'Reset original view', 'home', 'home'), ('Back', 'Back to previous …"
      ]
     },
     "metadata": {},
     "output_type": "display_data"
    }
   ],
   "source": [
    "# a plot of ALi\n",
    "\n",
    "ifig=ifig+1; close(ifig); fig=figure(ifig)\n",
    "size=8\n",
    "fig.canvas.layout.height = str(0.9*size)+'in'   # This is a hack to prevent ipympl\n",
    "fig.canvas.layout.width  = str(1.1*size)+'in'   # to adjust horizontal figure size\n",
    "\n",
    "j = 7\n",
    "plot(ALi,lgL,color=ut.linestylecb(j+1)[2],linestyle=ut.linestylecb(j+1)[0],label='')\n",
    "\n",
    "ylim(1.5,3.5)\n",
    "xlim(3.5,-2)\n",
    "ylabel('$\\log_{10}\\,L/L_\\odot$',fontsize=14)\n",
    "xlabel('$A(^7\\mathrm{Li})$',fontsize=14)\n",
    "xticks(fontsize=14)\n",
    "yticks(fontsize=14)\n",
    "show()"
   ]
  },
  {
   "cell_type": "code",
   "execution_count": null,
   "metadata": {},
   "outputs": [],
   "source": []
  }
 ],
 "metadata": {
  "kernelspec": {
   "display_name": "Python 3",
   "language": "python",
   "name": "python3"
  },
  "language_info": {
   "codemirror_mode": {
    "name": "ipython",
    "version": 3
   },
   "file_extension": ".py",
   "mimetype": "text/x-python",
   "name": "python",
   "nbconvert_exporter": "python",
   "pygments_lexer": "ipython3",
   "version": "3.6.8"
  }
 },
 "nbformat": 4,
 "nbformat_minor": 4
}
