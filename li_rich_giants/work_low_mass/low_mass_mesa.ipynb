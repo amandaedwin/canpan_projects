{
 "cells": [
  {
   "cell_type": "markdown",
   "metadata": {},
   "source": [
    "# Plot and analyze results of MESA low-mass star evolution computations \n",
    "\n",
    "#### Read comments at the beginning of each cell to understand what it does"
   ]
  },
  {
   "cell_type": "code",
   "execution_count": 1,
   "metadata": {},
   "outputs": [
    {
     "name": "stdout",
     "output_type": "stream",
     "text": [
      "Populating the interactive namespace from numpy and matplotlib\n"
     ]
    }
   ],
   "source": [
    "# on an astrohub server use ipympl that enables the interactive features of \n",
    "# matplotlib in the Jupyter notebook and in JupyterLab\n",
    "%pylab ipympl  \n",
    "\n",
    "# for jupyter classic notebook use\n",
    "#%pylab nbagg\n",
    "\n",
    "from nugridpy import mesa as ms\n",
    "from nugridpy import utils as ut\n",
    "\n",
    "# begin counting figures\n",
    "ifig=0\n",
    "for i in range(0,10000):\n",
    "    close(i)"
   ]
  },
  {
   "cell_type": "code",
   "execution_count": 2,
   "metadata": {},
   "outputs": [],
   "source": [
    "#### this cell defines functions that allow to suppress unnecessary output information\n",
    "import os\n",
    "from contextlib import contextmanager\n",
    "@contextmanager\n",
    "def redirect_stdout(new_target):\n",
    "    old_target, sys.stdout = sys.stdout, new_target\n",
    "    try:\n",
    "        yield new_target\n",
    "    finally:\n",
    "        sys.stdout = old_target\n",
    "def get_devnull():\n",
    "    #return open(os.devnull, \"w\")\n",
    "    return open('log_stuff.txt', \"w\") #where all the stuff goes you don't want to see\n",
    "####"
   ]
  },
  {
   "cell_type": "code",
   "execution_count": 3,
   "metadata": {},
   "outputs": [
    {
     "name": "stdout",
     "output_type": "stream",
     "text": [
      "Msun = 1.988409870698051e+30\n",
      "Rsun = 695700000.0\n",
      "Lsun = 3.828e+26\n",
      "Newton's G = 6.6743e-11\n",
      "Stefan-Boltzmann constant = 5.6703744191844314e-08\n",
      "Stefan-Boltzmann sigma and solar radius and mass in cgs units: 5.6703744191844314e-05 69570000000.0 1.988409870698051e+33\n"
     ]
    }
   ],
   "source": [
    "# astronomical and physical constants in SI units\n",
    "from astropy import constants as const\n",
    "from astropy import units as u\n",
    "\n",
    "Msun = (const.M_sun).value\n",
    "Rsun = (const.R_sun).value\n",
    "Lsun = (const.L_sun).value\n",
    "GN = (const.G).value  # Newton's constant \n",
    "sigma = (const.sigma_sb).value  # 1e3 tarnsforms SI units to sgs units\n",
    "print ('Msun =',Msun)\n",
    "print ('Rsun =',Rsun)\n",
    "print ('Lsun =',Lsun)\n",
    "print (\"Newton's G =\",GN)\n",
    "print (\"Stefan-Boltzmann constant =\",sigma)\n",
    "\n",
    "# transform to sgs units\n",
    "sigma = 1e3*sigma\n",
    "Rsun = 1e2*Rsun\n",
    "Msun = 1e3*Msun\n",
    "\n",
    "print ('Stefan-Boltzmann sigma and solar radius and mass in cgs units:',sigma,Rsun,Msun)"
   ]
  },
  {
   "cell_type": "code",
   "execution_count": 4,
   "metadata": {},
   "outputs": [],
   "source": [
    "# path to MESA work directory\n",
    "# on astrohub/csa server\n",
    "mesa_work_dir = '/user/scratch14_wendi3/dpa/my_mesa_5329/work_low_mass/' \n",
    "# on astrohub/outreach server\n",
    "#mesa_work_dir = '/user/scratch14_outreach/Pavel/work_low_mass' \n",
    "\n",
    "# extension of directory name LOGS\n",
    "suffix = '_nomix'"
   ]
  },
  {
   "cell_type": "code",
   "execution_count": 5,
   "metadata": {},
   "outputs": [
    {
     "name": "stdout",
     "output_type": "stream",
     "text": [
      "Requested new history.datasa; create new from history.data\n",
      " reading ...100% \n",
      "\n"
     ]
    },
    {
     "data": {
      "application/vnd.jupyter.widget-view+json": {
       "model_id": "a3bba65cd1c74d78acdc861039f75d63",
       "version_major": 2,
       "version_minor": 0
      },
      "text/plain": [
       "Canvas(toolbar=Toolbar(toolitems=[('Home', 'Reset original view', 'home', 'home'), ('Back', 'Back to previous …"
      ]
     },
     "metadata": {},
     "output_type": "display_data"
    }
   ],
   "source": [
    "# plot nova evolutionary track\n",
    "sh = ms.history_data(mesa_work_dir+'LOGS'+suffix,clean_starlog=True)\n",
    "age = sh.get('star_age')\n",
    "model = sh.get('model_number')\n",
    "lgL = sh.get('log_L')\n",
    "lgTeff = sh.get('log_Teff')\n",
    "\n",
    "ifig=ifig+1;close(ifig);fig=figure(ifig)\n",
    "size=8\n",
    "fig.canvas.layout.height = str(0.9*size)+'in'   # This is a hack to prevent ipympl\n",
    "fig.canvas.layout.width  = str(1.1*size)+'in'   # to adjust horizontal figure size\n",
    "sh.hrd()"
   ]
  },
  {
   "cell_type": "code",
   "execution_count": 6,
   "metadata": {},
   "outputs": [
    {
     "name": "stdout",
     "output_type": "stream",
     "text": [
      "There are 21 profiles for the following models:\n",
      " [1, 100, 200, 300, 400, 500, 600, 700, 800, 839, 900, 946, 1000, 1100, 1118, 1200, 1300, 1400, 1500, 1600, 1700]\n"
     ]
    }
   ],
   "source": [
    "# read profiles.index file from path to LOGS directory that contains results of MESA nova computations\n",
    "f = open(mesa_work_dir+'LOGS'+suffix+'/profiles.index', 'r')\n",
    "\n",
    "profiles = []\n",
    "\n",
    "i=0\n",
    "for line in f:\n",
    "    if i >= 1:\n",
    "        profiles.append(int(float(line.split()[0])))\n",
    "    i += 1\n",
    "    \n",
    "f.close()\n",
    "\n",
    "print (\"There are\",len(profiles),\"profiles for the following models:\\n\", profiles)"
   ]
  },
  {
   "cell_type": "code",
   "execution_count": 7,
   "metadata": {},
   "outputs": [
    {
     "data": {
      "text/plain": [
       "[1, 800, 900, 1700]"
      ]
     },
     "execution_count": 7,
     "metadata": {},
     "output_type": "execute_result"
    }
   ],
   "source": [
    "# select profiles of every_nth_1 model before and every_nth_2 model after cycle_1 along evolutionary track to plot\n",
    "cycle_1 = 800\n",
    "every_nth_1 = 8\n",
    "every_nth_2 = 10\n",
    "\n",
    "model_sel = []\n",
    "\n",
    "for i in range(len(profiles)):\n",
    "    if profiles[i] <= cycle_1:\n",
    "        if i%every_nth_1 == 0:\n",
    "            model_sel.append(profiles[i])\n",
    "    else:\n",
    "        if i%every_nth_2 == 0:\n",
    "            model_sel.append(profiles[i]) \n",
    "\n",
    "model_sel"
   ]
  },
  {
   "cell_type": "code",
   "execution_count": 8,
   "metadata": {},
   "outputs": [
    {
     "name": "stdout",
     "output_type": "stream",
     "text": [
      "0 1 2.696118755566933\n",
      "799 800 0.4611365764862897\n",
      "899 900 0.4887646506907175\n",
      "1699 1700 1.561672941871186\n"
     ]
    }
   ],
   "source": [
    "# add models with selected profiles to the above HRD\n",
    "lgL_plot = []\n",
    "lgTeff_plot = []\n",
    "clr = []\n",
    "\n",
    "j = 0\n",
    "for mod in model_sel:\n",
    "    for i in range(len(model)):\n",
    "        if int(model[i]) == mod:\n",
    "            print (i,int(model[i]),lgL[i])\n",
    "            lgL_plot.append(lgL[i])\n",
    "            lgTeff_plot.append(lgTeff[i])\n",
    "    plot(lgTeff_plot[j],lgL_plot[j],marker='o',markerfacecolor=ut.linestylecb(j)[2],\\\n",
    "         markeredgecolor=ut.linestylecb(j)[2],label='model '+str(mod))\n",
    "    j += 1\n",
    "\n",
    "xlabel('$\\log_{10}\\,T_\\mathrm{eff}$')\n",
    "ylabel('$\\log_{10}\\,L/L_\\odot$')\n",
    "xlim()\n",
    "legend(frameon=False,loc=2,fontsize=8)\n",
    "show()\n",
    "\n",
    "#plt.savefig(mesa_work_dir+'track.pdf')"
   ]
  },
  {
   "cell_type": "code",
   "execution_count": 9,
   "metadata": {},
   "outputs": [
    {
     "data": {
      "application/vnd.jupyter.widget-view+json": {
       "model_id": "5a4d27d07a5f41d8b726fc8cffcbcf2a",
       "version_major": 2,
       "version_minor": 0
      },
      "text/plain": [
       "Canvas(toolbar=Toolbar(toolitems=[('Home', 'Reset original view', 'home', 'home'), ('Back', 'Back to previous …"
      ]
     },
     "metadata": {},
     "output_type": "display_data"
    },
    {
     "name": "stdout",
     "output_type": "stream",
     "text": [
      "21 in profiles.index file ...\n",
      "Found and load nearest profile for cycle 1600\n",
      "reading profile/user/scratch14_wendi3/dpa/my_mesa_5329/work_low_mass/LOGS_nomix/profile20.data ...\n",
      " reading ...100% \n",
      "\n"
     ]
    },
    {
     "name": "stderr",
     "output_type": "stream",
     "text": [
      "/usr/local/lib/python3.6/dist-packages/ipykernel_launcher.py:39: RuntimeWarning: invalid value encountered in log10\n"
     ]
    }
   ],
   "source": [
    "# a plot with data later used to calculate the attenuation of IGWs by radiative diffusion\n",
    "\n",
    "ifig=ifig+1; close(ifig); fig=figure(ifig)\n",
    "size=8\n",
    "fig.canvas.layout.height = str(0.9*size)+'in'   # This is a hack to prevent ipympl\n",
    "fig.canvas.layout.width  = str(1.1*size)+'in'   # to adjust horizontal figure size\n",
    "\n",
    "omega = 1 # IGW frequency in micro Hz, it will be later scaled by the factor fac_om\n",
    "\n",
    "# model to plot\n",
    "model_plot = 1600 # 13400\n",
    "\n",
    "j = 0\n",
    "\n",
    "results_dir = mesa_work_dir + 'LOGS'+suffix\n",
    "mod=ms.mesa_profile(results_dir,model_plot)\n",
    "rad = Rsun*mod.get('radius') # radius in cm\n",
    "rad_Mm = 1e-8*rad # radius in Mm\n",
    "lg_rad = log10(mod.get('radius')) # lg radius in solar units\n",
    "b_fr = mod.get('brunt_frequency') # in cycles per day\n",
    "b_nu = mod.get('brunt_nu') # in micro Hz\n",
    "sl = mod.get('lamb_S') # Lamb frequency for l=1 in Hz\n",
    "sl = 0.1 * 1e6*sl # Lamb frequency in micro Hz\n",
    "Mach = 1e2*mod.get('conv_vel_div_csound')\n",
    "# the following quantities from MESA prifile should be in cgs units\n",
    "vconv = mod.get('log_conv_vel')\n",
    "CP = mod.get('cp')\n",
    "mu = 8*mod.get('mu')\n",
    "rho = 10**(mod.get('logRho'))\n",
    "T = 10**(mod.get('logT'))\n",
    "kappa = 10**(mod.get('log_opacity'))\n",
    "grad_ad = mod.get('grada')\n",
    "grad_rad = mod.get('gradr')\n",
    "conv = grad_rad/grad_ad - 1. # this parameter is used to find all convective boundaries\n",
    "K = 16*sigma*T**3/(3*kappa*CP*rho**2) # radiative diffusivity in cm**2/s\n",
    "log_K = log10(K) # logarithm of radiative diffusivity in cm**2/s\n",
    "f_int = K*(1e-6*b_nu/rad)**3/(1e-6*omega)**4 # the integrand for the IGW \"optical depth\" tau\n",
    "Vmax = 10. * 1e2 # cm/s\n",
    "Pe = log10(Vmax*rad**2*(grad_ad-grad_rad)/(mod.get('pressure_scale_height')*Rsun)/K)\n",
    "Dmix = mod.get('log_D_mix')\n",
    "    \n",
    "plot(lg_rad,b_fr,color=ut.linestylecb(j+1)[2],linestyle=ut.linestylecb(j+1)[0],label='N (cycles per day)')\n",
    "\n",
    "plot(lg_rad,Mach,color=ut.linestylecb(j+2)[2],linestyle=ut.linestylecb(j+2)[0],label='$100\\\\times\\mathrm{Mach\\ number}$')\n",
    "plot(lg_rad,vconv,color=ut.linestylecb(j+3)[2],linestyle=ut.linestylecb(j+3)[0],label='$\\log_{10}\\,v_\\mathrm{conv}\\ (\\mathrm{cm\\,s}^{-1})$')\n",
    "\n",
    "#plot(lg_rad,Pe,color=ut.linestylecb(j+4)[2],linestyle=ut.linestylecb(j+4)[0],label='$\\log_{10}\\,(\\mathrm{P\\\\acute{e}clet\\ number}\\\\times (l(l+1)N^2/\\omega^2)$')\n",
    "plot(lg_rad,Dmix,color=ut.linestylecb(j+5)[2],linestyle=ut.linestylecb(j+5)[0],label='$\\log_{10}\\,D_\\mathrm{mix}$')\n",
    "plot(lg_rad,sl,color=ut.linestylecb(j+6)[2],linestyle=ut.linestylecb(j+6)[0],label='$0.1\\\\times\\mathrm{Lamb\\ frequency}\\ S_1$')\n",
    "plot(lg_rad,log_K,color=ut.linestylecb(j+4)[2],linestyle=ut.linestylecb(j+4)[0],label='$\\log_{10}\\,K\\ (\\mathrm{cm}^2\\mathrm{s}^{-1})$')\n",
    "plot(lg_rad,mu,color=ut.linestylecb(j+7)[2],linestyle=ut.linestylecb(j+7)[0],label='$8\\\\times\\\\mu$')\n",
    "\n",
    "# find and plot convective boundaries\n",
    "rad_conv = []\n",
    "i_conv = []\n",
    "for i in range(len(conv)):\n",
    "    if conv[i]*conv[i-1] <= 0:\n",
    "        fac = conv[i]/(conv[i]-conv[i-1])\n",
    "        rad_conv.append((1-fac)*lg_rad[i]+fac*lg_rad[i-1])\n",
    "        i_conv.append(i)\n",
    "for i in range(len(rad_conv)):\n",
    "    vlines(rad_conv[i], -0.5, 20, linestyles =\"dashed\", colors =\"r\") \n",
    "    \n",
    "#xlim(2500,15000)\n",
    "xlim(-2,2)\n",
    "ylim(-0.5,20)\n",
    "#xlabel('$r\\ (\\mathrm{Mm})$',fontsize=14)\n",
    "xlabel('$\\log_{10}\\,(r/R_\\mathrm{sun})$',fontsize=14)\n",
    "ylabel('$\\mathrm{stellar\\ parameter}$',fontsize=14)\n",
    "xticks(fontsize=14)\n",
    "yticks(fontsize=14)\n",
    "legend(frameon=False,loc=2)\n",
    "#vlines(2697.6,-1,17,colors='k',linestyles='dotted')\n",
    "title('model '+str(model_plot))\n",
    "show()\n",
    "#savefig('/user/scratch14_wendi3/dpa/M25Envelope.pdf')"
   ]
  },
  {
   "cell_type": "code",
   "execution_count": 10,
   "metadata": {},
   "outputs": [
    {
     "data": {
      "application/vnd.jupyter.widget-view+json": {
       "model_id": "85fa9ebdc2fe441eb264348decb66abe",
       "version_major": 2,
       "version_minor": 0
      },
      "text/plain": [
       "Canvas(toolbar=Toolbar(toolitems=[('Home', 'Reset original view', 'home', 'home'), ('Back', 'Back to previous …"
      ]
     },
     "metadata": {},
     "output_type": "display_data"
    },
    {
     "name": "stdout",
     "output_type": "stream",
     "text": [
      "21 in profiles.index file ...\n",
      "Found and load nearest profile for cycle 1600\n",
      "reading profile/user/scratch14_wendi3/dpa/my_mesa_5329/work_low_mass/LOGS_nomix/profile20.data ...\n",
      " reading ...100% \n",
      "\n",
      "Closing profile tool ...\n"
     ]
    }
   ],
   "source": [
    "# a plot with data later used to calculate the attenuation of IGWs by radiative diffusion\n",
    "\n",
    "ifig=ifig+1; close(ifig); fig=figure(ifig)\n",
    "size=8\n",
    "fig.canvas.layout.height = str(0.9*size)+'in'   # This is a hack to prevent ipympl\n",
    "fig.canvas.layout.width  = str(1.1*size)+'in'   # to adjust horizontal figure size\n",
    "\n",
    "j = 0\n",
    "\n",
    "results_dir = mesa_work_dir + 'LOGS'+suffix\n",
    "mod=ms.mesa_profile(results_dir,model_plot)\n",
    "rad = Rsun*mod.get('radius') # radius in cm\n",
    "rad_Mm = 1e-8*rad # radius in Mm\n",
    "lg_rad = log10(mod.get('radius')) # lg radius in solar units\n",
    "mu = mod.get('mu')\n",
    "    \n",
    "plot(lg_rad,mu,color=ut.linestylecb(j+8)[2],linestyle=ut.linestylecb(j+8)[0],label='')\n",
    "\n",
    "# find and plot convective boundaries\n",
    "rad_conv = []\n",
    "i_conv = []\n",
    "for i in range(len(conv)):\n",
    "    if conv[i]*conv[i-1] <= 0:\n",
    "        fac = conv[i]/(conv[i]-conv[i-1])\n",
    "        rad_conv.append((1-fac)*lg_rad[i]+fac*lg_rad[i-1])\n",
    "        i_conv.append(i)\n",
    "for i in range(len(rad_conv)):\n",
    "    vlines(rad_conv[i], -0.5, 17, linestyles =\"dashed\", colors =\"r\") \n",
    "    \n",
    "xlim(-1.5,0.5)\n",
    "ymin = 0\n",
    "ymax = 1.5\n",
    "ylim(ymin,ymax)\n",
    "#xlabel('$r\\ (\\mathrm{Mm})$',fontsize=14)\n",
    "xlabel('$\\log_{10}\\,(r/R_\\mathrm{sun})$',fontsize=14)\n",
    "ylabel('$\\\\mu$',fontsize=14)\n",
    "xticks(fontsize=14)\n",
    "yticks(fontsize=14)\n",
    "#legend(frameon=False,loc=2)\n",
    "vlines(-1.3,ymin,ymax,colors='k',linestyles='dotted')\n",
    "title('model '+str(model_plot))\n",
    "show()"
   ]
  },
  {
   "cell_type": "code",
   "execution_count": 11,
   "metadata": {},
   "outputs": [
    {
     "data": {
      "application/vnd.jupyter.widget-view+json": {
       "model_id": "2aa22339dd7847fca5905c28073fe323",
       "version_major": 2,
       "version_minor": 0
      },
      "text/plain": [
       "Canvas(toolbar=Toolbar(toolitems=[('Home', 'Reset original view', 'home', 'home'), ('Back', 'Back to previous …"
      ]
     },
     "metadata": {},
     "output_type": "display_data"
    },
    {
     "name": "stdout",
     "output_type": "stream",
     "text": [
      "21 in profiles.index file ...\n",
      "Found and load nearest profile for cycle 1600\n",
      "reading profile/user/scratch14_wendi3/dpa/my_mesa_5329/work_low_mass/LOGS_nomix/profile20.data ...\n",
      " reading ...100% \n",
      "\n",
      "Closing profile tool ...\n"
     ]
    },
    {
     "name": "stderr",
     "output_type": "stream",
     "text": [
      "/usr/local/lib/python3.6/dist-packages/ipykernel_launcher.py:18: RuntimeWarning: divide by zero encountered in log10\n",
      "/usr/local/lib/python3.6/dist-packages/ipykernel_launcher.py:19: RuntimeWarning: divide by zero encountered in log10\n"
     ]
    }
   ],
   "source": [
    "# a plot with data later used to calculate the attenuation of IGWs by radiative diffusion\n",
    "\n",
    "ifig=ifig+1; close(ifig); fig=figure(ifig)\n",
    "size=8\n",
    "fig.canvas.layout.height = str(0.9*size)+'in'   # This is a hack to prevent ipympl\n",
    "fig.canvas.layout.width  = str(1.1*size)+'in'   # to adjust horizontal figure size\n",
    "\n",
    "j = 0\n",
    "\n",
    "results_dir = mesa_work_dir + 'LOGS'+suffix\n",
    "mod=ms.mesa_profile(results_dir,model_plot)\n",
    "rad = Rsun*mod.get('radius') # radius in cm\n",
    "rad_Mm = 1e-8*rad # radius in Mm\n",
    "lg_rad = log10(mod.get('radius')) # lg radius in solar units\n",
    "xc12 = log10(mod.get('c12'))\n",
    "xc13 = log10(mod.get('c13'))\n",
    "xn14 = log10(mod.get('n14'))\n",
    "xhe3 = log10(mod.get('he3'))\n",
    "xbe7 = log10(mod.get('be7'))\n",
    "xli7 = log10(mod.get('li7'))\n",
    "    \n",
    "plot(lg_rad,xc12,color=ut.linestylecb(j+1)[2],linestyle=ut.linestylecb(j+1)[0],label='C-12')\n",
    "plot(lg_rad,xc13,color=ut.linestylecb(j+2)[2],linestyle=ut.linestylecb(j+2)[0],label='C-13')\n",
    "plot(lg_rad,xn14,color=ut.linestylecb(j+3)[2],linestyle=ut.linestylecb(j+3)[0],label='N-14')\n",
    "plot(lg_rad,xhe3,color=ut.linestylecb(j+4)[2],linestyle=ut.linestylecb(j+4)[0],label='He-3')\n",
    "plot(lg_rad,xbe7,color=ut.linestylecb(j+5)[2],linestyle=ut.linestylecb(j+5)[0],label='Be-7')\n",
    "plot(lg_rad,xli7,color=ut.linestylecb(j+6)[2],linestyle=ut.linestylecb(j+6)[0],label='Li-7')\n",
    "\n",
    "# find and plot convective boundaries\n",
    "#rad_conv = []\n",
    "#i_conv = []\n",
    "#for i in range(len(conv)):\n",
    "#    if conv[i]*conv[i-1] <= 0:\n",
    "#        fac = conv[i]/(conv[i]-conv[i-1])\n",
    "#        rad_conv.append((1-fac)*lg_rad[i]+fac*lg_rad[i-1])\n",
    "#        i_conv.append(i)\n",
    "#for i in range(len(rad_conv)):\n",
    "#    vlines(rad_conv[i], -12, -2, linestyles =\"dashed\", colors =\"r\") \n",
    "    \n",
    "xlim(-1.5,0.5)\n",
    "ylim(-12,-2)\n",
    "#xlabel('$r\\ (\\mathrm{Mm})$',fontsize=14)\n",
    "xlabel('$\\log_{10}\\,(r/R_\\mathrm{sun})$',fontsize=14)\n",
    "ylabel('$\\log_{10}\\,X_i$',fontsize=14)\n",
    "xticks(fontsize=14)\n",
    "yticks(fontsize=14)\n",
    "legend(frameon=False,loc='lower center')\n",
    "vlines(-1.3,-12,-2,colors='k',linestyles='dotted')\n",
    "title('model '+str(model_plot))\n",
    "show()"
   ]
  },
  {
   "cell_type": "code",
   "execution_count": 12,
   "metadata": {},
   "outputs": [
    {
     "data": {
      "application/vnd.jupyter.widget-view+json": {
       "model_id": "79759c2f0b5340a78bd855fd041ec77a",
       "version_major": 2,
       "version_minor": 0
      },
      "text/plain": [
       "Canvas(toolbar=Toolbar(toolitems=[('Home', 'Reset original view', 'home', 'home'), ('Back', 'Back to previous …"
      ]
     },
     "metadata": {},
     "output_type": "display_data"
    },
    {
     "name": "stdout",
     "output_type": "stream",
     "text": [
      "21 in profiles.index file ...\n",
      "Found and load nearest profile for cycle 1600\n",
      "reading profile/user/scratch14_wendi3/dpa/my_mesa_5329/work_low_mass/LOGS_nomix/profile20.data ...\n",
      " reading ...100% \n",
      "\n",
      "Closing profile tool ...\n"
     ]
    },
    {
     "name": "stderr",
     "output_type": "stream",
     "text": [
      "/usr/local/lib/python3.6/dist-packages/ipykernel_launcher.py:16: RuntimeWarning: divide by zero encountered in log10\n",
      "  app.launch_new_instance()\n",
      "/usr/local/lib/python3.6/dist-packages/ipykernel_launcher.py:17: RuntimeWarning: divide by zero encountered in log10\n"
     ]
    }
   ],
   "source": [
    "# a plot with data later used to calculate the attenuation of IGWs by radiative diffusion\n",
    "\n",
    "ifig=ifig+1; close(ifig); fig=figure(ifig)\n",
    "size=8\n",
    "fig.canvas.layout.height = str(0.9*size)+'in'   # This is a hack to prevent ipympl\n",
    "fig.canvas.layout.width  = str(1.1*size)+'in'   # to adjust horizontal figure size\n",
    "\n",
    "j = 0\n",
    "\n",
    "results_dir = mesa_work_dir + 'LOGS'+suffix\n",
    "mod=ms.mesa_profile(results_dir,model_plot)\n",
    "mr = mod.get('mass') # radius in cm\n",
    "xc12 = log10(mod.get('c12'))\n",
    "xc13 = log10(mod.get('c13'))\n",
    "xn14 = log10(mod.get('n14'))\n",
    "xhe3 = log10(mod.get('he3'))\n",
    "xbe7 = log10(mod.get('be7'))\n",
    "xli7 = log10(mod.get('li7'))\n",
    "    \n",
    "plot(mr,xc12,color=ut.linestylecb(j+1)[2],linestyle=ut.linestylecb(j+1)[0],label='C-12')\n",
    "plot(mr,xc13,color=ut.linestylecb(j+2)[2],linestyle=ut.linestylecb(j+2)[0],label='C-13')\n",
    "plot(mr,xn14,color=ut.linestylecb(j+3)[2],linestyle=ut.linestylecb(j+3)[0],label='N-14')\n",
    "plot(mr,xhe3,color=ut.linestylecb(j+4)[2],linestyle=ut.linestylecb(j+4)[0],label='He-3')\n",
    "plot(mr,xbe7,color=ut.linestylecb(j+5)[2],linestyle=ut.linestylecb(j+5)[0],label='Be-7')\n",
    "plot(mr,xli7,color=ut.linestylecb(j+6)[2],linestyle=ut.linestylecb(j+6)[0],label='Li-7')\n",
    "\n",
    "# find and plot convective boundaries\n",
    "mr_conv = []\n",
    "i_conv = []\n",
    "for i in range(len(conv)):\n",
    "    if conv[i]*conv[i-1] <= 0:\n",
    "        fac = conv[i]/(conv[i]-conv[i-1])\n",
    "        mr_conv.append((1-fac)*mr[i]+fac*mr[i-1])\n",
    "        i_conv.append(i)\n",
    "for i in range(len(rad_conv)):\n",
    "    vlines(mr_conv[i], -12, -2, linestyles =\"dashed\", colors =\"r\") \n",
    "    \n",
    "xlim(0.25,1.0)\n",
    "ylim(-12,-2)\n",
    "#xlabel('$r\\ (\\mathrm{Mm})$',fontsize=14)\n",
    "xlabel('$M_r/M_\\odot$',fontsize=14)\n",
    "ylabel('$\\log_{10}\\,X_i$',fontsize=14)\n",
    "xticks(fontsize=14)\n",
    "yticks(fontsize=14)\n",
    "legend(frameon=False,loc='lower center')\n",
    "vlines(-1.3,-12,-2,colors='k',linestyles='dotted')\n",
    "title('model '+str(model_plot))\n",
    "show()"
   ]
  },
  {
   "cell_type": "code",
   "execution_count": null,
   "metadata": {},
   "outputs": [],
   "source": []
  }
 ],
 "metadata": {
  "kernelspec": {
   "display_name": "Python 3",
   "language": "python",
   "name": "python3"
  },
  "language_info": {
   "codemirror_mode": {
    "name": "ipython",
    "version": 3
   },
   "file_extension": ".py",
   "mimetype": "text/x-python",
   "name": "python",
   "nbconvert_exporter": "python",
   "pygments_lexer": "ipython3",
   "version": "3.6.8"
  }
 },
 "nbformat": 4,
 "nbformat_minor": 4
}
