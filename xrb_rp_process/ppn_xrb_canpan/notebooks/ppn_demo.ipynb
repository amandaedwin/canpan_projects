{
 "cells": [
  {
   "cell_type": "code",
   "execution_count": 1,
   "metadata": {
    "collapsed": false,
    "jupyter": {
     "outputs_hidden": false
    }
   },
   "outputs": [
    {
     "name": "stdout",
     "output_type": "stream",
     "text": [
      "Populating the interactive namespace from numpy and matplotlib\n"
     ]
    }
   ],
   "source": [
    "#%pylab nbagg\n",
    "%pylab ipympl\n",
    "from nugridpy import ppn"
   ]
  },
  {
   "cell_type": "code",
   "execution_count": 2,
   "metadata": {
    "collapsed": false,
    "jupyter": {
     "outputs_hidden": false
    }
   },
   "outputs": [
    {
     "name": "stdout",
     "output_type": "stream",
     "text": [
      "2000 cycle numbers found in ..\n",
      "Ranging from 00000 to 01999\n",
      "Range may not be continuous. To display all available cycles, print <abu_vector_instance>.files\n"
     ]
    }
   ],
   "source": [
    "p=ppn.abu_vector('..')"
   ]
  },
  {
   "cell_type": "code",
   "execution_count": 3,
   "metadata": {
    "collapsed": false,
    "jupyter": {
     "outputs_hidden": false
    }
   },
   "outputs": [
    {
     "data": {
      "application/vnd.jupyter.widget-view+json": {
       "model_id": "e8a0820190c8483ba5cc8caf4606fc7f",
       "version_major": 2,
       "version_minor": 0
      },
      "text/plain": [
       "Canvas(toolbar=Toolbar(toolitems=[('Home', 'Reset original view', 'home', 'home'), ('Back', 'Back to previous …"
      ]
     },
     "metadata": {},
     "output_type": "display_data"
    },
    {
     "name": "stdout",
     "output_type": "stream",
     "text": [
      "This method adds the following variables to the instance:\n",
      "a_iso_to_plot      mass number of plotted range of species\n",
      "isotope_to_plot    corresponding list of isotopes\n",
      "z_iso_to_plot      corresponding charge numbers\n",
      "el_iso_to_plot     corresponding element names\n",
      "abunds             corresponding abundances\n",
      "isom               isomers and their abundance\n",
      "Calling get method in cycle mode, adding a_iso_to_plot, z.. el.. isotope.. isotope... to instance\n",
      "WARNING: decayed in _getcycle ignores isomers and will decay alpha-unstable p-rich nuclei as if they were beta+ stable.\n",
      "Initialising decay index pointers ....\n",
      "Th does not exist in this run\n",
      "U does not exist in this run\n",
      "At does not exist in this run\n",
      "Rn does not exist in this run\n",
      "Fr does not exist in this run\n",
      "Ra does not exist in this run\n",
      "Ac does not exist in this run\n",
      "Pa does not exist in this run\n",
      "Np does not exist in this run\n",
      "Pu does not exist in this run\n",
      "Am does not exist in this run\n",
      "Cm does not exist in this run\n",
      "Bk does not exist in this run\n",
      "Cf does not exist in this run\n",
      "It seems unstable species He-6 wants to decay to Li-6, however this species is not in this run. This points to an inconsistency in the network build. Here we will ignore the abundance of He-6.\n",
      "It seems unstable species Li-9 wants to decay to Be-9, however this species is not in this run. This points to an inconsistency in the network build. Here we will ignore the abundance of Li-9.\n",
      "It seems unstable species Be-10 wants to decay to B-10, however this species is not in this run. This points to an inconsistency in the network build. Here we will ignore the abundance of Be-10.\n",
      "Can't find element Th in isotopedatabase.txt\n",
      "Using the following conditions:\n",
      "\tAtomic mass_range: 1 209\n",
      "\tcycle:            1\n",
      "\tplot only stable: True\n",
      "\tplot decayed:     True\n",
      "['-', '--', '-.', ':', '-']\n"
     ]
    }
   ],
   "source": [
    "ifig=1;close(ifig);figure(ifig)\n",
    "p.iso_abund(1,decayed=True,stable=True)"
   ]
  },
  {
   "cell_type": "code",
   "execution_count": 4,
   "metadata": {
    "collapsed": false,
    "jupyter": {
     "outputs_hidden": false
    }
   },
   "outputs": [
    {
     "data": {
      "application/vnd.jupyter.widget-view+json": {
       "model_id": "34ae6a38a3b14c8694810a1f7814e8fc",
       "version_major": 2,
       "version_minor": 0
      },
      "text/plain": [
       "Canvas(toolbar=Toolbar(toolitems=[('Home', 'Reset original view', 'home', 'home'), ('Back', 'Back to previous …"
      ]
     },
     "metadata": {},
     "output_type": "display_data"
    }
   ],
   "source": [
    "ifig=2;close(ifig);figure(ifig)\n",
    "p.abu_chart(38,ifig=ifig)"
   ]
  },
  {
   "cell_type": "code",
   "execution_count": null,
   "metadata": {},
   "outputs": [],
   "source": []
  }
 ],
 "metadata": {
  "kernelspec": {
   "display_name": "Python 2",
   "language": "python",
   "name": "python2"
  },
  "language_info": {
   "codemirror_mode": {
    "name": "ipython",
    "version": 3
   },
   "file_extension": ".py",
   "mimetype": "text/x-python",
   "name": "python",
   "nbconvert_exporter": "python",
   "pygments_lexer": "ipython3",
   "version": "3.6.8"
  }
 },
 "nbformat": 4,
 "nbformat_minor": 4
}
