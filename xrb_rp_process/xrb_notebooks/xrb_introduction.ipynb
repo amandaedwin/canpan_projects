{
 "cells": [
  {
   "cell_type": "code",
   "execution_count": 1,
   "metadata": {
    "slideshow": {
     "slide_type": "skip"
    }
   },
   "outputs": [],
   "source": [
    "from IPython.display import Image, HTML, display, IFrame"
   ]
  },
  {
   "cell_type": "markdown",
   "metadata": {
    "slideshow": {
     "slide_type": "slide"
    }
   },
   "source": [
    "<center> \n",
    "<h1> CaNPAN Projects: X-ray bursts and rp-process </h1>\n",
    "<h2> Introduction </h2>\n",
    "</center>"
   ]
  },
  {
   "cell_type": "markdown",
   "metadata": {
    "slideshow": {
     "slide_type": "slide"
    }
   },
   "source": [
    "<center> \n",
    "<h2> General Comments on CaNPAN Projects </h2>\n",
    "</center>\n",
    "\n",
    "The main goal of the CaNPAN projects is to provide Canadian nuclear physicists and stellar astrophysicists with computational tools that will help them to collaborate on identifying and solving problems of mutual interests.\n",
    "Most of these problems are about nuclear reactions going in stars and leading to the production of chemical elements and their isotopes in the Universe. To quicker reach the goal, for each project\n",
    "* I will first briefly describe a stellar site where nuclear reactions you want to study are likely to play an important role, then \n",
    "\n",
    "* I will demonstrate how the evolution of thermodynamic and mixing properties of this site can be simulated with the stellar evolution code MESA and\n",
    "\n",
    "* I will also explain how to use results of a MESA simulation for one- and multi-zone post-processing nucleosynthesis computations with the NuGrid codes ppn and mppnp, and, finally,\n",
    "\n",
    "* I will show how to set up and run the NuGrid post-processing nucleosynthesis computatons for Monte Carlo reaction rate sensitivity and uncertainty studies."
   ]
  },
  {
   "cell_type": "markdown",
   "metadata": {
    "slideshow": {
     "slide_type": "slide"
    }
   },
   "source": [
    "<center>\n",
    "<h4>In this project, we focus on rp-process nucleosynthesis during an X-ray burst on an accreting neutron star</h4>\n",
    "</center>\n",
    "\n",
    "A neutron star in a binary system can accrete hydrogen- and helium-rich material from the surface of its companion star, usually a red giant. As the accreted matterial accumulates more and more, the earlier arrived material gets continuously compressed by the new material and ultimately conditions for thermonuclear ignition are reached. The huge energy from unstable nuclear burning is released in the form of X rays in a very short time interval, therefore this  astrophysical phenomenon is called the X-Ray burst. The typical accretion rates are from $10^{-11}$ to $10^{-8}$ $M_\\odot \\mathrm{yr}^{-1}$, and the peak temperature exceeds 1 GK which is suited for rapid proton capture (rp-process) to occur."
   ]
  },
  {
   "cell_type": "markdown",
   "metadata": {
    "slideshow": {
     "slide_type": "slide"
    }
   },
   "source": [
    "<center>\n",
    "<h4>The following slides were prepared by Andrew Cumming in 2015 as educational material for MESA simulations of Type-I X-ray bursts (http://cococubed.asu.edu/mesa_market/education.html)</h4>\n",
    "<img src=\"img/cumming_p1.png\", width=1200>\n",
    "</center>"
   ]
  },
  {
   "cell_type": "markdown",
   "metadata": {
    "slideshow": {
     "slide_type": "slide"
    }
   },
   "source": [
    "<center>\n",
    "<img src=\"img/cumming_p2.png\", width=1200>\n",
    "</center>"
   ]
  },
  {
   "cell_type": "markdown",
   "metadata": {
    "slideshow": {
     "slide_type": "slide"
    }
   },
   "source": [
    "<center>\n",
    "<img src=\"img/cumming_p3.png\", width=1200>\n",
    "</center>"
   ]
  },
  {
   "cell_type": "markdown",
   "metadata": {
    "slideshow": {
     "slide_type": "slide"
    }
   },
   "source": [
    "<center>\n",
    "<img src=\"img/cumming_p8.png\", width=1200>\n",
    "</center>"
   ]
  },
  {
   "cell_type": "markdown",
   "metadata": {
    "slideshow": {
     "slide_type": "slide"
    }
   },
   "source": [
    "<center>\n",
    "<img src=\"img/cumming_p4.png\", width=1200>\n",
    "</center>"
   ]
  },
  {
   "cell_type": "markdown",
   "metadata": {
    "slideshow": {
     "slide_type": "slide"
    }
   },
   "source": [
    "<center>\n",
    "<h4>A series of XRBs simulated with MESA code revision 7426 in the directory xrb_mesa_canpan</h4> \n",
    "<img src=\"img/XRBs_mesa_rp_153.png\", width=1200>\n",
    "</center>"
   ]
  },
  {
   "cell_type": "markdown",
   "metadata": {
    "slideshow": {
     "slide_type": "slide"
    }
   },
   "source": [
    "<center>\n",
    "<h4>The 7th XRB in the series of XRBs simulated with MESA code revision 7426 in the directory xrb_mesa_canpan</h4> \n",
    "<img src=\"img/XRB_7_mesa_rp_153.png\", width=1200>\n",
    "</center>"
   ]
  },
  {
   "cell_type": "markdown",
   "metadata": {
    "slideshow": {
     "slide_type": "slide"
    }
   },
   "source": [
    "<center>\n",
    "<h4>Changes of the temperature and density (model) for the 7th XRB simulated with MESA code revision 7426 in the directory xrb_mesa_canpan</h4> \n",
    "<img src=\"img/Trho_XRB_7_mesa_rp_153.png\", width=1200>\n",
    "</center>"
   ]
  },
  {
   "cell_type": "markdown",
   "metadata": {
    "slideshow": {
     "slide_type": "slide"
    }
   },
   "source": [
    "<center>\n",
    "<img src=\"img/cumming_p5.png\", width=1200>\n",
    "</center>"
   ]
  },
  {
   "cell_type": "markdown",
   "metadata": {
    "slideshow": {
     "slide_type": "slide"
    }
   },
   "source": [
    "<center>\n",
    "<img src=\"img/cumming_p6.png\", width=1200>\n",
    "</center>"
   ]
  },
  {
   "cell_type": "markdown",
   "metadata": {
    "slideshow": {
     "slide_type": "slide"
    }
   },
   "source": [
    "<center>\n",
    "<img src=\"img/cumming_p7.png\", width=1200>\n",
    "</center>"
   ]
  },
  {
   "cell_type": "markdown",
   "metadata": {
    "slideshow": {
     "slide_type": "slide"
    }
   },
   "source": [
    "<center>\n",
    "<img src=\"img/cumming_p9.png\", width=1200>\n",
    "</center>"
   ]
  },
  {
   "cell_type": "markdown",
   "metadata": {
    "slideshow": {
     "slide_type": "slide"
    }
   },
   "source": [
    "<center>\n",
    "<img src=\"img/cumming_p10.png\", width=1200>\n",
    "</center>"
   ]
  }
 ],
 "metadata": {
  "anaconda-cloud": {},
  "celltoolbar": "Slideshow",
  "kernelspec": {
   "display_name": "Python 3",
   "language": "python",
   "name": "python3"
  },
  "language_info": {
   "codemirror_mode": {
    "name": "ipython",
    "version": 3
   },
   "file_extension": ".py",
   "mimetype": "text/x-python",
   "name": "python",
   "nbconvert_exporter": "python",
   "pygments_lexer": "ipython3",
   "version": "3.7.2"
  }
 },
 "nbformat": 4,
 "nbformat_minor": 1
}
