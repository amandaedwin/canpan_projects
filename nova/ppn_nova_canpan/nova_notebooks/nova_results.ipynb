{
 "cells": [
  {
   "cell_type": "markdown",
   "metadata": {},
   "source": [
    "### Analysis of the ONE-ZONE computations of a nova model"
   ]
  },
  {
   "cell_type": "code",
   "execution_count": 1,
   "metadata": {
    "collapsed": false,
    "jupyter": {
     "outputs_hidden": false
    }
   },
   "outputs": [
    {
     "name": "stdout",
     "output_type": "stream",
     "text": [
      "Populating the interactive namespace from numpy and matplotlib\n"
     ]
    }
   ],
   "source": [
    "#%pylab nbagg\n",
    "%pylab ipympl \n",
    "from nugridpy import ppn\n",
    "from nugridpy import utils\n",
    "from matplotlib.pylab import *"
   ]
  },
  {
   "cell_type": "code",
   "execution_count": 2,
   "metadata": {
    "collapsed": false,
    "jupyter": {
     "outputs_hidden": false
    }
   },
   "outputs": [
    {
     "name": "stdout",
     "output_type": "stream",
     "text": [
      "975 cycle numbers found in ../\n",
      "Ranging from 00000 to 00974\n",
      "Range may not be continuous. To display all available cycles, print <abu_vector_instance>.files\n"
     ]
    }
   ],
   "source": [
    "p=ppn.abu_vector('../')"
   ]
  },
  {
   "cell_type": "code",
   "execution_count": 3,
   "metadata": {
    "collapsed": false,
    "jupyter": {
     "outputs_hidden": false
    }
   },
   "outputs": [
    {
     "data": {
      "application/vnd.jupyter.widget-view+json": {
       "model_id": "1e336b6c6b4a4738b8d5ac9eea238285",
       "version_major": 2,
       "version_minor": 0
      },
      "text/plain": [
       "Canvas(toolbar=Toolbar(toolitems=[('Home', 'Reset original view', 'home', 'home'), ('Back', 'Back to previous …"
      ]
     },
     "metadata": {},
     "output_type": "display_data"
    },
    {
     "name": "stdout",
     "output_type": "stream",
     "text": [
      "This method adds the following variables to the instance:\n",
      "a_iso_to_plot      mass number of plotted range of species\n",
      "isotope_to_plot    corresponding list of isotopes\n",
      "z_iso_to_plot      corresponding charge numbers\n",
      "el_iso_to_plot     corresponding element names\n",
      "abunds             corresponding abundances\n",
      "isom               isomers and their abundance\n",
      "Calling get method in cycle mode, adding a_iso_to_plot, z.. el.. isotope.. isotope... to instance\n",
      "Using the following conditions:\n",
      "\tAtomic mass_range: 1 276\n",
      "\tcycle:            800\n",
      "\tplot only stable: False\n",
      "\tplot decayed:     False\n",
      "['-', '--', '-.', ':', '-']\n"
     ]
    }
   ],
   "source": [
    "cycle=800 # cycle to plot\n",
    "close(5);figure(5)\n",
    "p.iso_abund(cycle)"
   ]
  },
  {
   "cell_type": "code",
   "execution_count": 4,
   "metadata": {
    "collapsed": false,
    "jupyter": {
     "outputs_hidden": false
    }
   },
   "outputs": [
    {
     "data": {
      "application/vnd.jupyter.widget-view+json": {
       "model_id": "62d6d95e732e43a38d5a87e50e8278d2",
       "version_major": 2,
       "version_minor": 0
      },
      "text/plain": [
       "Canvas(toolbar=Toolbar(toolitems=[('Home', 'Reset original view', 'home', 'home'), ('Back', 'Back to previous …"
      ]
     },
     "metadata": {},
     "output_type": "display_data"
    }
   ],
   "source": [
    "p.abu_chart(cycle,plotaxis=[-1.5,29.5,0.5,20.5])"
   ]
  },
  {
   "cell_type": "markdown",
   "metadata": {},
   "source": [
    "### Make a plot of abundances vs time"
   ]
  },
  {
   "cell_type": "code",
   "execution_count": 5,
   "metadata": {},
   "outputs": [],
   "source": [
    "# plot parameters:\n",
    "\n",
    "specs = ['PROT','HE  4','C  12','N  14','O  16','NE 20','MG 24','SI 28'] # isotopes to plot\n",
    "y_lim = (-5,0.2) \n",
    "legend_loc = 4 \n",
    "x_axis_rev = False \n",
    "log_time = False\n",
    "y_axis_offset = 0 \n",
    "time_in_min = True "
   ]
  },
  {
   "cell_type": "code",
   "execution_count": 6,
   "metadata": {
    "collapsed": false,
    "jupyter": {
     "outputs_hidden": false
    }
   },
   "outputs": [
    {
     "name": "stdout",
     "output_type": "stream",
     "text": [
      "number of species:  5215\n",
      "number of cols:  5221\n",
      "There are 974 time steps found.\n"
     ]
    },
    {
     "data": {
      "application/vnd.jupyter.widget-view+json": {
       "model_id": "4c8942aa1ba54f3cb7d0a69cb11d6172",
       "version_major": 2,
       "version_minor": 0
      },
      "text/plain": [
       "Canvas(toolbar=Toolbar(toolitems=[('Home', 'Reset original view', 'home', 'home'), ('Back', 'Back to previous …"
      ]
     },
     "metadata": {},
     "output_type": "display_data"
    },
    {
     "data": {
      "text/plain": [
       "Text(0, 0.5, '$\\\\log_{10}X_i$')"
      ]
     },
     "execution_count": 6,
     "metadata": {},
     "output_type": "execute_result"
    }
   ],
   "source": [
    "# make the plot\n",
    "\n",
    "symbs=utils.symbol_list('lines2')\n",
    "x=ppn.xtime('../')\n",
    "abus=[]\n",
    "for spec in specs:\n",
    "    abu=x.get(spec)\n",
    "    abus.append(abu)\n",
    "\n",
    "if time_in_min:\n",
    "    time=x.get('time')*(3.1558149984e7/60e0)\n",
    "else:\n",
    "    time=x.get('time')\n",
    "close(10);figure(10)\n",
    "for i in range(len(specs)):\n",
    "    if log_time:\n",
    "        plot(log10(time),log10(abus[i] + y_axis_offset),symbs[i],label=specs[i])\n",
    "    else:\n",
    "        plot(time,log10(abus[i] + y_axis_offset),symbs[i],label=specs[i])\n",
    "\n",
    "if x_axis_rev:\n",
    "    utils.xlimrev()\n",
    "ylim(*y_lim)\n",
    "legend(loc=legend_loc)\n",
    "\n",
    "xlabel('$\\mathrm{time\\ (min)}$',fontsize=16)\n",
    "ylabel('$\\log_{10}X_i$',fontsize=16)"
   ]
  },
  {
   "cell_type": "code",
   "execution_count": null,
   "metadata": {},
   "outputs": [],
   "source": []
  }
 ],
 "metadata": {
  "anaconda-cloud": {},
  "kernelspec": {
   "display_name": "Python 2",
   "language": "python",
   "name": "python2"
  },
  "language_info": {
   "codemirror_mode": {
    "name": "ipython",
    "version": 3
   },
   "file_extension": ".py",
   "mimetype": "text/x-python",
   "name": "python",
   "nbconvert_exporter": "python",
   "pygments_lexer": "ipython3",
   "version": "3.6.8"
  }
 },
 "nbformat": 4,
 "nbformat_minor": 4
}
