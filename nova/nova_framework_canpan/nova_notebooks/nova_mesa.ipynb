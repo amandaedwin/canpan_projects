{
 "cells": [
  {
   "cell_type": "markdown",
   "metadata": {},
   "source": [
    "# Plot and analyze results of CO or ONe nova MESA computations\n",
    "\n",
    "#### Read comments at the beginning of each cell to understand what it does"
   ]
  },
  {
   "cell_type": "code",
   "execution_count": 1,
   "metadata": {},
   "outputs": [
    {
     "name": "stdout",
     "output_type": "stream",
     "text": [
      "Populating the interactive namespace from numpy and matplotlib\n"
     ]
    }
   ],
   "source": [
    "# on an astrohub server use ipympl that enables the interactive features of \n",
    "# matplotlib in the Jupyter notebook and in JupyterLab\n",
    "%pylab ipympl  \n",
    "\n",
    "# for jupyter classic notebook use\n",
    "#%pylab nbagg\n",
    "\n",
    "from nugridpy import mesa as ms\n",
    "from nugridpy import utils as ut\n",
    "\n",
    "# begin counting figures\n",
    "ifig=0\n",
    "for i in range(0,10000):\n",
    "    close(i)"
   ]
  },
  {
   "cell_type": "code",
   "execution_count": 2,
   "metadata": {},
   "outputs": [],
   "source": [
    "#### this cell defines functions that allow to suppress unnecessary output information\n",
    "import os\n",
    "from contextlib import contextmanager\n",
    "@contextmanager\n",
    "def redirect_stdout(new_target):\n",
    "    old_target, sys.stdout = sys.stdout, new_target\n",
    "    try:\n",
    "        yield new_target\n",
    "    finally:\n",
    "        sys.stdout = old_target\n",
    "def get_devnull():\n",
    "    #return open(os.devnull, \"w\")\n",
    "    return open('log_stuff.txt', \"w\") #where all the stuff goes you don't want to see\n",
    "####"
   ]
  },
  {
   "cell_type": "code",
   "execution_count": 3,
   "metadata": {},
   "outputs": [
    {
     "name": "stdout",
     "output_type": "stream",
     "text": [
      "Msun = 1.988409870698051e+30\n",
      "Rsun = 695700000.0\n",
      "Lsun = 3.828e+26\n",
      "Newton's G = 6.6743e-11\n",
      "Stefan-Boltzmann constant = 5.6703744191844314e-08\n"
     ]
    }
   ],
   "source": [
    "# astronomical and physical constants in SI units\n",
    "from astropy import constants as const\n",
    "from astropy import units as u\n",
    "\n",
    "Msun = (const.M_sun).value\n",
    "Rsun = (const.R_sun).value\n",
    "Lsun = (const.L_sun).value\n",
    "GN = (const.G).value  # Newton's constant \n",
    "sigma = (const.sigma_sb).value\n",
    "print ('Msun =',Msun)\n",
    "print ('Rsun =',Rsun)\n",
    "print ('Lsun =',Lsun)\n",
    "print (\"Newton's G =\",GN)\n",
    "print (\"Stefan-Boltzmann constant =\",sigma)"
   ]
  },
  {
   "cell_type": "code",
   "execution_count": 4,
   "metadata": {},
   "outputs": [],
   "source": [
    "# name of your directory on astrohub/outreach server\n",
    "name = 'student_test' # 'your_name'\n",
    "\n",
    "# choose between CO and ONe nova cases\n",
    "\n",
    "#nova_case = 'co_nova'\n",
    "nova_case = 'ne_nova'\n",
    "\n",
    "# e.g. CO Nova with M=1.15, T=12, dM/dt=2e-10, 3010 cycles obtained with ./run_mesa 1.15 12 X 3010\n",
    "# or ONe Nova with M=1.3, T=30, dM/dt=2e-10, 2010 cycles obtained with ./run_mesa 1.3 30 X 2010\n",
    "\n",
    "# path to MESA nova work directory\n",
    "# on astrohub/outreach server\n",
    "mesa_work_dir = '/user/scratch14_outreach/'+name+'/canpan_projects/nova/nova_framework_canpan/' "
   ]
  },
  {
   "cell_type": "code",
   "execution_count": 5,
   "metadata": {},
   "outputs": [
    {
     "name": "stdout",
     "output_type": "stream",
     "text": [
      "There are 103 profiles for the following models:\n",
      " [1, 11, 20, 40, 60, 80, 100, 120, 140, 160, 180, 200, 220, 240, 260, 280, 300, 320, 340, 360, 380, 400, 420, 440, 460, 480, 500, 520, 540, 560, 580, 600, 620, 640, 660, 680, 700, 720, 740, 760, 780, 800, 820, 840, 860, 880, 900, 920, 940, 960, 980, 1000, 1020, 1040, 1060, 1080, 1100, 1120, 1140, 1160, 1180, 1200, 1220, 1240, 1260, 1280, 1300, 1320, 1340, 1360, 1380, 1400, 1420, 1440, 1460, 1480, 1500, 1520, 1540, 1560, 1580, 1600, 1620, 1640, 1660, 1680, 1700, 1720, 1740, 1760, 1780, 1800, 1820, 1840, 1860, 1880, 1900, 1920, 1940, 1960, 1980, 2000, 2010]\n"
     ]
    }
   ],
   "source": [
    "# read profiles.index file from path to LOGS directory that contains results of MESA nova computations\n",
    "nova_dir = mesa_work_dir+nova_case+'/LOGS/'\n",
    "f = open(nova_dir+'profiles.index', 'r')\n",
    "\n",
    "profiles = []\n",
    "\n",
    "i=0\n",
    "for line in f:\n",
    "    if i >= 1:\n",
    "        profiles.append(int(float(line.split()[0])))\n",
    "    i += 1\n",
    "    \n",
    "f.close()\n",
    "\n",
    "print (\"There are\",len(profiles),\"profiles for the following models:\\n\", profiles)"
   ]
  },
  {
   "cell_type": "code",
   "execution_count": 6,
   "metadata": {},
   "outputs": [
    {
     "name": "stdout",
     "output_type": "stream",
     "text": [
      "Requested new history.datasa; create new from history.data\n",
      " reading ...100% \n",
      "\n"
     ]
    },
    {
     "data": {
      "application/vnd.jupyter.widget-view+json": {
       "model_id": "b6897094316f4252a8af6bb0566b8d35",
       "version_major": 2,
       "version_minor": 0
      },
      "text/plain": [
       "Canvas(toolbar=Toolbar(toolitems=[('Home', 'Reset original view', 'home', 'home'), ('Back', 'Back to previous …"
      ]
     },
     "metadata": {},
     "output_type": "display_data"
    }
   ],
   "source": [
    "# plot nova evolutionary track\n",
    "sh = ms.history_data(nova_dir,clean_starlog=True)\n",
    "age = sh.get('star_age')\n",
    "model = sh.get('model_number')\n",
    "lgL = sh.get('log_L')\n",
    "lgTeff = sh.get('log_Teff')\n",
    "\n",
    "ifig=ifig+1;close(ifig);fig=figure(ifig)\n",
    "size=8\n",
    "fig.canvas.layout.height = str(0.9*size)+'in'   # This is a hack to prevent ipympl\n",
    "fig.canvas.layout.width  = str(1.1*size)+'in'   # to adjust horizontal figure size\n",
    "sh.hrd()"
   ]
  },
  {
   "cell_type": "code",
   "execution_count": 7,
   "metadata": {},
   "outputs": [],
   "source": [
    "# plot line of constant WD Roche lobe radius\n",
    "# to calculate it, I use equation (2) from https://ui.adsabs.harvard.edu/abs/1983ApJ...268..368E/abstract\n",
    "# and Kepler's law\n",
    "\n",
    "m1 = 1.3 # WD mass in solar units\n",
    "m2 = 2.5 # WD companion mass in solar units\n",
    "P = 2 # WD orbital period in hours, e.g. see Table 1 in https://ui.adsabs.harvard.edu/abs/1997A%26A...322..807D/abstract\n",
    "\n",
    "q1 = m1/m2 # WD to its companion mass ratio\n",
    "aRsun = (GN*Msun*3600**2/(4*pi**2*Rsun**3))**(1./3.)*P**(2./3.)*(m2*(1+q1))**(1./3.) # semi-major axis in solar radii\n",
    "\n",
    "nrL = 100\n",
    "xx = linspace(amin(lgTeff),amax(lgTeff),nrL)\n",
    "yy = linspace(0,0,nrL)\n",
    "\n",
    "rLa1 = 0.49*q1**(2./3.)/(0.6*q1**(2./3.)+log(1+q1**(1./3.))) # RL radius in units of semi-major axis\n",
    "const = log10(4*pi*sigma*Rsun**2/Lsun)\n",
    "\n",
    "for i in range(nrL):\n",
    "    yy[i] = const + 2*log10(rLa1*aRsun) + 4*xx[i]\n",
    "    \n",
    "plot(xx,yy,color=ut.linestylecb(1)[2],linestyle='dashed',label='q='+str(\"{:.2}\".format(q1))+', P='+str(P)+' (hr)')\n",
    "ylim(amin(lgL)-0.25,amax(lgL)+0.25)\n",
    "\n",
    "show()"
   ]
  },
  {
   "cell_type": "code",
   "execution_count": 8,
   "metadata": {},
   "outputs": [
    {
     "data": {
      "text/plain": [
       "[1, 60, 140, 220, 300, 380, 460, 620, 940, 1260, 1580, 1900]"
      ]
     },
     "execution_count": 8,
     "metadata": {},
     "output_type": "execute_result"
    }
   ],
   "source": [
    "# select profiles of every_nth_1 model before and every_nth_2 model after cycle_1 along evolutionary track to plot\n",
    "cycle_1 = 500\n",
    "every_nth_1 = 4\n",
    "every_nth_2 = 16\n",
    "\n",
    "model_sel = []\n",
    "\n",
    "for i in range(len(profiles)):\n",
    "    if profiles[i] <= cycle_1:\n",
    "        if i%every_nth_1 == 0:\n",
    "            model_sel.append(profiles[i])\n",
    "    else:\n",
    "        if i%every_nth_2 == 0:\n",
    "            model_sel.append(profiles[i]) \n",
    "\n",
    "model_sel"
   ]
  },
  {
   "cell_type": "code",
   "execution_count": 9,
   "metadata": {},
   "outputs": [],
   "source": [
    "# add models with selected profiles to the above HRD\n",
    "lgL_plot = []\n",
    "lgTeff_plot = []\n",
    "clr = []\n",
    "\n",
    "j = 0\n",
    "for mod in model_sel:\n",
    "    lgL_plot.append(lgL[mod-1])\n",
    "    lgTeff_plot.append(lgTeff[mod-1])\n",
    "    #print (j,mod,lgL_plot[j])\n",
    "    plot(lgTeff_plot[j],lgL_plot[j],marker='o',markerfacecolor=ut.linestylecb(j)[2],\\\n",
    "         markeredgecolor=ut.linestylecb(j)[2],label='model '+str(mod))\n",
    "    j += 1\n",
    "\n",
    "xlabel('$\\log_{10}\\,T_\\mathrm{eff}$')\n",
    "ylabel('$\\log_{10}\\,L/L_\\odot$')\n",
    "xlim()\n",
    "legend(frameon=False,loc=3,fontsize=8)\n",
    "show()\n",
    "\n",
    "plt.savefig(mesa_work_dir+nova_case+'/'+nova_case+'_plots/track.pdf')"
   ]
  },
  {
   "cell_type": "code",
   "execution_count": 10,
   "metadata": {},
   "outputs": [],
   "source": [
    "# prepare array of maximum temperatures for each profile (this may take a few minutes)\n",
    "log_Tmax = []\n",
    "\n",
    "with get_devnull() as devnull, redirect_stdout(devnull):\n",
    "    for mod in profiles:\n",
    "        p_mod=ms.mesa_profile(nova_dir,mod)\n",
    "        p_logT = p_mod.get('logT')\n",
    "        log_Tmax.append(max(p_logT))"
   ]
  },
  {
   "cell_type": "code",
   "execution_count": 11,
   "metadata": {},
   "outputs": [
    {
     "name": "stdout",
     "output_type": "stream",
     "text": [
      "103 in profiles.index file ...\n",
      "Found and load nearest profile for cycle 220\n",
      "reading profile/user/scratch14_outreach/student_test/canpan_projects/nova/nova_framework_canpan/ne_nova/LOGS//profile13.data ...\n",
      " reading ...100% \n",
      "\n",
      "Closing profile tool ...\n",
      "\n",
      "profile 220 has the maximum temperature with lg(T_max) = 8.460566301320693\n",
      "and log density at T_max is 2.547085909626918\n"
     ]
    }
   ],
   "source": [
    "# find model profile with maximum log_Tmax\n",
    "i1 = argmax(log_Tmax)\n",
    "mod = profiles[i1]\n",
    "\n",
    "p_mod=ms.mesa_profile(nova_dir,mod)\n",
    "p_logT = p_mod.get('logT')\n",
    "p_logRho = p_mod.get('logRho')\n",
    "\n",
    "k1 = argmax(p_logT)\n",
    "\n",
    "print (\"\\nprofile\",profiles[i1],\"has the maximum temperature with lg(T_max) =\",log_Tmax[i1])\n",
    "print (\"and log density at T_max is\",p_logRho[k1])"
   ]
  },
  {
   "cell_type": "code",
   "execution_count": 12,
   "metadata": {},
   "outputs": [],
   "source": [
    "# plots will be made for Mr > m_bot; adjust m_bot looking at the produced plots\n",
    "\n",
    "# 1.0 Msun CO nova model \n",
    "#m_bot = 0.999995\n",
    "#xmax1 = 6.5\n",
    "#xmax = 6.5\n",
    "\n",
    "if nova_case == 'co_nova':\n",
    "    # 1.15 Msun CO nova model \n",
    "    m_bot = 1.150003\n",
    "    xmax = 3.5\n",
    "elif nova_case == 'ne_nova':\n",
    "    # 1.3 Msun ONe nova model \n",
    "    m_bot = 1.299999\n",
    "    xmax = 1.0\n",
    "else:\n",
    "    print (\"\\nnova case is not known\")"
   ]
  },
  {
   "cell_type": "code",
   "execution_count": 13,
   "metadata": {},
   "outputs": [
    {
     "name": "stdout",
     "output_type": "stream",
     "text": [
      "103 in profiles.index file ...\n",
      "Found and load nearest profile for cycle 220\n",
      "reading profile/user/scratch14_outreach/student_test/canpan_projects/nova/nova_framework_canpan/ne_nova/LOGS//profile13.data ...\n",
      " reading ...100% \n",
      "\n",
      "Closing profile tool ...\n",
      "\n",
      "zone number and relative mass coordinate of T_max are 510 0.0970113837039932\n"
     ]
    }
   ],
   "source": [
    "# for model with maximum temperature find zone number and \n",
    "# mass coordinate at which T has the maximum\n",
    "# zero point for the mass coordinate is m_bot, and mass difference\n",
    "# is multiplied by 1e+5 to zoom in thin envelope\n",
    "\n",
    "mod = profiles[i1]\n",
    "p_mod=ms.mesa_profile(nova_dir,mod)\n",
    "p_mass = p_mod.get('mass')\n",
    "p_logT = p_mod.get('logT')\n",
    "mass_Tmax = 1e+5*(p_mass[argmax(p_logT)]-m_bot)\n",
    "xx = [mass_Tmax,mass_Tmax]\n",
    "print (\"\\nzone number and relative mass coordinate of T_max are\",argmax(p_logT),mass_Tmax)"
   ]
  },
  {
   "cell_type": "code",
   "execution_count": 14,
   "metadata": {},
   "outputs": [
    {
     "data": {
      "application/vnd.jupyter.widget-view+json": {
       "model_id": "4f070f536d2d49f9b257513f870301e9",
       "version_major": 2,
       "version_minor": 0
      },
      "text/plain": [
       "Canvas(toolbar=Toolbar(toolitems=[('Home', 'Reset original view', 'home', 'home'), ('Back', 'Back to previous …"
      ]
     },
     "metadata": {},
     "output_type": "display_data"
    }
   ],
   "source": [
    "# plot temperature profiles in selected models\n",
    "# make plots only for accreted envelope \n",
    "# it is very thin in mass (~1e-5 Msun) relative to WD mass,\n",
    "# therefore mass coordinate at left edge of plot, m_bot,\n",
    "# has to be adjusted appropriately by redefining ita in the cell above\n",
    "# if it's necessary\n",
    "\n",
    "ifig=ifig+1;close(ifig);fig=figure(ifig)\n",
    "size=8\n",
    "fig.canvas.layout.height = str(0.9*size)+'in'   # This is a hack to prevent ipympl\n",
    "fig.canvas.layout.width  = str(1.1*size)+'in'   # to adjust horizontal figure size\n",
    "\n",
    "ymin = 6.0\n",
    "ymax = 8.5\n",
    "yy = [ymin,ymax]\n",
    "\n",
    "with get_devnull() as devnull, redirect_stdout(devnull):\n",
    "    j = 0\n",
    "    for mod in model_sel:\n",
    "        p_mod=ms.mesa_profile(nova_dir,mod)\n",
    "        p_mass = p_mod.get('mass')\n",
    "        mass = 1e5*(p_mass-m_bot)\n",
    "        p_logT = p_mod.get('logT')\n",
    "        plot(mass,p_logT,color=ut.linestylecb(j)[2],\\\n",
    "             linestyle=ut.linestylecb(j)[0],label='model '+str(mod))\n",
    "        j += 1\n",
    "    \n",
    "    plot(xx,yy,'k--')\n",
    "    xlim(0.0,xmax)\n",
    "    ylim(ymin,ymax)\n",
    "    xlabel('$(M_r-$'+str(m_bot)+'$)\\\\times 10^5\\ (M_\\odot)$')\n",
    "    ylabel('$\\log_{10}\\,T\\ (\\mathrm{K})$')\n",
    "    rcParams[\"legend.handlelength\"] = 4.0\n",
    "    legend(frameon=False,fontsize=8)\n",
    "    show()\n",
    "    plt.savefig(mesa_work_dir+nova_case+'/'+nova_case+'_plots/logT.pdf')"
   ]
  },
  {
   "cell_type": "code",
   "execution_count": 16,
   "metadata": {},
   "outputs": [
    {
     "data": {
      "application/vnd.jupyter.widget-view+json": {
       "model_id": "afe883c46923459fac19e9e17622e77a",
       "version_major": 2,
       "version_minor": 0
      },
      "text/plain": [
       "Canvas(toolbar=Toolbar(toolitems=[('Home', 'Reset original view', 'home', 'home'), ('Back', 'Back to previous …"
      ]
     },
     "metadata": {},
     "output_type": "display_data"
    }
   ],
   "source": [
    "# plot C-12 abundance profile and use it to determine as accurately as \n",
    "# possible mass coordinate (in solar masses) of boundary between WD and \n",
    "# accreted H-rich envelope \n",
    "# there C-12 abundance jumps to its higher WD value\n",
    "# this mass coordinate is used as input data in file ppn_frame.input\n",
    "# to run mppnp post-processing nova nucleosynthesis computations\n",
    "\n",
    "ifig=ifig+1; close(ifig); figure(ifig)\n",
    "\n",
    "with get_devnull() as devnull, redirect_stdout(devnull):\n",
    "    for mod in model_sel:\n",
    "        p_mod=ms.mesa_profile(nova_dir,mod)\n",
    "        p_mass = p_mod.get('mass')\n",
    "        p_logT = p_mod.get('logT')\n",
    "        max_logT = max(p_logT)\n",
    "        iso = 'c12'\n",
    "        p_xiso = p_mod.get(iso)\n",
    "\n",
    "        semilogy(p_mass,p_xiso,color=ut.linestylecb(j)[2],\\\n",
    "             linestyle=ut.linestylecb(j)[0],label='model '+str(mod))\n",
    "\n",
    "ymin = 1e-2\n",
    "ymax = 1e0\n",
    "yy = [ymin,ymax]\n",
    "\n",
    "# adjust this value as accurately as possible\n",
    "\n",
    "if nova_case == 'co_nova':\n",
    "    # 1.15 Msun CO nova model \n",
    "    mr_boundary = 1.15000495955\n",
    "    # in this range of the mass coordinate\n",
    "    xlim(1.15000495,1.15000502)\n",
    "elif nova_case == 'ne_nova':\n",
    "    # 1.3 Msun ONe nova model \n",
    "    mr_boundary = 1.29999996687\n",
    "    # in this range of the mass coordinate\n",
    "    xlim(1.29999996,1.3)\n",
    "else:\n",
    "    print (\"\\nnova case is not known\")\n",
    "\n",
    "vlines(mr_boundary,ymin,ymax,color='r',linestyle='dashed')\n",
    "ylim(ymin,ymax)\n",
    "xlabel('$M_r$')\n",
    "ylabel('$\\log_{10}\\,X('+iso+')$')\n",
    "rcParams[\"legend.handlelength\"] = 3.0\n",
    "show()"
   ]
  },
  {
   "cell_type": "code",
   "execution_count": 17,
   "metadata": {},
   "outputs": [
    {
     "data": {
      "application/vnd.jupyter.widget-view+json": {
       "model_id": "0f54696a459346cdb93b7a1efe2ac38f",
       "version_major": 2,
       "version_minor": 0
      },
      "text/plain": [
       "Canvas(toolbar=Toolbar(toolitems=[('Home', 'Reset original view', 'home', 'home'), ('Back', 'Back to previous …"
      ]
     },
     "metadata": {},
     "output_type": "display_data"
    },
    {
     "name": "stdout",
     "output_type": "stream",
     "text": [
      "Requested new history.datasa; create new from history.data\n",
      " reading ...100% \n",
      "\n",
      "Closing history.data  tool ...\n"
     ]
    }
   ],
   "source": [
    "# 4-panel summary plot of CO nova evolution\n",
    "ifig=ifig+1; close(ifig); figure(ifig)\n",
    "\n",
    "subplot(2,2,1)\n",
    "\n",
    "# plot nova evolution track\n",
    "sh = ms.history_data(nova_dir,clean_starlog=True)\n",
    "lgL = sh.get('log_L')\n",
    "lgTeff = sh.get('log_Teff')\n",
    "sh.hrd()\n",
    "\n",
    "# add selcted models to the above HRD\n",
    "lgL_plot = []\n",
    "lgTeff_plot = []\n",
    "clr = []\n",
    "\n",
    "j = 0\n",
    "for mod in model_sel:\n",
    "    lgL_plot.append(lgL[mod-1])\n",
    "    lgTeff_plot.append(lgTeff[mod-1])\n",
    "    #print (j,mod,lgL_plot[j])\n",
    "    plot(lgTeff_plot[j],lgL_plot[j],marker='o',markerfacecolor=ut.linestylecb(j)[2],markersize=4,\\\n",
    "         markeredgecolor=ut.linestylecb(j)[2],label='model '+str(mod))\n",
    "    j += 1\n",
    "\n",
    "xlabel('$\\log_{10}\\,T_\\mathrm{eff}$')\n",
    "ylabel('$\\log_{10}\\,L/L_\\odot$')\n",
    "xlim(6.0,3.75)\n",
    "rcParams[\"legend.handlelength\"] = 0.0\n",
    "legend(frameon=False,loc=1,fontsize=5)\n",
    "#text(4.0,-2.2,'a')\n",
    "\n",
    "subplot(2,2,2)\n",
    "ymin = 6.0\n",
    "ymax = 8.5\n",
    "yy = [ymin,ymax]\n",
    "\n",
    "with get_devnull() as devnull, redirect_stdout(devnull):\n",
    "    j = 0\n",
    "    for mod in model_sel:\n",
    "        p_mod=ms.mesa_profile(nova_dir,mod)\n",
    "        p_mass = p_mod.get('mass')\n",
    "        mass = 1e5*(p_mass-m_bot)\n",
    "        p_logT = p_mod.get('logT')\n",
    "        plot(mass,p_logT,color=ut.linestylecb(j)[2],\\\n",
    "             linestyle=ut.linestylecb(j)[0],label='model '+str(mod))\n",
    "        j += 1\n",
    "    \n",
    "    plot(xx,yy,'k--')\n",
    "    xlim(0.0,xmax)\n",
    "    ylim(ymin,ymax)\n",
    "    xlabel('$(M_r-$'+str(m_bot)+'$)\\\\times 10^5\\ (M_\\odot)$')\n",
    "    ylabel('$\\log_{10}\\,T\\ (\\mathrm{K})$')\n",
    "    \n",
    "#text(2.5,8.2,'b')\n",
    "\n",
    "subplot(2,2,3)\n",
    "with get_devnull() as devnull, redirect_stdout(devnull):\n",
    "    j = 0\n",
    "    for mod in model_sel:\n",
    "        p_mod=ms.mesa_profile(nova_dir,mod)\n",
    "        p_mass = p_mod.get('mass')\n",
    "        p_logT = p_mod.get('logT')\n",
    "        max_logT = max(p_logT)\n",
    "        iso = 'c12'\n",
    "        p_xiso = p_mod.get(iso)\n",
    "\n",
    "        nm = len(p_mass)\n",
    "        x = linspace(0,0,nm)\n",
    "        y = linspace(0,0,nm)\n",
    "        z = linspace(0,0,nm)\n",
    "\n",
    "        k = 0\n",
    "        for i in range(nm):\n",
    "            if p_mass[i] < m_bot:\n",
    "                break\n",
    "            k += 1\n",
    "            x[i] = (p_mass[i]-m_bot)*1e5\n",
    "            y[i] = -30.\n",
    "            if p_xiso[i] > 1e-30:\n",
    "                y[i] = log10(p_xiso[i])\n",
    "\n",
    "        plot(x[:k],y[:k],color=ut.linestylecb(j)[2],\\\n",
    "             linestyle=ut.linestylecb(j)[0],label='model '+str(mod))\n",
    "    \n",
    "        j += 1\n",
    "\n",
    "\n",
    "xlim(0.0,xmax)\n",
    "ymin = -3\n",
    "ymax = 0\n",
    "yy = [ymin,ymax]\n",
    "plot(xx,yy,'k--')\n",
    "ylim(ymin,ymax)\n",
    "xlabel('$(M_r-$'+str(m_bot)+'$)\\\\times 10^5\\ (M_\\odot)$')\n",
    "ylabel('$\\log_{10}\\,X('+iso+')$')\n",
    "rcParams[\"legend.handlelength\"] = 3.0\n",
    "#legend(frameon=False,fontsize=5,loc=1)\n",
    "#text(3.6,-17.3,'c')\n",
    "\n",
    "subplot(2,2,4)\n",
    "ymin = -2\n",
    "ymax = 4.5\n",
    "yy = [ymin,ymax]\n",
    "\n",
    "with get_devnull() as devnull, redirect_stdout(devnull):\n",
    "    j = 0\n",
    "    for mod in model_sel:\n",
    "        p_mod=ms.mesa_profile(nova_dir,mod)\n",
    "        p_mass = p_mod.get('mass')\n",
    "        mass = 1e5*(p_mass-m_bot)\n",
    "        p_logRho = p_mod.get('logRho')\n",
    "        plot(mass,p_logRho,color=ut.linestylecb(j)[2],\\\n",
    "             linestyle=ut.linestylecb(j)[0],label='model '+str(mod))\n",
    "        j += 1\n",
    "    \n",
    "    plot(xx,yy,'k--')\n",
    "    xlim(0.0,xmax)\n",
    "    ylim(ymin,ymax)\n",
    "    xlabel('$(M_r-$'+str(m_bot)+'$)\\\\times 10^5\\ (M_\\odot)$')\n",
    "    ylabel('$\\log_{10}\\,\\\\rho\\ (\\mathrm{g\\,cm}^{-3})$')\n",
    "\n",
    "#text(2.5,3.8,'d')\n",
    "    \n",
    "tight_layout()\n",
    "show()\n",
    "plt.savefig(mesa_work_dir+nova_case+'/'+nova_case+'_plots/four_panels.pdf')"
   ]
  },
  {
   "cell_type": "code",
   "execution_count": 18,
   "metadata": {},
   "outputs": [
    {
     "data": {
      "application/vnd.jupyter.widget-view+json": {
       "model_id": "b26acab6b490460484409faff14a83e3",
       "version_major": 2,
       "version_minor": 0
      },
      "text/plain": [
       "Canvas(toolbar=Toolbar(toolitems=[('Home', 'Reset original view', 'home', 'home'), ('Back', 'Back to previous …"
      ]
     },
     "metadata": {},
     "output_type": "display_data"
    }
   ],
   "source": [
    "# plot specific (per gram) energy production rates in pp chains\n",
    "ifig=ifig+1;close(ifig);fig=figure(ifig)\n",
    "size=8\n",
    "fig.canvas.layout.height = str(0.9*size)+'in'   # This is a hack to prevent ipympl\n",
    "fig.canvas.layout.width  = str(1.1*size)+'in'   # to adjust horizontal figure size\n",
    "\n",
    "ymin = 1e-3\n",
    "ymax = 1e17\n",
    "yy = [ymin,ymax]\n",
    "\n",
    "with get_devnull() as devnull, redirect_stdout(devnull):\n",
    "    j = 0\n",
    "    for mod in model_sel:\n",
    "        p_mod=ms.mesa_profile(nova_dir,mod)\n",
    "        p_mass = p_mod.get('mass')\n",
    "        mass = 1e5*(p_mass-m_bot)\n",
    "        p_pp = p_mod.get('pp')\n",
    "        p_cno = p_mod.get('cno')\n",
    "        semilogy(mass,p_pp,color=ut.linestylecb(j)[2],\\\n",
    "             linestyle=ut.linestylecb(j)[0],label='model '+str(mod))\n",
    "        j += 1\n",
    "    \n",
    "    plot(xx,yy,'k--')\n",
    "    xlim(0.0,xmax)\n",
    "    ylim(ymin,ymax)\n",
    "    xlabel('$(M_r-$'+str(m_bot)+'$)\\\\times 10^5\\ (M_\\odot)$')\n",
    "    ylabel('$\\\\epsilon_\\mathrm{pp}\\ (\\mathrm{erg\\,s}^{-1}\\mathrm{\\,g}^{-1})$')\n",
    "    legend(frameon=False,fontsize=8)\n",
    "    show()\n",
    "    plt.savefig(mesa_work_dir+nova_case+'/'+nova_case+'_plots/eps_pp.pdf')"
   ]
  },
  {
   "cell_type": "code",
   "execution_count": 19,
   "metadata": {},
   "outputs": [
    {
     "data": {
      "application/vnd.jupyter.widget-view+json": {
       "model_id": "9466e8fbc1174d8fa608217ef2304a51",
       "version_major": 2,
       "version_minor": 0
      },
      "text/plain": [
       "Canvas(toolbar=Toolbar(toolitems=[('Home', 'Reset original view', 'home', 'home'), ('Back', 'Back to previous …"
      ]
     },
     "metadata": {},
     "output_type": "display_data"
    }
   ],
   "source": [
    "# plot specific (per gram) energy production rates in the CNO cycle\n",
    "ifig=ifig+1;close(ifig);fig=figure(ifig)\n",
    "size=8\n",
    "fig.canvas.layout.height = str(0.9*size)+'in'   # This is a hack to prevent ipympl\n",
    "fig.canvas.layout.width  = str(1.1*size)+'in'   # to adjust horizontal figure size\n",
    "\n",
    "ymin = 1e-3\n",
    "ymax = 1e17\n",
    "yy = [ymin,ymax]\n",
    "\n",
    "with get_devnull() as devnull, redirect_stdout(devnull):\n",
    "    j = 0\n",
    "    for mod in model_sel:\n",
    "        p_mod=ms.mesa_profile(nova_dir,mod)\n",
    "        p_mass = p_mod.get('mass')\n",
    "        mass = 1e5*(p_mass-m_bot)\n",
    "        p_cno = p_mod.get('cno')\n",
    "        semilogy(mass,p_cno,color=ut.linestylecb(j)[2],\\\n",
    "             linestyle=ut.linestylecb(j)[0],label='model '+str(mod))\n",
    "        j += 1\n",
    "    \n",
    "    plot(xx,yy,'k--')\n",
    "    xlim(0.0,xmax)\n",
    "    ylim(ymin,ymax)\n",
    "    xlabel('$(M_r-$'+str(m_bot)+'$)\\\\times 10^5\\ (M_\\odot)$')\n",
    "    ylabel('$\\\\epsilon_\\mathrm{CNO}\\ (\\mathrm{erg\\,s}^{-1}\\mathrm{\\,g}^{-1})$')\n",
    "    legend(frameon=False,fontsize=8)\n",
    "    show()\n",
    "    plt.savefig(mesa_work_dir+nova_case+'/'+nova_case+'_plots/eps_cno.pdf')"
   ]
  },
  {
   "cell_type": "code",
   "execution_count": 20,
   "metadata": {},
   "outputs": [
    {
     "data": {
      "application/vnd.jupyter.widget-view+json": {
       "model_id": "5e06dddc6eaa43dca5ccb3495c10e0fa",
       "version_major": 2,
       "version_minor": 0
      },
      "text/plain": [
       "Canvas(toolbar=Toolbar(toolitems=[('Home', 'Reset original view', 'home', 'home'), ('Back', 'Back to previous …"
      ]
     },
     "metadata": {},
     "output_type": "display_data"
    }
   ],
   "source": [
    "# plot convective velocity (in m/s)\n",
    "ifig=ifig+1;close(ifig);fig=figure(ifig)\n",
    "size=8\n",
    "fig.canvas.layout.height = str(0.9*size)+'in'   # This is a hack to prevent ipympl\n",
    "fig.canvas.layout.width  = str(1.1*size)+'in'   # to adjust horizontal figure size\n",
    "\n",
    "ymin = 4\n",
    "ymax = 8\n",
    "yy = [ymin,ymax]\n",
    "\n",
    "with get_devnull() as devnull, redirect_stdout(devnull):\n",
    "    j = 0\n",
    "    for mod in model_sel:\n",
    "        p_mod=ms.mesa_profile(nova_dir,mod)\n",
    "        p_mass = p_mod.get('mass')\n",
    "        mass = 1e5*(p_mass-m_bot)\n",
    "        p_logV = p_mod.get('log_conv_vel')\n",
    "        plot(mass,p_logV,color=ut.linestylecb(j)[2],\\\n",
    "             linestyle=ut.linestylecb(j)[0],label='model '+str(mod))\n",
    "    \n",
    "        j += 1\n",
    "    \n",
    "    plot(xx,yy,'k--')\n",
    "    xlim(0.0,xmax)\n",
    "    ylim(ymin,ymax)\n",
    "    xlabel('$(M_r-$'+str(m_bot)+'$)\\\\times 10^5\\ (M_\\odot)$')\n",
    "    ylabel('$\\log_{10}\\,V_\\mathrm{conv}\\ (\\mathrm{cm\\,s}^{-1})$')\n",
    "    legend(frameon=False,fontsize=8)\n",
    "    show()\n",
    "    plt.savefig(mesa_work_dir+nova_case+'/'+nova_case+'_plots/conv_velocity.pdf')"
   ]
  },
  {
   "cell_type": "code",
   "execution_count": 21,
   "metadata": {},
   "outputs": [
    {
     "data": {
      "application/vnd.jupyter.widget-view+json": {
       "model_id": "698ebf0a5ce34fa48b6a55e5e14ab807",
       "version_major": 2,
       "version_minor": 0
      },
      "text/plain": [
       "Canvas(toolbar=Toolbar(toolitems=[('Home', 'Reset original view', 'home', 'home'), ('Back', 'Back to previous …"
      ]
     },
     "metadata": {},
     "output_type": "display_data"
    }
   ],
   "source": [
    "# plot convective diffusion coefficient (in cm**2/s)\n",
    "ifig=ifig+1;close(ifig);fig=figure(ifig)\n",
    "size=8\n",
    "fig.canvas.layout.height = str(0.9*size)+'in'   # This is a hack to prevent ipympl\n",
    "fig.canvas.layout.width  = str(1.1*size)+'in'   # to adjust horizontal figure size\n",
    "\n",
    "ymin = 10\n",
    "ymax = 16\n",
    "yy = [ymin,ymax]\n",
    "\n",
    "with get_devnull() as devnull, redirect_stdout(devnull):\n",
    "    j = 0\n",
    "    for mod in model_sel:\n",
    "        p_mod=ms.mesa_profile(nova_dir,mod)\n",
    "        p_mass = p_mod.get('mass')\n",
    "        mass = 1e5*(p_mass-m_bot)\n",
    "        p_logD = p_mod.get('log_D_mix')\n",
    "        plot(mass,p_logD,color=ut.linestylecb(j)[2],\\\n",
    "             linestyle=ut.linestylecb(j)[0],label='model '+str(mod))\n",
    "        j += 1\n",
    "    \n",
    "    plot(xx,yy,'k--')\n",
    "    xlim(0.0,xmax)\n",
    "    ylim(ymin,ymax)\n",
    "    xlabel('$(M_r-$'+str(m_bot)+'$)\\\\times 10^5\\ (M_\\odot)$')\n",
    "    ylabel('$\\log_{10}\\,D_\\mathrm{conv}\\ (\\mathrm{cm}^2\\,\\mathrm{s}^{-1})$')\n",
    "    legend(frameon=False,fontsize=8)\n",
    "    show()\n",
    "    plt.savefig(mesa_work_dir+nova_case+'/'+nova_case+'_plots/conv_diff_coeff.pdf')"
   ]
  },
  {
   "cell_type": "code",
   "execution_count": 22,
   "metadata": {},
   "outputs": [
    {
     "data": {
      "application/vnd.jupyter.widget-view+json": {
       "model_id": "dfa935b97f8d46288fed1fcd6fef5723",
       "version_major": 2,
       "version_minor": 0
      },
      "text/plain": [
       "Canvas(toolbar=Toolbar(toolitems=[('Home', 'Reset original view', 'home', 'home'), ('Back', 'Back to previous …"
      ]
     },
     "metadata": {},
     "output_type": "display_data"
    }
   ],
   "source": [
    "# plot radius profiles\n",
    "ifig=ifig+1;close(ifig);fig=figure(ifig)\n",
    "size=8\n",
    "fig.canvas.layout.height = str(0.9*size)+'in'   # This is a hack to prevent ipympl\n",
    "fig.canvas.layout.width  = str(1.1*size)+'in'   # to adjust horizontal figure size\n",
    "\n",
    "ymin = -2.5\n",
    "ymax = 1\n",
    "yy = [ymin,ymax]\n",
    "\n",
    "rLRsun = rLa1*aRsun\n",
    "xxx = [0,xmax]\n",
    "yyy = [rLRsun,rLRsun]\n",
    "\n",
    "with get_devnull() as devnull, redirect_stdout(devnull):\n",
    "    j = 0\n",
    "    for mod in model_sel:\n",
    "        p_mod=ms.mesa_profile(nova_dir,mod)\n",
    "        p_mass = p_mod.get('mass')\n",
    "        mass = 1e5*(p_mass-m_bot)\n",
    "        p_logD = p_mod.get('logR')\n",
    "        plot(mass,p_logD,color=ut.linestylecb(j)[2],\\\n",
    "             linestyle=ut.linestylecb(j)[0],label='model '+str(mod))\n",
    "        j += 1\n",
    "    \n",
    "    plot(xx,yy,'k--')\n",
    "    plot(xxx,yyy,color=ut.linestylecb(1)[2],linestyle='dashed',label='q='+str(\"{:.2}\".format(q1))+', P='+str(P)+' (hr)')\n",
    "    xlim(0.0,xmax)\n",
    "    ylim(ymin,ymax)\n",
    "    xlabel('$(M_r-$'+str(m_bot)+'$)\\\\times 10^4\\ (M_\\odot)$')\n",
    "    ylabel('$\\log_{10}\\,(r/R_\\odot)$')\n",
    "    legend(frameon=False,fontsize=8) \n",
    "    show()\n",
    "    plt.savefig(mesa_work_dir+nova_case+'/'+nova_case+'_plots/radius.pdf')"
   ]
  },
  {
   "cell_type": "code",
   "execution_count": null,
   "metadata": {},
   "outputs": [],
   "source": []
  }
 ],
 "metadata": {
  "kernelspec": {
   "display_name": "Python 3",
   "language": "python",
   "name": "python3"
  },
  "language_info": {
   "codemirror_mode": {
    "name": "ipython",
    "version": 3
   },
   "file_extension": ".py",
   "mimetype": "text/x-python",
   "name": "python",
   "nbconvert_exporter": "python",
   "pygments_lexer": "ipython3",
   "version": "3.6.8"
  }
 },
 "nbformat": 4,
 "nbformat_minor": 4
}
