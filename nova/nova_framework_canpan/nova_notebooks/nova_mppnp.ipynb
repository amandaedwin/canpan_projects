{
 "cells": [
  {
   "cell_type": "markdown",
   "metadata": {},
   "source": [
    "# Plot and analyze results of CO or ONe nova mppnp post-processing computations, including plots for the Cl-34 project\n",
    "\n",
    "#### Read comments at the beginning of each cell to understand what it does"
   ]
  },
  {
   "cell_type": "code",
   "execution_count": 1,
   "metadata": {},
   "outputs": [
    {
     "name": "stdout",
     "output_type": "stream",
     "text": [
      "Populating the interactive namespace from numpy and matplotlib\n"
     ]
    }
   ],
   "source": [
    "# on astrohub server use ipympl that enables the interactive features of \n",
    "# matplotlib in the Jupyter notebook and in JupyterLab\n",
    "%pylab ipympl\n",
    "\n",
    "# for a classic jupyter notebook\n",
    "#%pylab nbagg\n",
    "\n",
    "from nugridpy import nugridse as nuse\n",
    "from nugridpy import utils as ut\n",
    "import h5py\n",
    "\n",
    "# begin counting figures\n",
    "ifig=0\n",
    "for i in range(0,10000):\n",
    "    close(i)"
   ]
  },
  {
   "cell_type": "code",
   "execution_count": 21,
   "metadata": {},
   "outputs": [],
   "source": [
    "# choose between CO and ONe nova cases\n",
    "\n",
    "#nova_case = 'co_nova'\n",
    "nova_case = 'ne_nova'\n",
    "\n",
    "# e.g. CO Nova with M=1.15, T=12, dM/dt=2e-10, 3010 cycles obtained with ./run_mesa 1.15 12 X 3010\n",
    "# or ONe Nova with M=1.3, T=30, dM/dt=2e-10, 2010 cycles obtained with ./run_mesa 1.3 30 X 2010\n",
    "\n",
    "# path to MESA nova work dirctory\n",
    "mesa_work_dir = '/user/scratch14_wendi3/dpa/canpan_projects/nova/nova_framework_canpan/'  \n",
    "\n",
    "# path to the corresponding mppnp post-processing directory\n",
    "mppnp_nova_dir = '/user/scratch14_wendi3/dpa/canpan_projects/nova/run_nova_canpan/'\n",
    "\n",
    "# path to mppnp installation directory\n",
    "mppnp_work_dir = '/user/scratch14_wendi3/dpa/nuppn/frames/mppnp/'"
   ]
  },
  {
   "cell_type": "code",
   "execution_count": 3,
   "metadata": {},
   "outputs": [
    {
     "name": "stdout",
     "output_type": "stream",
     "text": [
      "There are 103 profiles for the following models:\n",
      " [1, 11, 20, 40, 60, 80, 100, 120, 140, 160, 180, 200, 220, 240, 260, 280, 300, 320, 340, 360, 380, 400, 420, 440, 460, 480, 500, 520, 540, 560, 580, 600, 620, 640, 660, 680, 700, 720, 740, 760, 780, 800, 820, 840, 860, 880, 900, 920, 940, 960, 980, 1000, 1020, 1040, 1060, 1080, 1100, 1120, 1140, 1160, 1180, 1200, 1220, 1240, 1260, 1280, 1300, 1320, 1340, 1360, 1380, 1400, 1420, 1440, 1460, 1480, 1500, 1520, 1540, 1560, 1580, 1600, 1620, 1640, 1660, 1680, 1700, 1720, 1740, 1760, 1780, 1800, 1820, 1840, 1860, 1880, 1900, 1920, 1940, 1960, 1980, 2000, 2010]\n"
     ]
    }
   ],
   "source": [
    "# read profiles.index file from path to LOGS directory that contains results of MESA nova computations\n",
    "nova_dir = mesa_work_dir+nova_case+'/LOGS/'\n",
    "f = open(nova_dir+'profiles.index', 'r')\n",
    "\n",
    "profiles = []\n",
    "\n",
    "i=0\n",
    "for line in f:\n",
    "    if i >= 1:\n",
    "        profiles.append(int(float(line.split()[0])))\n",
    "    i += 1\n",
    "    \n",
    "f.close()\n",
    "\n",
    "print (\"There are\",len(profiles),\"profiles for the following models:\\n\", profiles)"
   ]
  },
  {
   "cell_type": "code",
   "execution_count": 4,
   "metadata": {},
   "outputs": [
    {
     "data": {
      "text/plain": [
       "[1, 60, 140, 220, 300, 380, 460, 620, 940, 1260, 1580, 1900]"
      ]
     },
     "execution_count": 4,
     "metadata": {},
     "output_type": "execute_result"
    }
   ],
   "source": [
    "# select profiles of every_nth_1 model before and every_nth_2 model after cycle_1 along evolutionary track to plot\n",
    "cycle_1 = 500\n",
    "every_nth_1 = 4\n",
    "every_nth_2 = 16\n",
    "\n",
    "model_sel = []\n",
    "\n",
    "for i in range(len(profiles)):\n",
    "    if profiles[i] <= cycle_1:\n",
    "        if i%every_nth_1 == 0:\n",
    "            model_sel.append(profiles[i])\n",
    "    else:\n",
    "        if i%every_nth_2 == 0:\n",
    "            model_sel.append(profiles[i]) \n",
    "\n",
    "model_sel"
   ]
  },
  {
   "cell_type": "code",
   "execution_count": 5,
   "metadata": {},
   "outputs": [
    {
     "name": "stdout",
     "output_type": "stream",
     "text": [
      "Searching files, please wait.......\n",
      "Writing preprocessor files\n",
      "ne_nova_hdf.0000201.out.h5\n",
      "ne_nova_hdf.0001501.out.h5\n",
      "ne_nova_hdf.0000601.out.h5\n",
      "ne_nova_hdf.0001901.out.h5\n",
      "ne_nova_hdf.0001401.out.h5\n",
      "ne_nova_hdf.0001101.out.h5\n",
      "ne_nova_hdf.0001301.out.h5\n",
      "ne_nova_hdf.0000501.out.h5\n",
      "ne_nova_hdf.0000701.out.h5\n",
      "ne_nova_hdf.0000101.out.h5\n",
      "ne_nova_hdf.0001701.out.h5\n",
      "ne_nova_hdf.0001001.out.h5\n",
      "ne_nova_hdf.0001601.out.h5\n",
      "ne_nova_hdf.0000001.out.h5\n",
      "ne_nova_hdf.0000901.out.h5\n",
      "ne_nova_hdf.0000801.out.h5\n",
      "ne_nova_hdf.0000301.out.h5\n",
      "ne_nova_hdf.0001201.out.h5\n",
      "ne_nova_hdf.0001801.out.h5\n",
      "ne_nova_hdf.0000401.out.h5\n"
     ]
    },
    {
     "name": "stderr",
     "output_type": "stream",
     "text": [
      "Exception in thread Thread-3:\n",
      "Traceback (most recent call last):\n",
      "  File \"/usr/lib/python3.6/threading.py\", line 916, in _bootstrap_inner\n",
      "    self.run()\n",
      "  File \"/usr/local/lib/python3.6/dist-packages/nugridpy/h5T.py\", line 458, in run\n",
      "    write(self.preprocName,header,dcols,data,sldir=self.filename)\n",
      "  File \"/usr/local/lib/python3.6/dist-packages/nugridpy/ascii_table.py\", line 480, in write\n",
      "    tmp1=data_fmt.format(data[i][j])\n",
      "ValueError: Unknown format code 'f' for object of type 'str'\n",
      "\n"
     ]
    }
   ],
   "source": [
    "# read in results of CO or ONe nova mppnp post-processing\n",
    "\n",
    "# ignore the message \n",
    "# ValueError: Unknown format code 'f' for object of type 'str' \n",
    "# following the execution of this command\n",
    "\n",
    "s=nuse.se(mppnp_nova_dir+'H5_out')"
   ]
  },
  {
   "cell_type": "code",
   "execution_count": 8,
   "metadata": {},
   "outputs": [
    {
     "data": {
      "application/vnd.jupyter.widget-view+json": {
       "model_id": "057950441f514276970a1fd6ec6861ce",
       "version_major": 2,
       "version_minor": 0
      },
      "text/plain": [
       "Canvas(toolbar=Toolbar(toolitems=[('Home', 'Reset original view', 'home', 'home'), ('Back', 'Back to previous …"
      ]
     },
     "metadata": {},
     "output_type": "display_data"
    },
    {
     "name": "stdout",
     "output_type": "stream",
     "text": [
      " reading ['iso_massf']...100%"
     ]
    }
   ],
   "source": [
    "# plot abundance profiles for isotopes in isos for the last cycle\n",
    "isos = ['C-12','O-16','Ne-20','S-32','S-33','S-34']\n",
    "\n",
    "# take the last cycle multiple of 1000\n",
    "plot_cycle = 1000*(profiles[-1]//1000)\n",
    "\n",
    "\n",
    "ifig=ifig+1;close(ifig);fig=figure(ifig)\n",
    "size=7\n",
    "fig.canvas.layout.height = str(0.9*size)+'in'   # This is a hack to prevent ipympl\n",
    "fig.canvas.layout.width  = str(1.1*size)+'in'   # to adjust horizontal figure size\n",
    "\n",
    "if nova_case == 'co_nova':\n",
    "    # 1.15 Msun co nova\n",
    "    xmin = 1.15000495\n",
    "    xmax = 1.15002\n",
    "elif nova_case == 'ne_nova':\n",
    "    # 1.3 Msun ne nova\n",
    "    xmin = 1.2999999207\n",
    "    xmax = 1.300014\n",
    "else:\n",
    "    print (\"\\nnova case is not known\")\n",
    "\n",
    "mass = s.get(plot_cycle,'mass') - xmin\n",
    "\n",
    "j = 0\n",
    "for iso in isos:\n",
    "    thing = s.get(plot_cycle,iso)\n",
    "    loglog(mass,thing,color=ut.linestylecb(j)[2],\\\n",
    "             linestyle=ut.linestylecb(j)[0],label=iso)\n",
    "    j += 1\n",
    "    \n",
    "xlim(xmin-xmin+5e-9,xmax-xmin)\n",
    "ylim(1e-7,1e0)\n",
    "xlabel('$(M_r-M_\\mathrm{WD})/M_\\odot$')\n",
    "ylabel('$X_i$')\n",
    "title('Cycle '+str(plot_cycle))\n",
    "legend(frameon=False,fontsize=8)\n",
    "show()"
   ]
  },
  {
   "cell_type": "code",
   "execution_count": 7,
   "metadata": {},
   "outputs": [
    {
     "data": {
      "application/vnd.jupyter.widget-view+json": {
       "model_id": "fdace64f6a4e4372af4b26495ca3d4ae",
       "version_major": 2,
       "version_minor": 0
      },
      "text/plain": [
       "Canvas(toolbar=Toolbar(toolitems=[('Home', 'Reset original view', 'home', 'home'), ('Back', 'Back to previous …"
      ]
     },
     "metadata": {},
     "output_type": "display_data"
    },
    {
     "name": "stdout",
     "output_type": "stream",
     "text": [
      " reading ['iso_massf']...100%"
     ]
    }
   ],
   "source": [
    "# plot Be-7 abundance profiles for selected nova models\n",
    "ifig=ifig+1;close(ifig);fig=figure(ifig)\n",
    "size=7\n",
    "fig.canvas.layout.height = str(0.9*size)+'in'   # This is a hack to prevent ipympl\n",
    "fig.canvas.layout.width  = str(1.1*size)+'in'   # to adjust horizontal figure size\n",
    "\n",
    "isos = ['Be-7']\n",
    "\n",
    "j = 0\n",
    "for plot_cycle in model_sel:\n",
    "\n",
    "    mass = s.get(plot_cycle,'mass') - xmin\n",
    "\n",
    "    for iso in isos:\n",
    "        thing = s.get(plot_cycle,iso)\n",
    "        loglog(mass,thing,color=ut.linestylecb(j)[2],\\\n",
    "             linestyle=ut.linestylecb(j)[0],label='cycle '+str(plot_cycle))\n",
    "    j += 1\n",
    "    \n",
    "xlim(xmin-xmin+5e-9,xmax-xmin)\n",
    "ylim(1e-9,1e-4)\n",
    "xlabel('$(M_r-M_\\mathrm{WD})/M_\\odot$')\n",
    "ylabel('$X(^7\\mathrm{Be})$')\n",
    "title('Cycle '+str(plot_cycle))\n",
    "legend(frameon=False,fontsize=8)\n",
    "show()"
   ]
  },
  {
   "cell_type": "code",
   "execution_count": 9,
   "metadata": {},
   "outputs": [
    {
     "data": {
      "application/vnd.jupyter.widget-view+json": {
       "model_id": "074ecba5af0241e593927c25ac3ec188",
       "version_major": 2,
       "version_minor": 0
      },
      "text/plain": [
       "Canvas(toolbar=Toolbar(toolitems=[('Home', 'Reset original view', 'home', 'home'), ('Back', 'Back to previous …"
      ]
     },
     "metadata": {},
     "output_type": "display_data"
    },
    {
     "name": "stdout",
     "output_type": "stream",
     "text": [
      " reading ['iso_massf']...100%"
     ]
    }
   ],
   "source": [
    "# plot He-3 abundance profiles for selected nova models\n",
    "ifig=ifig+1;close(ifig);fig=figure(ifig)\n",
    "size=7\n",
    "fig.canvas.layout.height = str(0.9*size)+'in'   # This is a hack to prevent ipympl\n",
    "fig.canvas.layout.width  = str(1.1*size)+'in'   # to adjust horizontal figure size\n",
    "\n",
    "isos = ['He-3']\n",
    "\n",
    "j = 0\n",
    "for plot_cycle in model_sel:\n",
    "\n",
    "    mass = s.get(plot_cycle,'mass') - xmin\n",
    "\n",
    "    for iso in isos:\n",
    "        thing = s.get(plot_cycle,iso)\n",
    "        loglog(mass,thing,color=ut.linestylecb(j)[2],\\\n",
    "             linestyle=ut.linestylecb(j)[0],label='cycle '+str(plot_cycle))\n",
    "    j += 1\n",
    "    \n",
    "xlim(xmin-xmin+5e-9,xmax-xmin)\n",
    "ylim(4e-9,1e-4)\n",
    "xlabel('$(M_r-M_\\mathrm{WD})/M_\\odot$')\n",
    "ylabel('$X(^3\\mathrm{He})$')\n",
    "title('Cycle '+str(plot_cycle))\n",
    "legend(frameon=False,fontsize=8)\n",
    "show()"
   ]
  },
  {
   "cell_type": "code",
   "execution_count": 11,
   "metadata": {},
   "outputs": [
    {
     "name": "stdout",
     "output_type": "stream",
     "text": [
      " reading ['mass']...100%\n",
      "The total accreted mass is 3.059615271805427e-06\n",
      "\n",
      "The initial envelope mass is 3.962694399728406e-06\n"
     ]
    }
   ],
   "source": [
    "# prepare list of increasing nova mass (it may take a couple of minutes)\n",
    "ncyc = int(s.se.cycles[-1])\n",
    "\n",
    "cyc = linspace(1,ncyc,ncyc)\n",
    "max_mass = linspace(0,0,ncyc)\n",
    "for cycle in range(ncyc):\n",
    "    mass = s.get(cycle,'mass')\n",
    "    max_mass[cycle] = max(mass)\n",
    "\n",
    "mass_accr = max(max_mass)-min(max_mass)\n",
    "print ('\\nThe total accreted mass is',mass_accr)\n",
    "mass_env = max_mass[0]-xmin\n",
    "print ('\\nThe initial envelope mass is',mass_env)"
   ]
  },
  {
   "cell_type": "code",
   "execution_count": 12,
   "metadata": {},
   "outputs": [
    {
     "name": "stdout",
     "output_type": "stream",
     "text": [
      " reading ['rho']...100%]...100%"
     ]
    }
   ],
   "source": [
    "# find maximum temperature and its corresponding density for all cycles (it may take a few minutes)\n",
    "t9_max = linspace(0,0,ncyc)\n",
    "rho_max = linspace(0,0,ncyc)\n",
    "\n",
    "for cycle in range(ncyc):\n",
    "    tem = s.get(cycle,'temperature')\n",
    "    rho = s.get(cycle,'rho')\n",
    "    item_max = argmax(tem)\n",
    "    t9_max[cycle] = max(tem)\n",
    "    rho_max[cycle] = rho[item_max]"
   ]
  },
  {
   "cell_type": "code",
   "execution_count": 13,
   "metadata": {},
   "outputs": [
    {
     "name": "stdout",
     "output_type": "stream",
     "text": [
      "\n",
      "Maximum temperature T9 = 0.28884234511755336 is reached at cycle 218\n",
      " reading ['age']...100%"
     ]
    }
   ],
   "source": [
    "# find a cycle with maximum T and its age, use this age as age zero-point\n",
    "cyc_t9max = argmax(t9_max)\n",
    "print ('\\nMaximum temperature T9 =',max(t9_max),'is reached at cycle',cyc_t9max)\n",
    "age_t9max = s.get(cyc_t9max,'age')\n",
    "age_minute = linspace(0,0,ncyc)\n",
    "\n",
    "for cycle in range(ncyc):\n",
    "    age = s.get(cycle,'age')\n",
    "    age_minute[cycle] = (age - age_t9max)/60."
   ]
  },
  {
   "cell_type": "code",
   "execution_count": 15,
   "metadata": {},
   "outputs": [
    {
     "data": {
      "application/vnd.jupyter.widget-view+json": {
       "model_id": "d7b4d7a3a2144f239e452863772014ad",
       "version_major": 2,
       "version_minor": 0
      },
      "text/plain": [
       "Canvas(toolbar=Toolbar(toolitems=[('Home', 'Reset original view', 'home', 'home'), ('Back', 'Back to previous …"
      ]
     },
     "metadata": {},
     "output_type": "display_data"
    },
    {
     "name": "stdout",
     "output_type": "stream",
     "text": [
      " reading ['iso_massf']...100%"
     ]
    }
   ],
   "source": [
    "# plot abundance profiles for Cl-34 isomers for cycle with maximum temperature\n",
    "ifig=ifig+1;close(ifig);fig=figure(ifig)\n",
    "size=7\n",
    "fig.canvas.layout.height = str(0.9*size)+'in'   # This is a hack to prevent ipympl\n",
    "fig.canvas.layout.width  = str(1.1*size)+'in'   # to adjust horizontal figure size\n",
    "\n",
    "plot_cycle = cyc_t9max\n",
    "\n",
    "mass = s.get(plot_cycle,'mass') - xmin\n",
    "xs=s.get(plot_cycle,'iso_massf')\n",
    "\n",
    "icl34m = 39\n",
    "icl34g = 53\n",
    "xcl34m = xs[:,icl34m]\n",
    "xcl34g = xs[:,icl34g]\n",
    "\n",
    "loglog(mass,xcl34g,color=ut.linestylecb(0)[2],linestyle=ut.linestylecb(0)[0],label='Cl-34g')\n",
    "loglog(mass,xcl34m,color=ut.linestylecb(1)[2],linestyle=ut.linestylecb(1)[0],label='Cl-34m')\n",
    "    \n",
    "xlim(xmin-xmin+5e-9,xmax-xmin)\n",
    "ylim(1e-10,1e-5)\n",
    "xlabel('$(M_r-M_\\mathrm{WD})/M_\\odot$')\n",
    "ylabel('$X_i$')\n",
    "title('Cycle '+str(plot_cycle))\n",
    "legend(frameon=False,fontsize=8)\n",
    "show()"
   ]
  },
  {
   "cell_type": "code",
   "execution_count": 17,
   "metadata": {},
   "outputs": [
    {
     "data": {
      "application/vnd.jupyter.widget-view+json": {
       "model_id": "b7a18312f3304e5d86c17bcf18f4c4fd",
       "version_major": 2,
       "version_minor": 0
      },
      "text/plain": [
       "Canvas(toolbar=Toolbar(toolitems=[('Home', 'Reset original view', 'home', 'home'), ('Back', 'Back to previous …"
      ]
     },
     "metadata": {},
     "output_type": "display_data"
    }
   ],
   "source": [
    "# plot evolutionary profiles of maximum T and rho\n",
    "cyc0 = cyc_t9max\n",
    "\n",
    "ifig = ifig+1\n",
    "\n",
    "fig, ax1 = subplots()\n",
    "\n",
    "size=7\n",
    "fig.canvas.layout.height = str(0.9*size)+'in'   # This is a hack to prevent ipympl\n",
    "fig.canvas.layout.width  = str(1.1*size)+'in'   # to adjust horizontal figure size\n",
    "\n",
    "name1 = '$T_9$'\n",
    "lns1 = ax1.plot(age_minute[cyc_t9max-cyc0:-1], t9_max[cyc_t9max-cyc0:-1],\\\n",
    "                color=ut.linestylecb(0)[2], linestyle=ut.linestylecb(0)[0],label=name1)\n",
    "\n",
    "ax1.set_xlabel('time (min)')\n",
    "# Make the y-axis label, ticks and tick labels match the line color.\n",
    "ax1.set_ylabel(name1)\n",
    "ax1.tick_params('y')\n",
    "\n",
    "age_minute_max = 2500.\n",
    "ax1.set_xlim(-50,age_minute_max)\n",
    "\n",
    "t9_max_min = 0.075\n",
    "ax1.set_ylim(t9_max_min,0.350)\n",
    "\n",
    "ax2 = ax1.twinx()\n",
    "name2 = '$\\\\rho$'\n",
    "lns2 = ax2.semilogy(age_minute[cyc_t9max-cyc0:-1], rho_max[cyc_t9max-cyc0:-1],\\\n",
    "            color=ut.linestylecb(1)[2],linestyle=ut.linestylecb(1)[0],label=name2)\n",
    "ax2.set_ylabel(name2+'$\\ [\\mathrm{g\\,cm}^{-3}]$')\n",
    "ax2.tick_params('y')\n",
    "ax2.set_ylim(5e0,1e4)\n",
    "\n",
    "# added these three lines\n",
    "lns = lns1+lns2\n",
    "labs = [l.get_label() for l in lns]\n",
    "ax2.legend(lns, labs, loc=1, frameon=False)\n",
    "\n",
    "fig.tight_layout()\n",
    "fig.show()\n",
    "\n",
    "plt.savefig(mesa_work_dir+nova_case+'/'+nova_case+'_plots/maxTrho_evolution.pdf')"
   ]
  },
  {
   "cell_type": "code",
   "execution_count": 18,
   "metadata": {},
   "outputs": [],
   "source": [
    "# save evolutonary changes of maximum T and rho in trajectory file that can be used by ppn code in one-zone simulations\n",
    "file_out=\"trajectory.input\"\n",
    "fout=open(mppnp_nova_dir+file_out,'w')\n",
    "\n",
    "line1_out=\"# time T rho\\n\"\n",
    "line2_out=\"# YRS/SEC; T8K/T9K; CGS/LOG\\n\"\n",
    "line3_out=\"# FORMAT: '(10x,A3)'\\n\"\n",
    "line4_out=\"AGEUNIT = YRS\\n\"\n",
    "line5_out=\"TUNIT   = T9K\\n\"\n",
    "line6_out=\"RHOUNIT = CGS\\n\"\n",
    "line7_out=\"ID = 0\\n\"\n",
    "\n",
    "fout.write(line1_out)\n",
    "fout.write(line2_out)\n",
    "fout.write(line3_out)\n",
    "fout.write(line4_out)\n",
    "fout.write(line5_out)\n",
    "fout.write(line6_out)\n",
    "fout.write(line7_out)\n",
    "\n",
    "i1 = cyc_t9max-cyc0+1\n",
    "i2 = len(age_minute)\n",
    "\n",
    "fac_min_to_yr = 365.2422*1440.\n",
    "key = -1\n",
    "\n",
    "for i in range(i1,i2):\n",
    "    if (t9_max[i] >= t9_max_min and age_minute[i] <= age_minute_max):\n",
    "        if (key < 0):\n",
    "            age_minute_0 = age_minute[i]\n",
    "            key = +1\n",
    "        line_out=\" \"+str(\"{:.6}\".format((age_minute[i]-age_minute_0)/fac_min_to_yr))+\" \"+str(\"{:.4}\".format(t9_max[i]))\\\n",
    "            +\" \"+str(\"{:.6}\".format(rho_max[i]))+\"\\n\"\n",
    "        #line_out=\" \"+str(time[i])+\" \"+str(tem[i])+\" \"+str(den[i])+\" \"+str(xh[i])+\"\\n\"  # with X\n",
    "        fout.write(line_out)\n",
    "fout.close()"
   ]
  },
  {
   "cell_type": "code",
   "execution_count": 19,
   "metadata": {},
   "outputs": [
    {
     "data": {
      "application/vnd.jupyter.widget-view+json": {
       "model_id": "8d3035d5101b4090ab914cee85541e11",
       "version_major": 2,
       "version_minor": 0
      },
      "text/plain": [
       "Canvas(toolbar=Toolbar(toolitems=[('Home', 'Reset original view', 'home', 'home'), ('Back', 'Back to previous …"
      ]
     },
     "metadata": {},
     "output_type": "display_data"
    }
   ],
   "source": [
    "# plot nova increasing mass \n",
    "ifig=ifig+1;close(ifig);fig=figure(ifig)\n",
    "size=7\n",
    "fig.canvas.layout.height = str(0.9*size)+'in'   # This is a hack to prevent ipympl\n",
    "fig.canvas.layout.width  = str(1.1*size)+'in'   # to adjust horizontal figure size\n",
    "\n",
    "min_mass = min(max_mass)\n",
    "semilogy(cyc,max_mass-min_mass,color=ut.linestylecb(0)[2],linestyle=ut.linestylecb(0)[0])\n",
    "xlim(0,200)\n",
    "xlabel('cycle')\n",
    "ylabel('$M_\\mathrm{accr}\\ (M_\\odot)$')\n",
    "tight_layout()\n",
    "show()"
   ]
  },
  {
   "cell_type": "code",
   "execution_count": 20,
   "metadata": {},
   "outputs": [
    {
     "data": {
      "application/vnd.jupyter.widget-view+json": {
       "model_id": "349a1611c6ef477ab39867903ba51cb9",
       "version_major": 2,
       "version_minor": 0
      },
      "text/plain": [
       "Canvas(toolbar=Toolbar(toolitems=[('Home', 'Reset original view', 'home', 'home'), ('Back', 'Back to previous …"
      ]
     },
     "metadata": {},
     "output_type": "display_data"
    },
    {
     "name": "stdout",
     "output_type": "stream",
     "text": [
      " reading ['mass']...100%Using the following conditions:\n",
      "\tmass_range: 1.29999996688 1.299999967\n",
      "\tAtomic mass_range: 1 40\n",
      "\tcycle:            0000001999\n",
      "\tplot only stable: False\n",
      "\tplot decayed:     False\n",
      "['-', '--', '-.', ':', '-']\n"
     ]
    }
   ],
   "source": [
    "# plot abundances of unstable isotopes mass-averaged over nova envelope\n",
    "ifig=ifig+1;close(ifig);fig=figure(ifig)\n",
    "size=7\n",
    "fig.canvas.layout.height = str(0.9*size)+'in'   # This is a hack to prevent ipympl\n",
    "fig.canvas.layout.width  = str(1.1*size)+'in'   # to adjust horizontal figure size\n",
    "\n",
    "if nova_case == 'co_nova':\n",
    "    # 1.15 Msun co nova\n",
    "    s.iso_abund(cycle,amass_range=[1,40],mass_range=[1.15,1.150005],stable=False,ylim=[-10,0.5])\n",
    "elif nova_case == 'ne_nova':\n",
    "    # 1.3 Msun ne nova\n",
    "    s.iso_abund(cycle,amass_range=[1,40],mass_range=[1.29999996688,1.299999967],stable=False,ylim=[-10,0.5])\n",
    "else:\n",
    "    print (\"\\nnova case is not known\")"
   ]
  },
  {
   "cell_type": "markdown",
   "metadata": {},
   "source": [
    "## Read in solar isotopic abundances"
   ]
  },
  {
   "cell_type": "code",
   "execution_count": 23,
   "metadata": {},
   "outputs": [],
   "source": [
    "# these are the solar abundances used in nova sims\n",
    "sol_ab = mppnp_work_dir + 'USEEPP/iniab2.0E-02GN93.ppn'\n",
    "\n",
    "f = open(sol_ab, 'r')\n",
    "\n",
    "sol_iso_z=[]\n",
    "sol_iso=[]\n",
    "sol_iso_name = []\n",
    "sol_iso_a = []\n",
    "sol_iso_abu=[]\n",
    "\n",
    "for line in f:\n",
    "    n = len(line.split())\n",
    "    if n == 3:\n",
    "        sol_iso = line.split()[1]\n",
    "        if sol_iso == 'PROT':\n",
    "            sol_iso_name.append('h')\n",
    "            sol_iso_a.append(1)\n",
    "            sol_iso_z.append(int(line.split()[0]))\n",
    "            sol_iso_abu.append(float(line.split()[2]))\n",
    "        else:\n",
    "            sol_iso_name.append(sol_iso[0:2])\n",
    "            sol_iso_a.append(int(sol_iso[2:5]))\n",
    "            sol_iso_z.append(int(line.split()[0]))\n",
    "            sol_iso_abu.append(float(line.split()[2]))\n",
    "    if n == 4:\n",
    "        sol_iso_z.append(int(line.split()[0]))\n",
    "        sol_iso_name.append(line.split()[1])\n",
    "        sol_iso_a.append(int(line.split()[2]))\n",
    "        sol_iso_abu.append(float(line.split()[3]))\n",
    "\n",
    "f.close()\n",
    "\n",
    "n_iso_sol = len(sol_iso_z)\n",
    "\n",
    "#for i in range(n_iso_sol):\n",
    "#    print (i,sol_iso_z[i], sol_iso_name[i], sol_iso_a[i], sol_iso_abu[i])"
   ]
  },
  {
   "cell_type": "markdown",
   "metadata": {},
   "source": [
    "## Read in nova post-processed surface composition, averaged over envelope mass with unstable isotopes both undecayed and allowed to decay for 1 Gyr"
   ]
  },
  {
   "cell_type": "code",
   "execution_count": 24,
   "metadata": {},
   "outputs": [
    {
     "name": "stdout",
     "output_type": "stream",
     "text": [
      "number of stable elements is 85 \n",
      "number of stable isotopes is 157\n"
     ]
    }
   ],
   "source": [
    "work_dir = mppnp_nova_dir+'H5_surf/'\n",
    "\n",
    "model = 1000*(profiles[-1]//1000)\n",
    "\n",
    "file_name = nova_case+'_hdf'\n",
    "\n",
    "suffix = \".\"+str(((model-1)//100)*100+1).zfill(7)+\".surf.h5\"\n",
    "\n",
    "h5_file = work_dir+file_name+suffix\n",
    "file = h5py.File(h5_file, 'r')   # 'r' means that hdf5 file is open in read-only mode    \n",
    "dset = file[\"/cycle\"+str(model).zfill(10)+\"/SE_DATASET\"]\n",
    "el_abu = dset['elem_massf_decay'][0]\n",
    "iso_abu = dset['iso_massf_decay'][0]  # decayed abundances\n",
    "iso_abu_undec = dset['iso_massf'][0]  # undecayed abundances\n",
    "file.close()\n",
    "n_el = len(el_abu)\n",
    "n_iso = len(iso_abu)\n",
    "\n",
    "print (\"number of stable elements is\",n_el,\"\\nnumber of stable isotopes is\",n_iso)\n",
    "\n",
    "el_name=[\"  \" for x in range(n_el)]\n",
    "z_el=linspace(0,0,n_el)\n",
    "el_name[0]='n'\n",
    "for i in range(n_el):\n",
    "    z_el[i]=float(i)       #  Z=i in mppnp surf data output\n",
    "    if (i>0):\n",
    "        el_name[i]=ut.get_el_from_z(i)        "
   ]
  },
  {
   "cell_type": "code",
   "execution_count": 25,
   "metadata": {},
   "outputs": [
    {
     "name": "stdout",
     "output_type": "stream",
     "text": [
      "\n",
      "\n"
     ]
    }
   ],
   "source": [
    "# A and Z numbers of isotopes in nova model\n",
    "iso_z=np.linspace(0,0,n_iso)\n",
    "iso_a=np.linspace(0,0,n_iso)\n",
    "iso_name=[\"  \" for x in range(n_iso)]\n",
    "\n",
    "file = h5py.File(h5_file, 'r')\n",
    "dseta = file[\"A\"]\n",
    "dsetz = file[\"Z\"]\n",
    "iso_a[:] = dseta[:]\n",
    "iso_z[:] = dsetz[:]\n",
    "file.close()\n",
    "\n",
    "iso_name[0] = 'n'\n",
    "iso_name[1] = 'H'\n",
    "\n",
    "for i in range(2,n_iso):\n",
    "    iz = int(iso_z[i])\n",
    "    #print (iz)\n",
    "    iso_name[i] = ut.get_el_from_z(int(iso_z[i]))\n",
    "    \n",
    "print (\"\\n\")\n",
    "for i in range(n_iso):\n",
    "    if (i>0 and int(iso_a[i])<999):\n",
    "        #print (i, str(int(iso_z[i]))+\" \"+iso_name[i]+\"-\"+str(int(iso_a[i]))+\" \"+str(iso_abu[i])+\"\\n\")\n",
    "        if iso_z[i] == 16 and iso_a[i] == 32:\n",
    "            xs32 = iso_abu[i]\n",
    "        if iso_z[i] == 16 and iso_a[i] == 33:\n",
    "            xs33 = iso_abu[i]\n",
    "        if iso_z[i] == 16 and iso_a[i] == 34:\n",
    "            xs34 = iso_abu[i]"
   ]
  },
  {
   "cell_type": "code",
   "execution_count": 27,
   "metadata": {},
   "outputs": [
    {
     "data": {
      "application/vnd.jupyter.widget-view+json": {
       "model_id": "8079c424f8d34ae1bfd2c590350b00b0",
       "version_major": 2,
       "version_minor": 0
      },
      "text/plain": [
       "Canvas(toolbar=Toolbar(toolitems=[('Home', 'Reset original view', 'home', 'home'), ('Back', 'Back to previous …"
      ]
     },
     "metadata": {},
     "output_type": "display_data"
    }
   ],
   "source": [
    "# plot nova surface composition\n",
    "ifig=ifig+1;close(ifig);fig=figure(ifig)\n",
    "size=7\n",
    "fig.canvas.layout.height = str(0.9*size)+'in'   # This is a hack to prevent ipympl\n",
    "fig.canvas.layout.width  = str(1.1*size)+'in'   # to adjust horizontal figure size\n",
    "\n",
    "z1 = 1; z2 = 25\n",
    "for z in range(z1,z2):\n",
    "    a_plot = []\n",
    "    y_plot = []\n",
    "    y_plot_undec = []\n",
    "    for i in range(n_iso):\n",
    "        if int(iso_z[i]) == z:\n",
    "            for k in range(n_iso_sol):\n",
    "                if sol_iso_z[k] == z and sol_iso_a[k] == iso_a[i]:\n",
    "                    a_plot.append(sol_iso_a[k])\n",
    "                    y_plot.append(log10(iso_abu[i]/sol_iso_abu[k])) \n",
    "                    y_plot_undec.append(log10(iso_abu_undec[i]/sol_iso_abu[k])) \n",
    "    if len(a_plot) > 0:\n",
    "        #print (z, a_plot, y_plot)\n",
    "        text(a_plot[argmax(y_plot)],max(y_plot),ut.get_el_from_z(z),\\\n",
    "             horizontalalignment='center',verticalalignment='bottom',fontsize=10)\n",
    "        #text(a_plot[argmax(y_plot_undec)],max(y_plot_undec),ut.get_el_from_z(z),\\\n",
    "        #     horizontalalignment='center',verticalalignment='bottom',fontsize=10)\n",
    "    if len(a_plot) > 1:\n",
    "        a_plot, y_plot = (list(t) for t in zip(*sorted(zip(a_plot, y_plot))))\n",
    "        a_plot, y_plot_undec = (list(t) for t in zip(*sorted(zip(a_plot, y_plot_undec))))\n",
    "    plot(a_plot,y_plot,'--')\n",
    "    plot(a_plot,y_plot,'ro',markersize=3)\n",
    "    #plot(a_plot,y_plot_undec,'-.')\n",
    "    #plot(a_plot,y_plot_undec,'bo',markersize=3)\n",
    "\n",
    "xmin = 0; xmax = 45\n",
    "hlines(xmin,xmax,0.,linestyles='dotted')\n",
    "xlim(xmin,xmax)\n",
    "ylim(-3,5.0)\n",
    "xlabel('mass number')\n",
    "ylabel('$\\log_{10}\\,X_i/X_\\odot$')\n",
    "show()\n",
    "plt.savefig(mesa_work_dir+nova_case+'/'+nova_case+'_plots/surface_comp.pdf')"
   ]
  },
  {
   "cell_type": "markdown",
   "metadata": {},
   "source": [
    "## The following cells are used to plot S isotopic ratios for the Cl-34 project"
   ]
  },
  {
   "cell_type": "code",
   "execution_count": 28,
   "metadata": {},
   "outputs": [
    {
     "name": "stdout",
     "output_type": "stream",
     "text": [
      "number of cycles is 2000 \n",
      "number of stable isotopes is 157\n"
     ]
    }
   ],
   "source": [
    "print (\"number of cycles is\",ncyc,\"\\nnumber of stable isotopes is\",n_iso)"
   ]
  },
  {
   "cell_type": "code",
   "execution_count": 29,
   "metadata": {},
   "outputs": [],
   "source": [
    "iso_abu_cyc = np.zeros((ncyc,n_iso),dtype=float) # this 2d array stores surface abundances from all cycles\n",
    "\n",
    "for cycle in range(ncyc-1):\n",
    "    cycle = cycle+1\n",
    "    #file_name = \"co_nova_hdf\"\n",
    "    file_name = \"ne_nova_hdf\"\n",
    "    suffix = \".\"+str(((abs(cycle-1))//100)*100+1).zfill(7)+\".surf.h5\"\n",
    "\n",
    "    h5_file = work_dir+file_name+suffix\n",
    "    file = h5py.File(h5_file, 'r')   # 'r' means that hdf5 file is open in read-only mode    \n",
    "    dset = file[\"/cycle\"+str(cycle).zfill(10)+\"/SE_DATASET\"]\n",
    "    iso_abu_cyc[cycle,:] = dset['iso_massf_decay'][0]\n",
    "    \n",
    "    file.close()"
   ]
  },
  {
   "cell_type": "code",
   "execution_count": 30,
   "metadata": {},
   "outputs": [
    {
     "name": "stdout",
     "output_type": "stream",
     "text": [
      "number of cycles is 2000\n"
     ]
    }
   ],
   "source": [
    "print (\"number of cycles is\",len(iso_abu_cyc[:,0]))"
   ]
  },
  {
   "cell_type": "code",
   "execution_count": 31,
   "metadata": {},
   "outputs": [
    {
     "name": "stdout",
     "output_type": "stream",
     "text": [
      "[93, 51, 52, 95]\n",
      "[32.0, 33.0, 34.0, 36.0]\n"
     ]
    }
   ],
   "source": [
    "z = 16 # 14\n",
    "iz = []\n",
    "az = []\n",
    "for i in range(n_iso):\n",
    "    if int(iso_z[i]) == z and iso_abu[i] > 1e-20:\n",
    "        iz.append(i)\n",
    "        az.append(iso_a[i]) \n",
    "        \n",
    "if len(az) > 1:\n",
    "    az, iz = (list(t) for t in zip(*sorted(zip(az, iz))))\n",
    "\n",
    "print (iz)\n",
    "print (az)"
   ]
  },
  {
   "cell_type": "code",
   "execution_count": 32,
   "metadata": {},
   "outputs": [
    {
     "name": "stdout",
     "output_type": "stream",
     "text": [
      "WARNING:\n",
      "This initial abundance file uses an element name that does\n",
      "not contain the mass number in the 3rd to 5th position.\n",
      "It is assumed that this is the proton and we will change\n",
      "the name to 'h   1' to be consistent with the notation used\n",
      "in iniab.dat files\n"
     ]
    }
   ],
   "source": [
    "sol_comp=ut.iniabu(sol_ab)\n",
    "\n",
    "s33s32_sol=sol_comp.isoratio_init(['S-33','S-32'])\n",
    "s34s32_sol=sol_comp.isoratio_init(['S-34','S-32'])\n",
    "\n",
    "si29si28_sol=sol_comp.isoratio_init(['Si-29','Si-28'])\n",
    "si30si28_sol=sol_comp.isoratio_init(['Si-30','Si-28'])"
   ]
  },
  {
   "cell_type": "code",
   "execution_count": 33,
   "metadata": {},
   "outputs": [
    {
     "name": "stdout",
     "output_type": "stream",
     "text": [
      "-951.4278653828303 -531.5985608183709\n"
     ]
    }
   ],
   "source": [
    "s33s32 = linspace(0,0,ncyc)\n",
    "s34s32 = linspace(0,0,ncyc)\n",
    "\n",
    "si29si28 = linspace(0,0,ncyc)\n",
    "si30si28 = linspace(0,0,ncyc)\n",
    "\n",
    "for cycle in range(ncyc-1):\n",
    "    cycle = cycle+1\n",
    "    s33s32[cycle] = (iso_abu_cyc[cycle,iz[1]]/iso_abu_cyc[cycle,iz[0]]/s33s32_sol - 1.)*1000.\n",
    "    s34s32[cycle] = (iso_abu_cyc[cycle,iz[2]]/iso_abu_cyc[cycle,iz[0]]/s34s32_sol - 1.)*1000. \n",
    "    #si29si28[cycle] = (iso_abu_cyc[cycle,iz[1]]/iso_abu_cyc[cycle,iz[0]]/si29si28_sol - 1.)*1000.\n",
    "    #si30si28[cycle] = (iso_abu_cyc[cycle,iz[2]]/iso_abu_cyc[cycle,iz[0]]/si30si28_sol - 1.)*1000.\n",
    "    \n",
    "print (s33s32[-1],s34s32[-1])\n",
    "#print (si29si28[-1],si30si28[-1])"
   ]
  },
  {
   "cell_type": "code",
   "execution_count": 34,
   "metadata": {},
   "outputs": [],
   "source": [
    "# suspected nova S isotopic ratios from Iliadis et al, 2018, ApJ, 855, 76\n",
    "# plus data from Bose & Starrfield, 2019, ApJ, 873, 14\n",
    "del_S33 = [-92,48,-615,-82,-23,-833,-303,-121]\n",
    "err_S33 = [222,334,385,279,143,167,110,141]\n",
    "del_S34 = [162,-394,-542,-6,6,-435,-94,15]\n",
    "err_S34 = [106,106,175,122,70,131,54,65]"
   ]
  },
  {
   "cell_type": "code",
   "execution_count": 36,
   "metadata": {},
   "outputs": [
    {
     "data": {
      "application/vnd.jupyter.widget-view+json": {
       "model_id": "95f48735ecb34c0f9b30d851b131b6a0",
       "version_major": 2,
       "version_minor": 0
      },
      "text/plain": [
       "Canvas(toolbar=Toolbar(toolitems=[('Home', 'Reset original view', 'home', 'home'), ('Back', 'Back to previous …"
      ]
     },
     "metadata": {},
     "output_type": "display_data"
    }
   ],
   "source": [
    "ifig=ifig+1;close(ifig);fig=figure(ifig)\n",
    "size=7\n",
    "fig.canvas.layout.height = str(0.9*size)+'in'   # This is a hack to prevent ipympl\n",
    "fig.canvas.layout.width  = str(1.1*size)+'in'   # to adjust horizontal figure size\n",
    "\n",
    "xlabel('$^{33}\\mathrm{S}/^{32}\\mathrm{S}$')\n",
    "ylabel('$^{34}\\mathrm{S}/^{32}\\mathrm{S}$')\n",
    "xmin = -1000; xmax = 1000\n",
    "ymin = -1000; ymax = 300\n",
    "xlim(xmin,xmax);ylim(ymin,ymax)\n",
    "hlines(0,xmin,xmax,color='k',linestyle='--')\n",
    "vlines(0,ymin,ymax,color='k',linestyle='--')\n",
    "errorbar(del_S33,del_S34,err_S33,err_S34,'gs')\n",
    "\n",
    "plot(s33s32,s34s32,'r-',markersize=12)\n",
    "\n",
    "show()"
   ]
  },
  {
   "cell_type": "code",
   "execution_count": null,
   "metadata": {},
   "outputs": [],
   "source": []
  }
 ],
 "metadata": {
  "kernelspec": {
   "display_name": "Python 3",
   "language": "python",
   "name": "python3"
  },
  "language_info": {
   "codemirror_mode": {
    "name": "ipython",
    "version": 3
   },
   "file_extension": ".py",
   "mimetype": "text/x-python",
   "name": "python",
   "nbconvert_exporter": "python",
   "pygments_lexer": "ipython3",
   "version": "3.6.8"
  }
 },
 "nbformat": 4,
 "nbformat_minor": 4
}
