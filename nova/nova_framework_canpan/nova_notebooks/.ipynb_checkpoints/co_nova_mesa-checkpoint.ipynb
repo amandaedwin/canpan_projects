{
 "cells": [
  {
   "cell_type": "markdown",
   "metadata": {},
   "source": [
    "# Plot and analyze results of CO nova MESA computations\n",
    "\n",
    "#### Read comments at the beginning of each cell to understand what it does"
   ]
  },
  {
   "cell_type": "code",
   "execution_count": 1,
   "metadata": {},
   "outputs": [
    {
     "name": "stdout",
     "output_type": "stream",
     "text": [
      "Populating the interactive namespace from numpy and matplotlib\n"
     ]
    }
   ],
   "source": [
    "# on wendi2 astrohub server use ipympl that enables the interactive features of \n",
    "# matplotlib in the Jupyter notebook and in JupyterLab\n",
    "%pylab ipympl  \n",
    "\n",
    "# for jupyter notebook classic use\n",
    "#%pylab nbagg\n",
    "\n",
    "from nugridpy import mesa as ms\n",
    "from nugridpy import utils as ut\n",
    "\n",
    "# begin counting figures\n",
    "ifig=0\n",
    "for i in range(0,10000):\n",
    "    close(i)"
   ]
  },
  {
   "cell_type": "code",
   "execution_count": 2,
   "metadata": {},
   "outputs": [],
   "source": [
    "#### this cell defines functions that allow to suppress unnecessary output information\n",
    "import os\n",
    "from contextlib import contextmanager\n",
    "@contextmanager\n",
    "def redirect_stdout(new_target):\n",
    "    old_target, sys.stdout = sys.stdout, new_target\n",
    "    try:\n",
    "        yield new_target\n",
    "    finally:\n",
    "        sys.stdout = old_target\n",
    "def get_devnull():\n",
    "    #return open(os.devnull, \"w\")\n",
    "    return open('log_stuff.txt', \"w\") #where all the stuff goes you don't want to see\n",
    "####"
   ]
  },
  {
   "cell_type": "code",
   "execution_count": 3,
   "metadata": {},
   "outputs": [
    {
     "name": "stdout",
     "output_type": "stream",
     "text": [
      "There are detailed profile files for the following models:\n",
      " [1, 15, 20, 40, 60, 80, 100, 120, 140, 160, 180, 200, 220, 240, 260, 280, 300, 320, 340, 360, 380, 400, 420, 440, 460, 480, 500, 520, 540, 560, 580, 600, 620, 640, 660, 680, 700, 720, 740, 760, 780, 800, 820, 840, 860, 880, 900, 920, 940, 960, 980, 1000]\n"
     ]
    }
   ],
   "source": [
    "# path to a LOGS directory that contains results of MESA computations\n",
    "nova_dir = '/user/scratch14_wendi3/dpa/nova_framework_astrohub/co_nova/LOGS/'\n",
    "\n",
    "# read in file profiles.index \n",
    "f = open(nova_dir+'profiles.index', 'r')\n",
    "\n",
    "profiles = []\n",
    "\n",
    "i=0\n",
    "for line in f:\n",
    "    if i >= 1:\n",
    "        profiles.append(int(float(line.split()[0])))\n",
    "    i += 1\n",
    "    \n",
    "f.close()\n",
    "\n",
    "print (\"There are detailed profile files for the following models:\\n\", profiles)"
   ]
  },
  {
   "cell_type": "code",
   "execution_count": 4,
   "metadata": {},
   "outputs": [
    {
     "name": "stdout",
     "output_type": "stream",
     "text": [
      "Requested new history.datasa; create new from history.data\n",
      " reading ...100% \n",
      "\n"
     ]
    },
    {
     "data": {
      "application/vnd.jupyter.widget-view+json": {
       "model_id": "17a0fa50f80a4e39a2294e17a4248d47",
       "version_major": 2,
       "version_minor": 0
      },
      "text/plain": [
       "Canvas(toolbar=Toolbar(toolitems=[('Home', 'Reset original view', 'home', 'home'), ('Back', 'Back to previous …"
      ]
     },
     "metadata": {},
     "output_type": "display_data"
    }
   ],
   "source": [
    "# plot a nova evolutionary track\n",
    "sh = ms.history_data(nova_dir,clean_starlog=True)\n",
    "age = sh.get('star_age')\n",
    "model = sh.get('model_number')\n",
    "lgL = sh.get('log_L')\n",
    "lgTeff = sh.get('log_Teff')\n",
    "\n",
    "ifig=ifig+1;close(ifig);fig=figure(ifig)\n",
    "size=8\n",
    "fig.canvas.layout.height = str(0.9*size)+'in'   # This is a hack to prevent ipympl\n",
    "fig.canvas.layout.width  = str(1.1*size)+'in'   # to adjust horizontal figure size\n",
    "sh.hrd()"
   ]
  },
  {
   "cell_type": "code",
   "execution_count": 5,
   "metadata": {},
   "outputs": [],
   "source": [
    "# select profiles of models evenly distributed along the evolutionary track\n",
    "model_sel = [1,40,180,300,340,400,460,700,1000]"
   ]
  },
  {
   "cell_type": "code",
   "execution_count": 6,
   "metadata": {},
   "outputs": [],
   "source": [
    "# add selected models to the above HRD\n",
    "\n",
    "lgL_plot = []\n",
    "lgTeff_plot = []\n",
    "clr = []\n",
    "\n",
    "j = 0\n",
    "for mod in model_sel:\n",
    "    lgL_plot.append(lgL[mod-1])\n",
    "    lgTeff_plot.append(lgTeff[mod-1])\n",
    "    #print (j,mod,lgL_plot[j])\n",
    "    plot(lgTeff_plot[j],lgL_plot[j],marker='o',markerfacecolor=ut.linestylecb(j)[2],\\\n",
    "         markeredgecolor=ut.linestylecb(j)[2],label='model '+str(mod))\n",
    "    j += 1\n",
    "\n",
    "xlabel('$\\log_{10}\\,T_\\mathrm{eff}$')\n",
    "ylabel('$\\log_{10}\\,L/L_\\odot$')\n",
    "xlim()\n",
    "legend(frameon=False,loc=3,fontsize=8)\n",
    "show()\n",
    "#plt.savefig(\"/user/scratch14_wendi3/dpa/nova_framework_astrohub/co_nova/co_nova_plots/track.pdf\")"
   ]
  },
  {
   "cell_type": "code",
   "execution_count": 7,
   "metadata": {},
   "outputs": [],
   "source": [
    "# prepare array of maximum T for each profile (this may take a minute)\n",
    "log_Tmax = []\n",
    "\n",
    "with get_devnull() as devnull, redirect_stdout(devnull):\n",
    "    for mod in profiles:\n",
    "        p_mod=ms.mesa_profile(nova_dir,mod)\n",
    "        p_logT = p_mod.get('logT')\n",
    "        log_Tmax.append(max(p_logT))"
   ]
  },
  {
   "cell_type": "code",
   "execution_count": 8,
   "metadata": {},
   "outputs": [
    {
     "name": "stdout",
     "output_type": "stream",
     "text": [
      "52 in profiles.index file ...\n",
      "Found and load nearest profile for cycle 380\n",
      "reading profile/user/scratch14_wendi3/dpa/nova_framework_astrohub/co_nova/LOGS//profile21.data ...\n",
      " reading ...100% \n",
      "\n",
      "Closing profile tool ...\n",
      "\n",
      "profile 380 has the maximum temperature with lg(T_max) = 8.249087907050576\n",
      "and log density at T_max is 1.842424326568556\n"
     ]
    }
   ],
   "source": [
    "# find a model with maximum log_Tmax\n",
    "\n",
    "i1 = argmax(log_Tmax)\n",
    "mod = profiles[i1]\n",
    "\n",
    "p_mod=ms.mesa_profile(nova_dir,mod)\n",
    "p_logT = p_mod.get('logT')\n",
    "p_logRho = p_mod.get('logRho')\n",
    "\n",
    "k1 = argmax(p_logT)\n",
    "\n",
    "print (\"\\nprofile\",profiles[i1],\"has the maximum temperature with lg(T_max) =\",log_Tmax[i1])\n",
    "print (\"and log density at T_max is\",p_logRho[k1])"
   ]
  },
  {
   "cell_type": "code",
   "execution_count": 9,
   "metadata": {},
   "outputs": [],
   "source": [
    "# plots will be made for Mr > m_bot; adjust m_bot looking at the produced plots\n",
    "\n",
    "# 1.0 Msun CO nova model \n",
    "# m_bot = 0.999995\n",
    "# xmax1 = 6.5\n",
    "# xmax = 6.5\n",
    "\n",
    "# 1.15 Msun CO nova model \n",
    "m_bot = 1.150003\n",
    "xmax = 1.1"
   ]
  },
  {
   "cell_type": "code",
   "execution_count": 10,
   "metadata": {},
   "outputs": [
    {
     "name": "stdout",
     "output_type": "stream",
     "text": [
      "52 in profiles.index file ...\n",
      "Found and load nearest profile for cycle 380\n",
      "reading profile/user/scratch14_wendi3/dpa/nova_framework_astrohub/co_nova/LOGS//profile21.data ...\n",
      " reading ...100% \n",
      "\n",
      "Closing profile tool ...\n",
      "\n",
      "zone number and relative mass coordinate of T_max are 575 0.19823328243351312\n"
     ]
    }
   ],
   "source": [
    "# for the model with the maximum temperature find a zone number and \n",
    "# a mass coordinate at which T has the maximum\n",
    "# the zero point for the mass coordinate is m_bot, and the mass difference\n",
    "# is multiplied by 1e+5 to zoom in a thin envelope\n",
    "\n",
    "mod = profiles[i1]\n",
    "p_mod=ms.mesa_profile(nova_dir,mod)\n",
    "p_mass = p_mod.get('mass')\n",
    "p_logT = p_mod.get('logT')\n",
    "mass_Tmax = 1e+5*(p_mass[argmax(p_logT)]-m_bot)\n",
    "xx = [mass_Tmax,mass_Tmax]\n",
    "print (\"\\nzone number and relative mass coordinate of T_max are\",argmax(p_logT),mass_Tmax)"
   ]
  },
  {
   "cell_type": "code",
   "execution_count": 11,
   "metadata": {},
   "outputs": [
    {
     "data": {
      "application/vnd.jupyter.widget-view+json": {
       "model_id": "20f72f908bac4339a926256fe7baeccd",
       "version_major": 2,
       "version_minor": 0
      },
      "text/plain": [
       "Canvas(toolbar=Toolbar(toolitems=[('Home', 'Reset original view', 'home', 'home'), ('Back', 'Back to previous …"
      ]
     },
     "metadata": {},
     "output_type": "display_data"
    }
   ],
   "source": [
    "# a plot of temperature profiles in the selected models\n",
    "# we are interested in making plots only for the accreted envelope, \n",
    "# which is very thin in mass (~1e-5 Msun) relative to WD mass,\n",
    "# therefore the mass coordinate at the left edge of the plot, m_bot,\n",
    "# has to be adjusted appropriately by redefining it in the cell above\n",
    "# if it's necessary\n",
    "\n",
    "ifig=ifig+1;close(ifig);fig=figure(ifig)\n",
    "size=8\n",
    "fig.canvas.layout.height = str(0.9*size)+'in'   # This is a hack to prevent ipympl\n",
    "fig.canvas.layout.width  = str(1.1*size)+'in'   # to adjust horizontal figure size\n",
    "\n",
    "ymin = 6.0\n",
    "ymax = 8.5\n",
    "yy = [ymin,ymax]\n",
    "\n",
    "with get_devnull() as devnull, redirect_stdout(devnull):\n",
    "    j = 0\n",
    "    for mod in model_sel:\n",
    "        p_mod=ms.mesa_profile(nova_dir,mod)\n",
    "        p_mass = p_mod.get('mass')\n",
    "        mass = 1e5*(p_mass-m_bot)\n",
    "        p_logT = p_mod.get('logT')\n",
    "        plot(mass,p_logT,color=ut.linestylecb(j)[2],\\\n",
    "             linestyle=ut.linestylecb(j)[0],label='model '+str(mod))\n",
    "        j += 1\n",
    "    \n",
    "    plot(xx,yy,'k--')\n",
    "    xlim(0.0,xmax)\n",
    "    ylim(ymin,ymax)\n",
    "    xlabel('$(M_r-$'+str(m_bot)+'$)\\\\times 10^5\\ (M_\\odot)$')\n",
    "    ylabel('$\\log_{10}\\,T\\ (\\mathrm{K})$')\n",
    "    rcParams[\"legend.handlelength\"] = 4.0\n",
    "    legend(frameon=False,fontsize=8)\n",
    "    show()\n",
    "    #plt.savefig(\"/user/scratch14_wendi3/dpa/nova_framework_astrohub/co_nova/co_nova_plots/logT.pdf\")"
   ]
  },
  {
   "cell_type": "code",
   "execution_count": 12,
   "metadata": {},
   "outputs": [
    {
     "data": {
      "application/vnd.jupyter.widget-view+json": {
       "model_id": "9d03bebe17b64202a71e77a2216a9345",
       "version_major": 2,
       "version_minor": 0
      },
      "text/plain": [
       "Canvas(toolbar=Toolbar(toolitems=[('Home', 'Reset original view', 'home', 'home'), ('Back', 'Back to previous …"
      ]
     },
     "metadata": {},
     "output_type": "display_data"
    }
   ],
   "source": [
    "# this plot of C-12 abundance profile is used to determine as accurately as \n",
    "# possible a mass coordinate (in solar masses) of the boundary between WD and \n",
    "# accreted H-rich envelope, where the C-12 abundance has a jump to its higher WD value,\n",
    "# this mass coordinate is an input data in the file ppn_frame.input used\n",
    "# to run mppnp post-processing nucleosynthesis computations\n",
    "\n",
    "ifig=ifig+1; close(ifig); figure(ifig)\n",
    "\n",
    "with get_devnull() as devnull, redirect_stdout(devnull):\n",
    "    for mod in model_sel:\n",
    "        p_mod=ms.mesa_profile(nova_dir,mod)\n",
    "        p_mass = p_mod.get('mass')\n",
    "        p_logT = p_mod.get('logT')\n",
    "        max_logT = max(p_logT)\n",
    "        iso = 'c12'\n",
    "        p_xiso = p_mod.get(iso)\n",
    "\n",
    "        semilogy(p_mass,p_xiso,color=ut.linestylecb(j)[2],\\\n",
    "             linestyle=ut.linestylecb(j)[0],label='model '+str(mod))\n",
    "\n",
    "xlim(1.150004,1.150014)\n",
    "ymin = 1e-2\n",
    "ymax = 1e0\n",
    "yy = [ymin,ymax]\n",
    "\n",
    "# adjust this value as accurately as possible\n",
    "mr_boundary = 1.150004968748\n",
    "xlim(1.1500049,1.1500051)\n",
    "\n",
    "vlines(mr_boundary,ymin,ymax,color='r',linestyle='dashed')\n",
    "ylim(ymin,ymax)\n",
    "xlabel('$M_r$')\n",
    "ylabel('$\\log_{10}\\,X('+iso+')$')\n",
    "rcParams[\"legend.handlelength\"] = 3.0\n",
    "show()"
   ]
  },
  {
   "cell_type": "code",
   "execution_count": 13,
   "metadata": {},
   "outputs": [
    {
     "data": {
      "application/vnd.jupyter.widget-view+json": {
       "model_id": "922bdceb85ab47c4bec10c815f17ac50",
       "version_major": 2,
       "version_minor": 0
      },
      "text/plain": [
       "Canvas(toolbar=Toolbar(toolitems=[('Home', 'Reset original view', 'home', 'home'), ('Back', 'Back to previous …"
      ]
     },
     "metadata": {},
     "output_type": "display_data"
    },
    {
     "name": "stdout",
     "output_type": "stream",
     "text": [
      "Requested new history.datasa; create new from history.data\n",
      " reading ...100% \n",
      "\n",
      "Closing history.data  tool ...\n"
     ]
    }
   ],
   "source": [
    "# a summary 4-panel plot of CO nova evolution\n",
    "\n",
    "ifig=ifig+1; close(ifig); figure(ifig)\n",
    "\n",
    "subplot(2,2,1)\n",
    "\n",
    "# plot nova evolution track\n",
    "sh = ms.history_data(nova_dir,clean_starlog=True)\n",
    "lgL = sh.get('log_L')\n",
    "lgTeff = sh.get('log_Teff')\n",
    "sh.hrd()\n",
    "\n",
    "# add selcted models to the above HRD\n",
    "\n",
    "lgL_plot = []\n",
    "lgTeff_plot = []\n",
    "clr = []\n",
    "\n",
    "j = 0\n",
    "for mod in model_sel:\n",
    "    lgL_plot.append(lgL[mod-1])\n",
    "    lgTeff_plot.append(lgTeff[mod-1])\n",
    "    #print (j,mod,lgL_plot[j])\n",
    "    plot(lgTeff_plot[j],lgL_plot[j],marker='o',markerfacecolor=ut.linestylecb(j)[2],markersize=4,\\\n",
    "         markeredgecolor=ut.linestylecb(j)[2],label='model '+str(mod))\n",
    "    j += 1\n",
    "\n",
    "xlabel('$\\log_{10}\\,T_\\mathrm{eff}$')\n",
    "ylabel('$\\log_{10}\\,L/L_\\odot$')\n",
    "xlim(5.85,3.75)\n",
    "rcParams[\"legend.handlelength\"] = 0.0\n",
    "legend(frameon=False,loc=1,fontsize=5)\n",
    "#text(4.0,-2.2,'a')\n",
    "\n",
    "subplot(2,2,2)\n",
    "ymin = 6.0\n",
    "ymax = 8.5\n",
    "yy = [ymin,ymax]\n",
    "\n",
    "with get_devnull() as devnull, redirect_stdout(devnull):\n",
    "    j = 0\n",
    "    for mod in model_sel:\n",
    "        p_mod=ms.mesa_profile(nova_dir,mod)\n",
    "        p_mass = p_mod.get('mass')\n",
    "        mass = 1e5*(p_mass-m_bot)\n",
    "        p_logT = p_mod.get('logT')\n",
    "        plot(mass,p_logT,color=ut.linestylecb(j)[2],\\\n",
    "             linestyle=ut.linestylecb(j)[0],label='model '+str(mod))\n",
    "        j += 1\n",
    "    \n",
    "    plot(xx,yy,'k--')\n",
    "    xlim(0.0,xmax)\n",
    "    ylim(ymin,ymax)\n",
    "    xlabel('$(M_r-$'+str(m_bot)+'$)\\\\times 10^5\\ (M_\\odot)$')\n",
    "    ylabel('$\\log_{10}\\,T\\ (\\mathrm{K})$')\n",
    "    \n",
    "#text(2.5,8.2,'b')\n",
    "\n",
    "subplot(2,2,3)\n",
    "with get_devnull() as devnull, redirect_stdout(devnull):\n",
    "    j = 0\n",
    "    for mod in model_sel:\n",
    "        p_mod=ms.mesa_profile(nova_dir,mod)\n",
    "        p_mass = p_mod.get('mass')\n",
    "        p_logT = p_mod.get('logT')\n",
    "        max_logT = max(p_logT)\n",
    "        iso = 'c12'\n",
    "        p_xiso = p_mod.get(iso)\n",
    "\n",
    "        nm = len(p_mass)\n",
    "        x = linspace(0,0,nm)\n",
    "        y = linspace(0,0,nm)\n",
    "        z = linspace(0,0,nm)\n",
    "\n",
    "        k = 0\n",
    "        for i in range(nm):\n",
    "            if p_mass[i] < m_bot:\n",
    "                break\n",
    "            k += 1\n",
    "            x[i] = (p_mass[i]-m_bot)*1e5\n",
    "            y[i] = -30.\n",
    "            if p_xiso[i] > 1e-30:\n",
    "                y[i] = log10(p_xiso[i])\n",
    "\n",
    "        plot(x[:k],y[:k],color=ut.linestylecb(j)[2],\\\n",
    "             linestyle=ut.linestylecb(j)[0],label='model '+str(mod))\n",
    "    \n",
    "        j += 1\n",
    "\n",
    "\n",
    "xlim(0.0,xmax)\n",
    "ymin = -3\n",
    "ymax = 0\n",
    "yy = [ymin,ymax]\n",
    "plot(xx,yy,'k--')\n",
    "ylim(ymin,ymax)\n",
    "xlabel('$(M_r-$'+str(m_bot)+'$)\\\\times 10^5\\ (M_\\odot)$')\n",
    "ylabel('$\\log_{10}\\,X('+iso+')$')\n",
    "rcParams[\"legend.handlelength\"] = 3.0\n",
    "#legend(frameon=False,fontsize=5,loc=1)\n",
    "#text(3.6,-17.3,'c')\n",
    "\n",
    "subplot(2,2,4)\n",
    "ymin = -2\n",
    "ymax = 4.5\n",
    "yy = [ymin,ymax]\n",
    "\n",
    "with get_devnull() as devnull, redirect_stdout(devnull):\n",
    "    j = 0\n",
    "    for mod in model_sel:\n",
    "        p_mod=ms.mesa_profile(nova_dir,mod)\n",
    "        p_mass = p_mod.get('mass')\n",
    "        mass = 1e5*(p_mass-m_bot)\n",
    "        p_logRho = p_mod.get('logRho')\n",
    "        plot(mass,p_logRho,color=ut.linestylecb(j)[2],\\\n",
    "             linestyle=ut.linestylecb(j)[0],label='model '+str(mod))\n",
    "        j += 1\n",
    "    \n",
    "    plot(xx,yy,'k--')\n",
    "    xlim(0.0,xmax)\n",
    "    ylim(ymin,ymax)\n",
    "    xlabel('$(M_r-$'+str(m_bot)+'$)\\\\times 10^5\\ (M_\\odot)$')\n",
    "    ylabel('$\\log_{10}\\,\\\\rho\\ (\\mathrm{g\\,cm}^{-3})$')\n",
    "\n",
    "#text(2.5,3.8,'d')\n",
    "    \n",
    "tight_layout()\n",
    "show()\n",
    "#plt.savefig(\"/user/scratch14_wendi3/dpa/nova_framework_astrohub/co_nova/co_nova_plots/four_panels.pdf\")"
   ]
  },
  {
   "cell_type": "code",
   "execution_count": 14,
   "metadata": {},
   "outputs": [
    {
     "data": {
      "application/vnd.jupyter.widget-view+json": {
       "model_id": "2fe1a53c02d34df6b61b97c836cf05a1",
       "version_major": 2,
       "version_minor": 0
      },
      "text/plain": [
       "Canvas(toolbar=Toolbar(toolitems=[('Home', 'Reset original view', 'home', 'home'), ('Back', 'Back to previous …"
      ]
     },
     "metadata": {},
     "output_type": "display_data"
    }
   ],
   "source": [
    "# plot specific (per gram) energy production rate in pp chains\n",
    "\n",
    "ifig=ifig+1;close(ifig);fig=figure(ifig)\n",
    "size=8\n",
    "fig.canvas.layout.height = str(0.9*size)+'in'   # This is a hack to prevent ipympl\n",
    "fig.canvas.layout.width  = str(1.1*size)+'in'   # to adjust horizontal figure size\n",
    "\n",
    "ymin = 1e-3\n",
    "ymax = 1e17\n",
    "yy = [ymin,ymax]\n",
    "\n",
    "with get_devnull() as devnull, redirect_stdout(devnull):\n",
    "    j = 0\n",
    "    for mod in model_sel:\n",
    "        p_mod=ms.mesa_profile(nova_dir,mod)\n",
    "        p_mass = p_mod.get('mass')\n",
    "        mass = 1e5*(p_mass-m_bot)\n",
    "        p_pp = p_mod.get('pp')\n",
    "        p_cno = p_mod.get('cno')\n",
    "        semilogy(mass,p_pp,color=ut.linestylecb(j)[2],\\\n",
    "             linestyle=ut.linestylecb(j)[0],label='model '+str(mod))\n",
    "        j += 1\n",
    "    \n",
    "    plot(xx,yy,'k--')\n",
    "    xlim(0.0,xmax)\n",
    "    ylim(ymin,ymax)\n",
    "    xlabel('$(M_r-$'+str(m_bot)+'$)\\\\times 10^5\\ (M_\\odot)$')\n",
    "    ylabel('$\\\\epsilon_\\mathrm{pp}\\ (\\mathrm{erg\\,s}^{-1}\\mathrm{\\,g}^{-1})$')\n",
    "    legend(frameon=False,fontsize=8,loc=1)\n",
    "    show()\n",
    "    #plt.savefig(\"/user/scratch14_wendi3/dpa/nova_framework_astrohub/co_nova/co_nova_plots/eps_pp.pdf\")"
   ]
  },
  {
   "cell_type": "code",
   "execution_count": 15,
   "metadata": {},
   "outputs": [
    {
     "data": {
      "application/vnd.jupyter.widget-view+json": {
       "model_id": "f21d0d52bcf64be393dcdf88f1daff76",
       "version_major": 2,
       "version_minor": 0
      },
      "text/plain": [
       "Canvas(toolbar=Toolbar(toolitems=[('Home', 'Reset original view', 'home', 'home'), ('Back', 'Back to previous …"
      ]
     },
     "metadata": {},
     "output_type": "display_data"
    }
   ],
   "source": [
    "# plot specific (per gram) energy production rate in the CNO cycle\n",
    "\n",
    "ifig=ifig+1;close(ifig);fig=figure(ifig)\n",
    "size=8\n",
    "fig.canvas.layout.height = str(0.9*size)+'in'   # This is a hack to prevent ipympl\n",
    "fig.canvas.layout.width  = str(1.1*size)+'in'   # to adjust horizontal figure size\n",
    "\n",
    "ymin = 1e-3\n",
    "ymax = 1e17\n",
    "yy = [ymin,ymax]\n",
    "\n",
    "with get_devnull() as devnull, redirect_stdout(devnull):\n",
    "    j = 0\n",
    "    for mod in model_sel:\n",
    "        p_mod=ms.mesa_profile(nova_dir,mod)\n",
    "        p_mass = p_mod.get('mass')\n",
    "        mass = 1e5*(p_mass-m_bot)\n",
    "        p_cno = p_mod.get('cno')\n",
    "        semilogy(mass,p_cno,color=ut.linestylecb(j)[2],\\\n",
    "             linestyle=ut.linestylecb(j)[0],label='model '+str(mod))\n",
    "        j += 1\n",
    "    \n",
    "    plot(xx,yy,'k--')\n",
    "    xlim(0.0,xmax)\n",
    "    ylim(ymin,ymax)\n",
    "    xlabel('$(M_r-$'+str(m_bot)+'$)\\\\times 10^5\\ (M_\\odot)$')\n",
    "    ylabel('$\\\\epsilon_\\mathrm{CNO}\\ (\\mathrm{erg\\,s}^{-1}\\mathrm{\\,g}^{-1})$')\n",
    "    legend(frameon=False,fontsize=8,loc=1)\n",
    "    show()\n",
    "    #plt.savefig(\"/user/scratch14_wendi3/dpa/nova_framework_astrohub/co_nova/co_nova_plots/eps_cno.pdf\")"
   ]
  },
  {
   "cell_type": "code",
   "execution_count": 16,
   "metadata": {},
   "outputs": [
    {
     "data": {
      "application/vnd.jupyter.widget-view+json": {
       "model_id": "4f53164c8f134467bcdbe1da804f9799",
       "version_major": 2,
       "version_minor": 0
      },
      "text/plain": [
       "Canvas(toolbar=Toolbar(toolitems=[('Home', 'Reset original view', 'home', 'home'), ('Back', 'Back to previous …"
      ]
     },
     "metadata": {},
     "output_type": "display_data"
    }
   ],
   "source": [
    "# plot convective velocity (in m/s)\n",
    "\n",
    "ifig=ifig+1;close(ifig);fig=figure(ifig)\n",
    "size=8\n",
    "fig.canvas.layout.height = str(0.9*size)+'in'   # This is a hack to prevent ipympl\n",
    "fig.canvas.layout.width  = str(1.1*size)+'in'   # to adjust horizontal figure size\n",
    "\n",
    "ymin = 4\n",
    "ymax = 8\n",
    "yy = [ymin,ymax]\n",
    "\n",
    "with get_devnull() as devnull, redirect_stdout(devnull):\n",
    "    j = 0\n",
    "    for mod in model_sel:\n",
    "        p_mod=ms.mesa_profile(nova_dir,mod)\n",
    "        p_mass = p_mod.get('mass')\n",
    "        mass = 1e5*(p_mass-m_bot)\n",
    "        p_logV = p_mod.get('log_conv_vel')\n",
    "        plot(mass,p_logV,color=ut.linestylecb(j)[2],\\\n",
    "             linestyle=ut.linestylecb(j)[0],label='model '+str(mod))\n",
    "    \n",
    "        j += 1\n",
    "    \n",
    "    plot(xx,yy,'k--')\n",
    "    xlim(0.0,xmax)\n",
    "    ylim(ymin,ymax)\n",
    "    xlabel('$(M_r-$'+str(m_bot)+'$)\\\\times 10^5\\ (M_\\odot)$')\n",
    "    ylabel('$\\log_{10}\\,V_\\mathrm{conv}\\ (\\mathrm{cm\\,s}^{-1})$')\n",
    "    legend(frameon=False,fontsize=8)\n",
    "    show()\n",
    "    #plt.savefig(\"/user/scratch14_wendi3/dpa/nova_framework_astrohub/co_nova/co_nova_plots/conv_velocity.pdf\")"
   ]
  },
  {
   "cell_type": "code",
   "execution_count": 17,
   "metadata": {},
   "outputs": [
    {
     "data": {
      "application/vnd.jupyter.widget-view+json": {
       "model_id": "b2827c9549844f7ca053ec85074bcf95",
       "version_major": 2,
       "version_minor": 0
      },
      "text/plain": [
       "Canvas(toolbar=Toolbar(toolitems=[('Home', 'Reset original view', 'home', 'home'), ('Back', 'Back to previous …"
      ]
     },
     "metadata": {},
     "output_type": "display_data"
    }
   ],
   "source": [
    "# plot convective diffusion coefficient (in cm**2/s)\n",
    "\n",
    "ifig=ifig+1;close(ifig);fig=figure(ifig)\n",
    "size=8\n",
    "fig.canvas.layout.height = str(0.9*size)+'in'   # This is a hack to prevent ipympl\n",
    "fig.canvas.layout.width  = str(1.1*size)+'in'   # to adjust horizontal figure size\n",
    "\n",
    "ymin = 10\n",
    "ymax = 16\n",
    "yy = [ymin,ymax]\n",
    "\n",
    "with get_devnull() as devnull, redirect_stdout(devnull):\n",
    "    j = 0\n",
    "    for mod in model_sel:\n",
    "        p_mod=ms.mesa_profile(nova_dir,mod)\n",
    "        p_mass = p_mod.get('mass')\n",
    "        mass = 1e5*(p_mass-m_bot)\n",
    "        p_logD = p_mod.get('log_D_mix')\n",
    "        plot(mass,p_logD,color=ut.linestylecb(j)[2],\\\n",
    "             linestyle=ut.linestylecb(j)[0],label='model '+str(mod))\n",
    "        j += 1\n",
    "    \n",
    "    plot(xx,yy,'k--')\n",
    "    xlim(0.0,xmax)\n",
    "    ylim(ymin,ymax)\n",
    "    xlabel('$(M_r-$'+str(m_bot)+'$)\\\\times 10^5\\ (M_\\odot)$')\n",
    "    ylabel('$\\log_{10}\\,D_\\mathrm{conv}\\ (\\mathrm{cm}^2\\,\\mathrm{s}^{-1})$')\n",
    "    legend(frameon=False,fontsize=8)\n",
    "    show()\n",
    "    #plt.savefig(\"/user/scratch14_wendi3/dpa/nova_framework_astrohub/co_nova/co_nova_plots/conv_diff_coeff.pdf\")"
   ]
  },
  {
   "cell_type": "code",
   "execution_count": 18,
   "metadata": {},
   "outputs": [
    {
     "data": {
      "application/vnd.jupyter.widget-view+json": {
       "model_id": "fbee2dcb378c432583c8b0e0fbf7d923",
       "version_major": 2,
       "version_minor": 0
      },
      "text/plain": [
       "Canvas(toolbar=Toolbar(toolitems=[('Home', 'Reset original view', 'home', 'home'), ('Back', 'Back to previous …"
      ]
     },
     "metadata": {},
     "output_type": "display_data"
    }
   ],
   "source": [
    "# plot radius profiles\n",
    "\n",
    "ifig=ifig+1;close(ifig);fig=figure(ifig)\n",
    "size=8\n",
    "fig.canvas.layout.height = str(0.9*size)+'in'   # This is a hack to prevent ipympl\n",
    "fig.canvas.layout.width  = str(1.1*size)+'in'   # to adjust horizontal figure size\n",
    "\n",
    "ymin = -2.5\n",
    "ymax = 1\n",
    "yy = [ymin,ymax]\n",
    "\n",
    "with get_devnull() as devnull, redirect_stdout(devnull):\n",
    "    j = 0\n",
    "    for mod in model_sel:\n",
    "        p_mod=ms.mesa_profile(nova_dir,mod)\n",
    "        p_mass = p_mod.get('mass')\n",
    "        mass = 1e5*(p_mass-m_bot)\n",
    "        p_logD = p_mod.get('logR')\n",
    "        plot(mass,p_logD,color=ut.linestylecb(j)[2],\\\n",
    "             linestyle=ut.linestylecb(j)[0],label='model '+str(mod))\n",
    "        j += 1\n",
    "    \n",
    "    plot(xx,yy,'k--')\n",
    "    xlim(0.0,xmax)\n",
    "    ylim(ymin,ymax)\n",
    "    xlabel('$(M_r-$'+str(m_bot)+'$)\\\\times 10^4\\ (M_\\odot)$')\n",
    "    ylabel('$\\log_{10}\\,(r/R_\\odot)$')\n",
    "    legend(frameon=False,fontsize=8) \n",
    "    show()\n",
    "    #plt.savefig(\"/user/scratch14_wendi3/dpa/nova_framework_astrohub/co_nova/co_nova_plots/radius.pdf\")"
   ]
  },
  {
   "cell_type": "code",
   "execution_count": null,
   "metadata": {},
   "outputs": [],
   "source": []
  }
 ],
 "metadata": {
  "kernelspec": {
   "display_name": "Python 3",
   "language": "python",
   "name": "python3"
  },
  "language_info": {
   "codemirror_mode": {
    "name": "ipython",
    "version": 3
   },
   "file_extension": ".py",
   "mimetype": "text/x-python",
   "name": "python",
   "nbconvert_exporter": "python",
   "pygments_lexer": "ipython3",
   "version": "3.6.8"
  }
 },
 "nbformat": 4,
 "nbformat_minor": 4
}
